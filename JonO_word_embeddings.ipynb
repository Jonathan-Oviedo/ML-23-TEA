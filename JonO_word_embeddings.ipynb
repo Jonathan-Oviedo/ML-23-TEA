{
  "cells": [
    {
      "cell_type": "markdown",
      "metadata": {
        "id": "view-in-github",
        "colab_type": "text"
      },
      "source": [
        "<a href=\"https://colab.research.google.com/github/Jonathan-Oviedo/ML-23-TEA/blob/Labs/JonO_word_embeddings.ipynb\" target=\"_parent\"><img src=\"https://colab.research.google.com/assets/colab-badge.svg\" alt=\"Open In Colab\"/></a>"
      ]
    },
    {
      "cell_type": "code",
      "execution_count": 1,
      "metadata": {
        "id": "L8bIz-dx6t3l",
        "colab": {
          "base_uri": "https://localhost:8080/",
          "height": 36
        },
        "outputId": "4d38d877-80bb-4090-bc9b-ce36241abfba"
      },
      "outputs": [
        {
          "output_type": "execute_result",
          "data": {
            "text/plain": [
              "'2.12.0'"
            ],
            "application/vnd.google.colaboratory.intrinsic+json": {
              "type": "string"
            }
          },
          "metadata": {},
          "execution_count": 1
        }
      ],
      "source": [
        "import keras\n",
        "keras.__version__   "
      ]
    },
    {
      "cell_type": "markdown",
      "metadata": {
        "id": "fcwCWVoR6t3q"
      },
      "source": [
        "# Using word embeddings\n",
        "![](https://raw.githubusercontent.com/zacharski/ml-class/master/labs/pics/wordEmbeddingsPic.png)\n",
        "#\n",
        "\n",
        "## Meaning\n",
        "For hundreds of years linguists have been investigating how to encode the semantic information of a word. Some believe that there is a universal mental concept, for example `MOON`, with some universal representation in our brains that gets represented in English as *moon*, in Uyghur as ئاي, as *Hanhepi wi* in Lakota, and as \n",
        "月 in Japanese. It is also believed that  concepts such as `MOON` and `SUN` share some common semantic features. Similar words would cluster together in semantic space. For example, moon, sun, Mars, Neptune, the Milky Way Galaxy seem to have some similarities and form a group as does a group we could label domestic animals that might include horses, dogs, and cats, which in turn are different from wild animals. So words like *dog*, *cat*, *horse*, have, as part of their semantic meaning, some feature that is the same among these words  and that feature is not present in the representations for the words *moon* or *sun*. \n",
        "\n",
        "We might consider doing this by hand. For example, consider the words:\n",
        "\n",
        "* astronaut\n",
        "* cat\n",
        "* chair\n",
        "* dog\n",
        "* donkey\n",
        "* owl\n",
        "\n",
        "We might represent the semantic closeness of the words by distance. So dog and cat are the most similar:\n",
        "\n",
        "![](https://raw.githubusercontent.com/zacharski/ml-class/master/labs/pics/semantics2.png)\n",
        "\n",
        "From there we can decide on a list of semantic features and represent each word as a collection of these features, \n",
        "\n",
        "![](https://raw.githubusercontent.com/zacharski/ml-class/master/labs/pics/semantics3.png) \n",
        "\n",
        "As you can imagine, coming up with this feature list, and then labeling each word, is extremely difficult. Linguists have been struggling with this for centuries.\n",
        "\n",
        "But we can have a computer do it.\n",
        "\n",
        "\n",
        "## Latent Features\n",
        "Latent features are simply features that are hidden---we don't know what they are but we know words share some features. These semantic features impact how a word occurs in different contexts. \n",
        "\n",
        "\n",
        "For example, it would be rare for a verb to follow the word *the*:\n",
        "\n",
        "* *The says ...\n",
        "* *The haven't\n",
        "* *The see\n",
        "\n",
        "(Here the asterisk * represents a sentence most people would find odd). And again, this is just probability. Certainly, you can construct sentences that have these sequences that are perfectly fine (*The says who questioning method .*, *Just experimenting with the Says Who basics on myself or with clients*, *The haven't had time excuse*). But the likelihood of the word *says* following *the* is extremely rare. \n",
        "\n",
        "Similarly, sentences like\n",
        "\n",
        "* I fed my ___\n",
        "* I fed my dog\n",
        "* I fed my poodle\n",
        "* I fed my cat\n",
        "* I fed my horse\n",
        "\n",
        "occur much more frequently than\n",
        "\n",
        "* I fed my ___\n",
        "* I fed my moon\n",
        "* I fed my sun\n",
        "* I fed my Neptune\n",
        "* I fed my Milky Way Galaxy.\n",
        "\n",
        "So, we come to the quote by Firth:\n",
        "\n",
        "> You shall know a word by the company it keeps - John Rupert Firth\n",
        "\n",
        "The idea is a simple one and is based on counting and statistics. If we find a bunch of words that occur in the same context, we can assume that they share some semantic feature. And, if we didn't know a language we could still do this analysis. Considier:\n",
        "\n",
        "* le di de comer a mi gato\n",
        "* le di de comer a mi perro\n",
        "* le di de comer a mi burro\n",
        "* le di de comer a mi caballo\n",
        "\n",
        "* el perro comió la carne\n",
        "* el burro comió el grano\n",
        "* el gato comió pescado en el almuerzo\n",
        "* el caballo comio la hierba\n",
        "\n",
        "> NOTE: These sentences may not be correct Spanish sentence as I used Google Translate. If you are a Spanish speaker and notice an error, please let me know.\n",
        "\n",
        "In these examples, since the words *gato, perro, burro, cabello*, occur in the same contexts we can assume they share some semantic feature.  We wouldn't know that the feature is animal but we would know that they share some feature, let's call it x29. This, as we talked about is a latent feature.\n",
        "\n",
        "Now, without going into any detail whatsoever, we can imagine giving an algorithm a gigaword corpus and telling it to come up with 100 semantic features that explain the distribution of the words in the corpus. \n",
        "\n",
        "That is what **word embeddings** are in their simplist form. \n",
        "\n",
        "\n",
        "### Sparse vs. dense dimensions.\n",
        "In our previous work with text, we determined the size of our vocabulary, say 10,000 words, and created a vector where each column represented a different word in the vocabulary. So let's say column 1 was *a* and 2 *the*, and 7,253 *computer* and so on. If we encode a sentence that starts *the computer*, the word *the* would be represented by a '1' in column 1 and zeroes in the other 9,999 columns. The word *computer* would have a '1' in column 7,253 and zeroes in the other 9,999. That is an awful lot of zeroes, and this vector is called **sparse**. This looks like the first image below, where the blue square represents a '1' and the black represents all zeroes. \n",
        "\n"
      ]
    },
    {
      "cell_type": "markdown",
      "metadata": {
        "id": "cH3xchp86t3r"
      },
      "source": [
        "![word embeddings vs. one hot encoding](https://raw.githubusercontent.com/zacharski/ml-class/master/labs/pics/wordEmbeddings.png)"
      ]
    },
    {
      "cell_type": "markdown",
      "metadata": {
        "id": "M3l4_QvP6t3r"
      },
      "source": [
        "With word embeddings we determine a feature size, 100, 200, 300 dimensions, and then each word is represented by a vector with values between 0 and 1. This is shown in the dense diagram above where the different colors represent different fractional values. \n",
        "\n",
        "In the one-hot-encoding method, each word was represented by a sparse vector the size of the vocabulary and vectors of 10,000 or 20,000 entries are not uncommon. In contrast, in the word embedding method, each word is represented by a dense vector of only 100 or 300 values. Thus, in the word embedding approach information is packed into a much smaller vector. \n",
        "\n",
        "In addition, in the one-hot encoding method there were no relationships between words. For example, *poodle* might be word 9,712 and *dog* 1,797, and they were treated completely separately. In the word embedding approach, the similarities of *poodle* and *dog* are represented within the word embeddings. \n",
        "\n",
        "\n",
        "#### Once again for emphasis\n",
        "While the vectors obtained through one-hot encoding are binary, sparse (mostly made of zeros) and very high-dimensional (same dimensionality as the \n",
        "number of words in the vocabulary), \"word embeddings\" are low-dimensional floating point vectors \n",
        "\n",
        "\n",
        "#### Note\n",
        "The following notebook is a remix of one by Francis Cholet (see the end of the notebook for more information)\n",
        "\n",
        "\n",
        "### Obtaining word embeddings\n",
        "There are two ways to obtain word embeddings:\n",
        "\n",
        "* Learn word embeddings jointly with the main task you care about (e.g. document classification or sentiment prediction). \n",
        "In this setup, you would start with random word vectors, then learn your word vectors in the same way that you learn the weights of a neural network.\n",
        "* Load into your model word embeddings that were pre-computed using a different machine learning task than the one you are trying to solve. \n",
        "These are called \"pre-trained word embeddings\". \n",
        "\n",
        "Let's take a look at both."
      ]
    },
    {
      "cell_type": "markdown",
      "metadata": {
        "id": "NbhGdm0e6t3s"
      },
      "source": [
        "## Learning word embeddings with the `Embedding` layer\n",
        "\n",
        "\n",
        "The simplest way to associate a dense vector to a word would be to pick the vector at random. For example, we could assign binary numbers to each word randomly.\n",
        "\n",
        "index | binary | word\n",
        "--: | --: | :---\n",
        "1 | 00000001 | dog\n",
        "2 | 00000010 | moon\n",
        "3 | 00000011 | chair\n",
        "... | ... | ...\n",
        "238 | 11101110 | standard poodle\n",
        "239 | 11101111 | smart phone\n",
        "\n",
        "\n",
        "The problem with this approach is that the \n",
        "resulting embedding space would have no structure. For instance, the words \"accurate\" and \"exact\" may end up with completely different \n",
        "embeddings, even though they are interchangeable in most sentences. It would be very difficult for a deep neural network to make sense of \n",
        "such a noisy, unstructured embedding space. \n",
        "\n",
        "To get a bit more abstract: the geometric relationships between word vectors should reflect the semantic relationships between these words. \n",
        "Word embeddings are meant to map human language into a geometric space. For instance, in a reasonable embedding space, we would expect \n",
        "synonyms to be embedded into similar word vectors, and in general we would expect the geometric distance (e.g. L2 distance) between any two \n",
        "word vectors to relate to the semantic distance of the associated words (words meaning very different things would be embedded to points \n",
        "far away from each other, while related words would be closer). Even beyond mere distance, we may want specific __directions__ in the \n",
        "embedding space to be meaningful. \n",
        "\n",
        "\n",
        "\n",
        "In real-world word embedding spaces, common examples of meaningful geometric transformations are \"gender vectors\" and \"plural vector\". For \n",
        "instance, by adding a \"female vector\" to the vector \"king\", one obtain the vector \"queen\". By adding a \"plural vector\", one obtain \"kings\". \n",
        "Word embedding spaces typically feature thousands of such interpretable and potentially useful vectors.\n",
        "\n",
        "Is there some \"ideal\" word embedding space that would perfectly map human language and could be used for any natural language processing \n",
        "task? Possibly, but in any case, we have yet to compute anything of the sort. Also, there isn't such a thing as \"human language\", there are \n",
        "many different languages and they are not isomorphic, as a language is the reflection of a specific culture and a specific context. But more \n",
        "pragmatically, what makes a good word embedding space depends heavily on your task: the perfect word embedding space for an \n",
        "English-language movie review sentiment analysis model may look very different from the perfect embedding space for an English-language \n",
        "legal document classification model, because the importance of certain semantic relationships varies from task to task.\n",
        "\n",
        "It is thus reasonable to __learn__ a new embedding space with every new task. Thankfully, backpropagation makes this really easy, and Keras makes it \n",
        "even easier. It's just about learning the weights of a layer: the `Embedding` layer."
      ]
    },
    {
      "cell_type": "code",
      "execution_count": 2,
      "metadata": {
        "id": "81dFNJsz6t3s"
      },
      "outputs": [],
      "source": [
        "from keras.layers import Embedding\n",
        "\n",
        "# The Embedding layer takes at least two arguments:\n",
        "# the number of possible tokens, here 1000 (1 + maximum word index),\n",
        "# and the dimensionality of the embeddings, here 64.\n",
        "embedding_layer = Embedding(1000, 64)"
      ]
    },
    {
      "cell_type": "markdown",
      "metadata": {
        "id": "OUqdtrTj6t3v"
      },
      "source": [
        "\n",
        "The `Embedding` layer is best understood as a dictionary mapping integer indices (which stand for specific words) to dense vectors. It takes \n",
        "as input integers, it looks up these integers into an internal dictionary, and it returns the associated vectors. It's effectively a dictionary lookup."
      ]
    },
    {
      "cell_type": "markdown",
      "metadata": {
        "id": "-tPFE8U-6t3w"
      },
      "source": [
        "\n",
        "The `Embedding` layer takes as input a 2D tensor of integers, of shape `(samples, sequence_length)`, where each entry is a sequence of \n",
        "integers. So, for example, we may have a dataset of 10,000 tweets so that 10,000 is the `samples` and each sample consists of a sequence of integers representing the words in the tweet. It can embed sequences of variable lengths, so for instance we could feed into our embedding layer above batches that could have \n",
        "shapes `(32, 10)` (batch of 32 sequences of length 10) or `(64, 15)` (batch of 64 sequences of length 15). All sequences in a batch must \n",
        "have the same length, though (since we need to pack them into a single tensor), so sequences that are shorter than others should be padded \n",
        "with zeros, and sequences that are longer should be truncated.\n",
        "\n",
        "This layer returns a 3D floating point tensor, of shape `(samples, sequence_length, embedding_dimensionality)`. \n",
        "\n",
        "When you instantiate an `Embedding` layer, its weights (its internal dictionary of token vectors) are initially random, just like with any \n",
        "other layer. During training, these word vectors will be gradually adjusted via backpropagation, structuring the space into something that the \n",
        "downstream model can exploit. Once fully trained, your embedding space will show a lot of structure -- a kind of structure specialized for \n",
        "the specific problem you were training your model for.\n",
        "\n",
        "Let's apply this idea to the IMDB movie review sentiment prediction task that you are already familiar with. Let's quickly prepare \n",
        "the data. We will restrict the movie reviews to the top 20,000 most common words \n",
        "and cut the reviews after only 50 words. Our network will simply learn 50-dimensional embeddings for each of the 20,000 words, turn the \n",
        "input integer sequences (2D integer tensor) into embedded sequences (3D float tensor), flatten the tensor to 2D, and train a single `Dense` \n",
        "layer on top for classification."
      ]
    },
    {
      "cell_type": "code",
      "execution_count": 3,
      "metadata": {
        "id": "h3ORYjSkkdo9",
        "colab": {
          "base_uri": "https://localhost:8080/"
        },
        "outputId": "190b9c6a-5707-480e-9ce0-dec987fe07e2"
      },
      "outputs": [
        {
          "output_type": "stream",
          "name": "stdout",
          "text": [
            "--2023-04-28 08:53:28--  http://zacharski.org/files/courses/cs419/imdb.zip\n",
            "Resolving zacharski.org (zacharski.org)... 198.199.65.227\n",
            "Connecting to zacharski.org (zacharski.org)|198.199.65.227|:80... connected.\n",
            "HTTP request sent, awaiting response... 200 OK\n",
            "Length: 26559010 (25M) [application/zip]\n",
            "Saving to: ‘imdb.zip’\n",
            "\n",
            "imdb.zip            100%[===================>]  25.33M  54.2MB/s    in 0.5s    \n",
            "\n",
            "2023-04-28 08:53:29 (54.2 MB/s) - ‘imdb.zip’ saved [26559010/26559010]\n",
            "\n"
          ]
        }
      ],
      "source": [
        "!wget http://zacharski.org/files/courses/cs419/imdb.zip\n"
      ]
    },
    {
      "cell_type": "code",
      "execution_count": 4,
      "metadata": {
        "id": "Sc_HJW6lov9Q",
        "colab": {
          "base_uri": "https://localhost:8080/",
          "height": 423
        },
        "outputId": "3d949141-3921-49e1-e5dd-50dd0a84f094"
      },
      "outputs": [
        {
          "output_type": "execute_result",
          "data": {
            "text/plain": [
              "                                                  review sentiment\n",
              "0      One of the other reviewers has mentioned that ...  positive\n",
              "1      A wonderful little production. <br /><br />The...  positive\n",
              "2      I thought this was a wonderful way to spend ti...  positive\n",
              "3      Basically there's a family where a little boy ...  negative\n",
              "4      Petter Mattei's \"Love in the Time of Money\" is...  positive\n",
              "...                                                  ...       ...\n",
              "49995  I thought this movie did a down right good job...  positive\n",
              "49996  Bad plot, bad dialogue, bad acting, idiotic di...  negative\n",
              "49997  I am a Catholic taught in parochial elementary...  negative\n",
              "49998  I'm going to have to disagree with the previou...  negative\n",
              "49999  No one expects the Star Trek movies to be high...  negative\n",
              "\n",
              "[50000 rows x 2 columns]"
            ],
            "text/html": [
              "\n",
              "  <div id=\"df-84d01f53-58e6-49d7-8e6e-043e7d07c63c\">\n",
              "    <div class=\"colab-df-container\">\n",
              "      <div>\n",
              "<style scoped>\n",
              "    .dataframe tbody tr th:only-of-type {\n",
              "        vertical-align: middle;\n",
              "    }\n",
              "\n",
              "    .dataframe tbody tr th {\n",
              "        vertical-align: top;\n",
              "    }\n",
              "\n",
              "    .dataframe thead th {\n",
              "        text-align: right;\n",
              "    }\n",
              "</style>\n",
              "<table border=\"1\" class=\"dataframe\">\n",
              "  <thead>\n",
              "    <tr style=\"text-align: right;\">\n",
              "      <th></th>\n",
              "      <th>review</th>\n",
              "      <th>sentiment</th>\n",
              "    </tr>\n",
              "  </thead>\n",
              "  <tbody>\n",
              "    <tr>\n",
              "      <th>0</th>\n",
              "      <td>One of the other reviewers has mentioned that ...</td>\n",
              "      <td>positive</td>\n",
              "    </tr>\n",
              "    <tr>\n",
              "      <th>1</th>\n",
              "      <td>A wonderful little production. &lt;br /&gt;&lt;br /&gt;The...</td>\n",
              "      <td>positive</td>\n",
              "    </tr>\n",
              "    <tr>\n",
              "      <th>2</th>\n",
              "      <td>I thought this was a wonderful way to spend ti...</td>\n",
              "      <td>positive</td>\n",
              "    </tr>\n",
              "    <tr>\n",
              "      <th>3</th>\n",
              "      <td>Basically there's a family where a little boy ...</td>\n",
              "      <td>negative</td>\n",
              "    </tr>\n",
              "    <tr>\n",
              "      <th>4</th>\n",
              "      <td>Petter Mattei's \"Love in the Time of Money\" is...</td>\n",
              "      <td>positive</td>\n",
              "    </tr>\n",
              "    <tr>\n",
              "      <th>...</th>\n",
              "      <td>...</td>\n",
              "      <td>...</td>\n",
              "    </tr>\n",
              "    <tr>\n",
              "      <th>49995</th>\n",
              "      <td>I thought this movie did a down right good job...</td>\n",
              "      <td>positive</td>\n",
              "    </tr>\n",
              "    <tr>\n",
              "      <th>49996</th>\n",
              "      <td>Bad plot, bad dialogue, bad acting, idiotic di...</td>\n",
              "      <td>negative</td>\n",
              "    </tr>\n",
              "    <tr>\n",
              "      <th>49997</th>\n",
              "      <td>I am a Catholic taught in parochial elementary...</td>\n",
              "      <td>negative</td>\n",
              "    </tr>\n",
              "    <tr>\n",
              "      <th>49998</th>\n",
              "      <td>I'm going to have to disagree with the previou...</td>\n",
              "      <td>negative</td>\n",
              "    </tr>\n",
              "    <tr>\n",
              "      <th>49999</th>\n",
              "      <td>No one expects the Star Trek movies to be high...</td>\n",
              "      <td>negative</td>\n",
              "    </tr>\n",
              "  </tbody>\n",
              "</table>\n",
              "<p>50000 rows × 2 columns</p>\n",
              "</div>\n",
              "      <button class=\"colab-df-convert\" onclick=\"convertToInteractive('df-84d01f53-58e6-49d7-8e6e-043e7d07c63c')\"\n",
              "              title=\"Convert this dataframe to an interactive table.\"\n",
              "              style=\"display:none;\">\n",
              "        \n",
              "  <svg xmlns=\"http://www.w3.org/2000/svg\" height=\"24px\"viewBox=\"0 0 24 24\"\n",
              "       width=\"24px\">\n",
              "    <path d=\"M0 0h24v24H0V0z\" fill=\"none\"/>\n",
              "    <path d=\"M18.56 5.44l.94 2.06.94-2.06 2.06-.94-2.06-.94-.94-2.06-.94 2.06-2.06.94zm-11 1L8.5 8.5l.94-2.06 2.06-.94-2.06-.94L8.5 2.5l-.94 2.06-2.06.94zm10 10l.94 2.06.94-2.06 2.06-.94-2.06-.94-.94-2.06-.94 2.06-2.06.94z\"/><path d=\"M17.41 7.96l-1.37-1.37c-.4-.4-.92-.59-1.43-.59-.52 0-1.04.2-1.43.59L10.3 9.45l-7.72 7.72c-.78.78-.78 2.05 0 2.83L4 21.41c.39.39.9.59 1.41.59.51 0 1.02-.2 1.41-.59l7.78-7.78 2.81-2.81c.8-.78.8-2.07 0-2.86zM5.41 20L4 18.59l7.72-7.72 1.47 1.35L5.41 20z\"/>\n",
              "  </svg>\n",
              "      </button>\n",
              "      \n",
              "  <style>\n",
              "    .colab-df-container {\n",
              "      display:flex;\n",
              "      flex-wrap:wrap;\n",
              "      gap: 12px;\n",
              "    }\n",
              "\n",
              "    .colab-df-convert {\n",
              "      background-color: #E8F0FE;\n",
              "      border: none;\n",
              "      border-radius: 50%;\n",
              "      cursor: pointer;\n",
              "      display: none;\n",
              "      fill: #1967D2;\n",
              "      height: 32px;\n",
              "      padding: 0 0 0 0;\n",
              "      width: 32px;\n",
              "    }\n",
              "\n",
              "    .colab-df-convert:hover {\n",
              "      background-color: #E2EBFA;\n",
              "      box-shadow: 0px 1px 2px rgba(60, 64, 67, 0.3), 0px 1px 3px 1px rgba(60, 64, 67, 0.15);\n",
              "      fill: #174EA6;\n",
              "    }\n",
              "\n",
              "    [theme=dark] .colab-df-convert {\n",
              "      background-color: #3B4455;\n",
              "      fill: #D2E3FC;\n",
              "    }\n",
              "\n",
              "    [theme=dark] .colab-df-convert:hover {\n",
              "      background-color: #434B5C;\n",
              "      box-shadow: 0px 1px 3px 1px rgba(0, 0, 0, 0.15);\n",
              "      filter: drop-shadow(0px 1px 2px rgba(0, 0, 0, 0.3));\n",
              "      fill: #FFFFFF;\n",
              "    }\n",
              "  </style>\n",
              "\n",
              "      <script>\n",
              "        const buttonEl =\n",
              "          document.querySelector('#df-84d01f53-58e6-49d7-8e6e-043e7d07c63c button.colab-df-convert');\n",
              "        buttonEl.style.display =\n",
              "          google.colab.kernel.accessAllowed ? 'block' : 'none';\n",
              "\n",
              "        async function convertToInteractive(key) {\n",
              "          const element = document.querySelector('#df-84d01f53-58e6-49d7-8e6e-043e7d07c63c');\n",
              "          const dataTable =\n",
              "            await google.colab.kernel.invokeFunction('convertToInteractive',\n",
              "                                                     [key], {});\n",
              "          if (!dataTable) return;\n",
              "\n",
              "          const docLinkHtml = 'Like what you see? Visit the ' +\n",
              "            '<a target=\"_blank\" href=https://colab.research.google.com/notebooks/data_table.ipynb>data table notebook</a>'\n",
              "            + ' to learn more about interactive tables.';\n",
              "          element.innerHTML = '';\n",
              "          dataTable['output_type'] = 'display_data';\n",
              "          await google.colab.output.renderOutput(dataTable, element);\n",
              "          const docLink = document.createElement('div');\n",
              "          docLink.innerHTML = docLinkHtml;\n",
              "          element.appendChild(docLink);\n",
              "        }\n",
              "      </script>\n",
              "    </div>\n",
              "  </div>\n",
              "  "
            ]
          },
          "metadata": {},
          "execution_count": 4
        }
      ],
      "source": [
        "import pandas as pd\n",
        "data = pd.read_csv('imdb.zip')\n",
        "data"
      ]
    },
    {
      "cell_type": "code",
      "execution_count": 5,
      "metadata": {
        "id": "dU805Bd7pAOO",
        "colab": {
          "base_uri": "https://localhost:8080/"
        },
        "outputId": "667ab57d-bc96-4a85-bf66-18deaf551ab9"
      },
      "outputs": [
        {
          "output_type": "execute_result",
          "data": {
            "text/plain": [
              "0        1\n",
              "1        1\n",
              "2        1\n",
              "3        0\n",
              "4        1\n",
              "        ..\n",
              "49995    1\n",
              "49996    0\n",
              "49997    0\n",
              "49998    0\n",
              "49999    0\n",
              "Name: sentiment, Length: 50000, dtype: int64"
            ]
          },
          "metadata": {},
          "execution_count": 5
        }
      ],
      "source": [
        "data_text = data.review\n",
        "data_label =data.sentiment\n",
        "data_label =  data['sentiment'].apply(lambda x: 1 if x == 'positive' else 0)\n",
        "data_label "
      ]
    },
    {
      "cell_type": "markdown",
      "metadata": {
        "id": "tvb9ry5-o_6u"
      },
      "source": [
        "### Converting words to integers\n",
        "The first step we will do is convert words represented as strings to integers\n",
        "\n",
        "We will use the Keras Tokenizer and specify the size of the vocabulary.\n",
        "\n",
        "* num_words: the maximum number of words to keep, based on word frequency. Only the most common num_words-1 words will be kept.\n"
      ]
    },
    {
      "cell_type": "code",
      "execution_count": 6,
      "metadata": {
        "id": "DB6KIHrZpBOk",
        "colab": {
          "base_uri": "https://localhost:8080/"
        },
        "outputId": "3970aa0b-533a-4238-a927-a97d58ca9ca4"
      },
      "outputs": [
        {
          "output_type": "execute_result",
          "data": {
            "text/plain": [
              "[27,\n",
              " 4,\n",
              " 1,\n",
              " 79,\n",
              " 2102,\n",
              " 45,\n",
              " 1072,\n",
              " 12,\n",
              " 100,\n",
              " 147,\n",
              " 39,\n",
              " 307,\n",
              " 3184,\n",
              " 398,\n",
              " 474,\n",
              " 26,\n",
              " 3195,\n",
              " 33,\n",
              " 23,\n",
              " 203,\n",
              " 14,\n",
              " 11,\n",
              " 6,\n",
              " 621,\n",
              " 48,\n",
              " 596,\n",
              " 16,\n",
              " 68,\n",
              " 7,\n",
              " 7,\n",
              " 1,\n",
              " 86,\n",
              " 148,\n",
              " 12,\n",
              " 3241,\n",
              " 68,\n",
              " 42,\n",
              " 3184,\n",
              " 13,\n",
              " 92,\n",
              " 5398,\n",
              " 2,\n",
              " 15115,\n",
              " 134,\n",
              " 4,\n",
              " 570,\n",
              " 60,\n",
              " 268,\n",
              " 8,\n",
              " 203,\n",
              " 36,\n",
              " 1,\n",
              " 661,\n",
              " 139,\n",
              " 1740,\n",
              " 68,\n",
              " 11,\n",
              " 6,\n",
              " 21,\n",
              " 3,\n",
              " 119,\n",
              " 15,\n",
              " 1,\n",
              " 7888,\n",
              " 2333,\n",
              " 38,\n",
              " 11469,\n",
              " 11,\n",
              " 119,\n",
              " 2595,\n",
              " 54,\n",
              " 5911,\n",
              " 16,\n",
              " 5510,\n",
              " 5,\n",
              " 1479,\n",
              " 376,\n",
              " 38,\n",
              " 570,\n",
              " 92,\n",
              " 6,\n",
              " 3804,\n",
              " 8,\n",
              " 1,\n",
              " 360,\n",
              " 356,\n",
              " 4,\n",
              " 1,\n",
              " 661,\n",
              " 7,\n",
              " 7,\n",
              " 9,\n",
              " 6,\n",
              " 433,\n",
              " 3184,\n",
              " 14,\n",
              " 12,\n",
              " 6,\n",
              " 1,\n",
              " 11648,\n",
              " 358,\n",
              " 5,\n",
              " 1,\n",
              " 15701,\n",
              " 6813,\n",
              " 2538,\n",
              " 1064,\n",
              " 9,\n",
              " 2711,\n",
              " 1421,\n",
              " 20,\n",
              " 538,\n",
              " 32,\n",
              " 4636,\n",
              " 2468,\n",
              " 4,\n",
              " 1,\n",
              " 1208,\n",
              " 117,\n",
              " 29,\n",
              " 1,\n",
              " 7017,\n",
              " 25,\n",
              " 2970,\n",
              " 11964,\n",
              " 2,\n",
              " 391,\n",
              " 34,\n",
              " 16740,\n",
              " 6,\n",
              " 21,\n",
              " 299,\n",
              " 20,\n",
              " 1,\n",
              " 4910,\n",
              " 7364,\n",
              " 538,\n",
              " 6,\n",
              " 344,\n",
              " 5,\n",
              " 106,\n",
              " 8161,\n",
              " 14813,\n",
              " 5050,\n",
              " 7889,\n",
              " 2453,\n",
              " 2,\n",
              " 51,\n",
              " 34,\n",
              " 327,\n",
              " 9106,\n",
              " 7365,\n",
              " 12486,\n",
              " 2,\n",
              " 8697,\n",
              " 23,\n",
              " 110,\n",
              " 225,\n",
              " 243,\n",
              " 7,\n",
              " 7,\n",
              " 10,\n",
              " 58,\n",
              " 131,\n",
              " 1,\n",
              " 280,\n",
              " 1324,\n",
              " 4,\n",
              " 1,\n",
              " 119,\n",
              " 6,\n",
              " 693,\n",
              " 5,\n",
              " 1,\n",
              " 192,\n",
              " 12,\n",
              " 9,\n",
              " 269,\n",
              " 117,\n",
              " 79,\n",
              " 276,\n",
              " 589,\n",
              " 3024,\n",
              " 834,\n",
              " 180,\n",
              " 1320,\n",
              " 4161,\n",
              " 15,\n",
              " 2523,\n",
              " 1243,\n",
              " 834,\n",
              " 1443,\n",
              " 834,\n",
              " 887,\n",
              " 3184,\n",
              " 149,\n",
              " 954,\n",
              " 183,\n",
              " 1,\n",
              " 86,\n",
              " 398,\n",
              " 10,\n",
              " 123,\n",
              " 210,\n",
              " 3241,\n",
              " 68,\n",
              " 14,\n",
              " 34,\n",
              " 1637,\n",
              " 9,\n",
              " 13,\n",
              " 2239,\n",
              " 10,\n",
              " 413,\n",
              " 131,\n",
              " 10,\n",
              " 13,\n",
              " 1592,\n",
              " 15,\n",
              " 9,\n",
              " 18,\n",
              " 14,\n",
              " 10,\n",
              " 287,\n",
              " 51,\n",
              " 10,\n",
              " 1417,\n",
              " 3,\n",
              " 1280,\n",
              " 15,\n",
              " 3184,\n",
              " 2,\n",
              " 189,\n",
              " 10168,\n",
              " 5,\n",
              " 1,\n",
              " 299,\n",
              " 2046,\n",
              " 4,\n",
              " 2150,\n",
              " 570,\n",
              " 21,\n",
              " 39,\n",
              " 570,\n",
              " 18,\n",
              " 7658,\n",
              " 7154,\n",
              " 5010,\n",
              " 13497,\n",
              " 26,\n",
              " 2983,\n",
              " 41,\n",
              " 15,\n",
              " 3,\n",
              " 6904,\n",
              " 13497,\n",
              " 504,\n",
              " 20,\n",
              " 642,\n",
              " 2,\n",
              " 76,\n",
              " 243,\n",
              " 16,\n",
              " 9,\n",
              " 69,\n",
              " 7598,\n",
              " 651,\n",
              " 710,\n",
              " 6904,\n",
              " 109,\n",
              " 662,\n",
              " 82,\n",
              " 1208,\n",
              " 19395,\n",
              " 693,\n",
              " 5,\n",
              " 65,\n",
              " 574,\n",
              " 4,\n",
              " 920,\n",
              " 2021,\n",
              " 38,\n",
              " 1208,\n",
              " 559,\n",
              " 147,\n",
              " 3184,\n",
              " 22,\n",
              " 200,\n",
              " 426,\n",
              " 3819,\n",
              " 16,\n",
              " 48,\n",
              " 6,\n",
              " 3314,\n",
              " 805,\n",
              " 1603,\n",
              " 43,\n",
              " 22,\n",
              " 67,\n",
              " 76,\n",
              " 8,\n",
              " 1228,\n",
              " 16,\n",
              " 125,\n",
              " 4103,\n",
              " 486]"
            ]
          },
          "metadata": {},
          "execution_count": 6
        }
      ],
      "source": [
        "from keras.preprocessing.text import Tokenizer\n",
        "tokenizer = Tokenizer(num_words = 20000)\n",
        "#build the word index\n",
        "tokenizer.fit_on_texts(data_text)\n",
        "# now convert the words to integers\n",
        "data_sequences = tokenizer.texts_to_sequences(data_text)\n",
        "data_sequences[0]"
      ]
    },
    {
      "cell_type": "markdown",
      "metadata": {
        "id": "y8zymRGLrOtA"
      },
      "source": [
        "Just for grins, let's convert an IMDB review back to text\n",
        "\n"
      ]
    },
    {
      "cell_type": "code",
      "execution_count": 7,
      "metadata": {
        "id": "b0SOKyfKrri7",
        "colab": {
          "base_uri": "https://localhost:8080/"
        },
        "outputId": "f9c4b6c1-88dc-4c04-e6d4-a230837ca20a"
      },
      "outputs": [
        {
          "output_type": "execute_result",
          "data": {
            "text/plain": [
              "[\"a wonderful little production br br the filming technique is very unassuming very old time bbc fashion and gives a comforting and sometimes sense of realism to the entire piece br br the actors are extremely well chosen michael sheen not only has got all the but he has all the voices down pat too you can truly see the seamless editing guided by the references to williams' diary entries not only is it well worth the watching but it is a written and performed piece a masterful production about one of the great master's of comedy and his life br br the realism really comes home with the little things the fantasy of the guard which rather than use the traditional techniques remains solid then disappears it plays on our knowledge and our senses particularly with the scenes concerning orton and and the sets particularly of their flat with every surface are terribly well done\"]"
            ]
          },
          "metadata": {},
          "execution_count": 7
        }
      ],
      "source": [
        "tokenizer.sequences_to_texts([data_sequences[1]])"
      ]
    },
    {
      "cell_type": "markdown",
      "metadata": {
        "id": "xAs2Yc6HvSya"
      },
      "source": [
        "### Recap.\n",
        "We stated we wanted the vocabulary size to be 20,000. This means that if we have a sentence like *xenophobic manifestations moved online* and *xenophobic* was not among the 20,000 most frequent words in the corpus, our encoding of that sentence would skip that word. *xenophobic manifestations moved online* becomes *manifestations moved online*\n",
        "\n",
        "Now let's do a bit more preprocessing and truncate each review after 50 words (if the review is shorter than 50 words we will pad it with blank words):"
      ]
    },
    {
      "cell_type": "code",
      "execution_count": 8,
      "metadata": {
        "id": "lHpnZnf-6t3w",
        "colab": {
          "base_uri": "https://localhost:8080/"
        },
        "outputId": "b7d87292-89c2-4398-8515-1c241bfebb42"
      },
      "outputs": [
        {
          "output_type": "execute_result",
          "data": {
            "text/plain": [
              "array([  504,    20,   642,     2,    76,   243,    16,     9,    69,\n",
              "        7598,   651,   710,  6904,   109,   662,    82,  1208, 19395,\n",
              "         693,     5,    65,   574,     4,   920,  2021,    38,  1208,\n",
              "         559,   147,  3184,    22,   200,   426,  3819,    16,    48,\n",
              "           6,  3314,   805,  1603,    43,    22,    67,    76,     8,\n",
              "        1228,    16,   125,  4103,   486], dtype=int32)"
            ]
          },
          "metadata": {},
          "execution_count": 8
        }
      ],
      "source": [
        "# Cut texts after this number of words \n",
        "# (among top max_features most common words)\n",
        "maxlen = 50\n",
        "\n",
        "\n",
        "from keras.utils import pad_sequences\n",
        "\n",
        "\n",
        "# This turns our lists of integers\n",
        "# into a 2D integer tensor of shape `(samples, maxlen)`\n",
        "data50 = pad_sequences(data_sequences, maxlen=maxlen)\n",
        "data50[0]"
      ]
    },
    {
      "cell_type": "markdown",
      "metadata": {
        "id": "zhLEQdtOwrOC"
      },
      "source": [
        "# Now let's divide the data into training and testing\n",
        "\n"
      ]
    },
    {
      "cell_type": "code",
      "execution_count": 9,
      "metadata": {
        "id": "GeKwllN9w0dR",
        "colab": {
          "base_uri": "https://localhost:8080/"
        },
        "outputId": "15d4acbb-7ee3-4bf5-d03e-b96e4d11ed93"
      },
      "outputs": [
        {
          "output_type": "execute_result",
          "data": {
            "text/plain": [
              "33553    1\n",
              "9427     1\n",
              "199      0\n",
              "12447    1\n",
              "39489    0\n",
              "        ..\n",
              "28567    0\n",
              "25079    1\n",
              "18707    1\n",
              "15200    0\n",
              "5857     1\n",
              "Name: sentiment, Length: 10000, dtype: int64"
            ]
          },
          "metadata": {},
          "execution_count": 9
        }
      ],
      "source": [
        "from sklearn.model_selection import train_test_split\n",
        "train50, test50, train_labels, test_labels = train_test_split(data50, data_label, test_size = 0.2, random_state=42)\n",
        "test_labels"
      ]
    },
    {
      "cell_type": "markdown",
      "metadata": {
        "id": "WYl2Y9WAxV94"
      },
      "source": [
        "# Time to build the model\n",
        "![](https://raw.githubusercontent.com/zacharski/ml-class/master/labs/pics/theModel.png)\n",
        "So far we have:\n",
        "\n",
        "* a 10,000 word vocabulary\n",
        "* each review is limited to 50 words\n",
        "\n",
        "And we want to create a word embedding with 50 features.\n",
        "\n",
        "(Those 50 are completely separate parameters) The 50 word limit is not related to the 50 features.)\n",
        "\n",
        "Let's create a network with an embedding layer\n"
      ]
    },
    {
      "cell_type": "code",
      "execution_count": 10,
      "metadata": {
        "id": "jDdDVHVb6t3z",
        "colab": {
          "base_uri": "https://localhost:8080/"
        },
        "outputId": "f1a96c5d-6029-4628-c791-4da7f970c003"
      },
      "outputs": [
        {
          "output_type": "stream",
          "name": "stdout",
          "text": [
            "Model: \"sequential\"\n",
            "_________________________________________________________________\n",
            " Layer (type)                Output Shape              Param #   \n",
            "=================================================================\n",
            " embedding_1 (Embedding)     (None, 50, 50)            1000000   \n",
            "                                                                 \n",
            " flatten (Flatten)           (None, 2500)              0         \n",
            "                                                                 \n",
            " dense (Dense)               (None, 1)                 2501      \n",
            "                                                                 \n",
            "=================================================================\n",
            "Total params: 1,002,501\n",
            "Trainable params: 1,002,501\n",
            "Non-trainable params: 0\n",
            "_________________________________________________________________\n"
          ]
        }
      ],
      "source": [
        "from keras.models import Sequential\n",
        "from keras.layers import Flatten, Dense, Embedding\n",
        "\n",
        "vocabulary_size = 20000\n",
        "embedding_size = 50\n",
        "model = Sequential()\n",
        "# We specify the maximum input length to our Embedding layer\n",
        "# so we can later flatten the embedded inputs\n",
        "model.add(Embedding(vocabulary_size, embedding_size, input_length=maxlen))\n",
        "# After the Embedding layer, \n",
        "# our activations have shape `(samples, maxlen, embedding_size)`.\n",
        "\n",
        "# We flatten the 3D tensor of embeddings \n",
        "# into a 2D tensor of shape `(samples, maxlen * embedding_size)`\n",
        "model.add(Flatten())\n",
        "\n",
        "# We add the classifier on top\n",
        "model.add(Dense(1, activation='sigmoid'))\n",
        "model.compile(optimizer='rmsprop', loss='binary_crossentropy', metrics=['acc'])\n",
        "model.summary()\n",
        "\n"
      ]
    },
    {
      "cell_type": "markdown",
      "metadata": {
        "id": "GyAB-38my7Vg"
      },
      "source": [
        "## Training"
      ]
    },
    {
      "cell_type": "code",
      "execution_count": 11,
      "metadata": {
        "id": "1mIT1Lbvy9so",
        "colab": {
          "base_uri": "https://localhost:8080/"
        },
        "outputId": "0fae44d1-50b9-4017-b508-739f31e0ab37"
      },
      "outputs": [
        {
          "output_type": "stream",
          "name": "stdout",
          "text": [
            "Epoch 1/10\n",
            "100/100 [==============================] - 3s 22ms/step - loss: 0.6746 - acc: 0.6135 - val_loss: 0.6273 - val_acc: 0.7168\n",
            "Epoch 2/10\n",
            "100/100 [==============================] - 2s 19ms/step - loss: 0.5525 - acc: 0.7488 - val_loss: 0.4930 - val_acc: 0.7774\n",
            "Epoch 3/10\n",
            "100/100 [==============================] - 2s 19ms/step - loss: 0.4448 - acc: 0.8033 - val_loss: 0.4318 - val_acc: 0.8014\n",
            "Epoch 4/10\n",
            "100/100 [==============================] - 2s 20ms/step - loss: 0.3877 - acc: 0.8328 - val_loss: 0.4060 - val_acc: 0.8141\n",
            "Epoch 5/10\n",
            "100/100 [==============================] - 2s 25ms/step - loss: 0.3506 - acc: 0.8515 - val_loss: 0.3938 - val_acc: 0.8186\n",
            "Epoch 6/10\n",
            "100/100 [==============================] - 3s 27ms/step - loss: 0.3209 - acc: 0.8678 - val_loss: 0.3873 - val_acc: 0.8217\n",
            "Epoch 7/10\n",
            "100/100 [==============================] - 2s 20ms/step - loss: 0.2945 - acc: 0.8828 - val_loss: 0.3846 - val_acc: 0.8238\n",
            "Epoch 8/10\n",
            "100/100 [==============================] - 2s 18ms/step - loss: 0.2689 - acc: 0.8970 - val_loss: 0.3862 - val_acc: 0.8199\n",
            "Epoch 9/10\n",
            "100/100 [==============================] - 2s 18ms/step - loss: 0.2439 - acc: 0.9104 - val_loss: 0.3863 - val_acc: 0.8244\n",
            "Epoch 10/10\n",
            "100/100 [==============================] - 2s 19ms/step - loss: 0.2190 - acc: 0.9248 - val_loss: 0.3900 - val_acc: 0.8231\n"
          ]
        }
      ],
      "source": [
        "history = model.fit(\n",
        "      train50, train_labels,\n",
        "      steps_per_epoch=100,\n",
        "      epochs=10,\n",
        "      validation_split=0.2,\n",
        "      validation_steps=50)"
      ]
    },
    {
      "cell_type": "markdown",
      "metadata": {
        "id": "3B1mpi9B6t31"
      },
      "source": [
        "We get to a validation accuracy of ~82%, which is pretty good considering that we only look at the first 50 words in every review. But \n",
        "note that merely flattening the embedded sequences and training a single `Dense` layer on top leads to a model that treats each word in the \n",
        "input sequence separately, without considering inter-word relationships and structure sentence (e.g. it would likely treat both _\"this movie \n",
        "is shit\"_ and _\"this movie is the shit\"_ as being negative \"reviews\"). It would be much better to add recurrent layers or 1D convolutional \n",
        "layers on top of the embedded sequences to learn features that take into account each sequence as a whole. "
      ]
    },
    {
      "cell_type": "code",
      "execution_count": 12,
      "metadata": {
        "id": "a9jXqsHX2Z8E",
        "colab": {
          "base_uri": "https://localhost:8080/",
          "height": 887
        },
        "outputId": "a8267219-731d-47ee-b2bd-7a6490b317d2"
      },
      "outputs": [
        {
          "output_type": "display_data",
          "data": {
            "text/plain": [
              "<Figure size 640x480 with 1 Axes>"
            ],
            "image/png": "[encoded data removed]"
          },
          "metadata": {}
        },
        {
          "output_type": "display_data",
          "data": {
            "text/plain": [
              "<Figure size 640x480 with 1 Axes>"
            ],
            "image/png": "[encoded data removed]"
          },
          "metadata": {}
        }
      ],
      "source": [
        "import matplotlib.pyplot as plt\n",
        "\n",
        "acc = history.history['acc']\n",
        "val_acc = history.history['val_acc']\n",
        "loss = history.history['loss']\n",
        "val_loss = history.history['val_loss']\n",
        "\n",
        "epochs = range(1, len(acc) + 1)\n",
        "\n",
        "plt.plot(epochs, acc, 'bo', label='Training acc')\n",
        "plt.plot(epochs, val_acc, 'b', label='Validation acc')\n",
        "plt.title('Training and validation accuracy')\n",
        "plt.legend()\n",
        "\n",
        "plt.figure()\n",
        "\n",
        "plt.plot(epochs, loss, 'bo', label='Training loss')\n",
        "plt.plot(epochs, val_loss, 'b', label='Validation loss')\n",
        "plt.title('Training and validation loss')\n",
        "plt.legend()\n",
        "\n",
        "plt.show()"
      ]
    },
    {
      "cell_type": "markdown",
      "metadata": {
        "id": "DTCuQtE22k3l"
      },
      "source": [
        "Arghh. These graphs look like overfitting. Let's try on the test data:\n"
      ]
    },
    {
      "cell_type": "code",
      "execution_count": 13,
      "metadata": {
        "id": "6DT2t_RM2zEc",
        "colab": {
          "base_uri": "https://localhost:8080/"
        },
        "outputId": "c2fe252e-122d-4330-c8b4-3ef6a5b1b14e"
      },
      "outputs": [
        {
          "output_type": "stream",
          "name": "stdout",
          "text": [
            "313/313 [==============================] - 3s 7ms/step - loss: 0.3787 - acc: 0.8254\n",
            "Accuracy 0.825400    Loss: 0.378691\n"
          ]
        }
      ],
      "source": [
        "test_loss, test_acc, = model.evaluate(test50, test_labels)\n",
        "print(\"Accuracy %f    Loss: %f\" % (test_acc, test_loss))"
      ]
    },
    {
      "cell_type": "markdown",
      "metadata": {
        "id": "mOrcukRO6t31"
      },
      "source": [
        "## Using pre-trained word embeddings\n",
        "![](https://raw.githubusercontent.com/zacharski/ml-class/master/labs/pics/pretrained.png)\n",
        "\n",
        "Sometimes, we have so little training data available that we could never use the data alone to learn an appropriate task-specific embedding \n",
        "of your vocabulary. What to do then?\n",
        "\n",
        "Instead of learning word embeddings jointly with the problem we want to solve, we could be loading embedding vectors from a pre-computed \n",
        "embedding space known to be highly structured and to exhibit useful properties -- that captures generic aspects of language structure. The \n",
        "rationale behind using pre-trained word embeddings in natural language processing is very much the same as for using pre-trained convnets \n",
        "in image classification: we don't have enough data available to learn truly powerful features on our own, but we expect the features that \n",
        "we need to be fairly generic, i.e. common visual features or semantic features. In this case it makes sense to reuse features learned on a \n",
        "different problem.\n",
        "\n",
        "Such word embeddings are generally computed using word occurrence statistics (observations about what words co-occur in sentences or \n",
        "documents), using a variety of techniques, some involving neural networks, others not. The idea of a dense, low-dimensional embedding space \n",
        "for words, computed in an unsupervised way, was initially explored by Bengio et al. in the early 2000s, but it only started really taking \n",
        "off in research and industry applications after the release of one of the most famous and successful word embedding scheme: the Word2Vec \n",
        "algorithm, developed by Mikolov at Google in 2013. Word2Vec dimensions capture specific semantic properties, e.g. gender.\n",
        "\n",
        "There are various pre-computed databases of word embeddings that can download and start using in a Keras `Embedding` layer. Word2Vec is one \n",
        "of them. Another popular one is called \"GloVe\", developed by Stanford researchers in 2014. It stands for \"Global Vectors for Word \n",
        "Representation\", and it is an embedding technique based on factorizing a matrix of word co-occurrence statistics. Its developers have made \n",
        "available pre-computed embeddings for millions of English tokens, obtained from Wikipedia data or from Common Crawl data.\n",
        "\n",
        "Finally, there is FastText, also developed by Mikolov at Facebook. While state of the art, it is also the most resource intensive scheme.\n",
        "\n",
        "Let's take a look at how you can get started using GloVe embeddings in a Keras model. The same method will of course be valid for Word2Vec \n",
        "embeddings or any other word embedding database that you can download. "
      ]
    },
    {
      "cell_type": "markdown",
      "metadata": {
        "id": "QpnanKp26t32"
      },
      "source": [
        "## Summary so far,\n",
        "\n",
        "We...\n",
        "\n",
        "1. downloaded the text data which was in the form of a csv file\n",
        "2. loaded the file into pandas.\n",
        "3. divided the csv into the text columns and the labels columns\n",
        "4. tokenized the text into sequences of integers\n",
        "5. limited each text to 50 words\n",
        "5. divided the sequences and labels into training and test data\n",
        "\n",
        "So, for example, the first entry of our data was\n"
      ]
    },
    {
      "cell_type": "code",
      "execution_count": 14,
      "metadata": {
        "id": "uqTEl1ys6t33",
        "colab": {
          "base_uri": "https://localhost:8080/"
        },
        "outputId": "8054e00b-1b8d-4f5c-f33e-32898e4da276"
      },
      "outputs": [
        {
          "output_type": "execute_result",
          "data": {
            "text/plain": [
              "array([    3,   111,    12,  1569,   472,    75,   221,     5,   327,\n",
              "           2,  3498,    35,    23,    51,    71,  1890,  4808,    14,\n",
              "           9,  1388,    11,    19,     6,     3,  3574,  2064,    16,\n",
              "          61,     1,  2414,   469,   533,     2,     3,   171,  2643,\n",
              "       19293,  2811,  1776,     5,   586,     9,    36,     1,  3933,\n",
              "         454,   156,   206,   352,  3944], dtype=int32)"
            ]
          },
          "metadata": {},
          "execution_count": 14
        }
      ],
      "source": [
        "train50[0]"
      ]
    },
    {
      "cell_type": "markdown",
      "metadata": {
        "id": "g7GNizUp6t38"
      },
      "source": [
        "### Download the GloVe word embeddings\n",
        "\n",
        "\n",
        "Head to https://nlp.stanford.edu/projects/glove/ (where you can learn more about the GloVe algorithm), and download the pre-computed \n",
        "embeddings from 2014 English Wikipedia. It's a 822MB zip file named `glove.6B.zip`, containing 100-dimensional embedding vectors for \n",
        "400,000 words (or non-word tokens). The downloading will take a bit of time, which might be an understatement. \n",
        "\n",
        "For convenience, I have made available a zip of the exact file we will need at http://zacharski.org/files/courses/cs419/glove.6B.100d.zip This is only 134MB\n",
        "\n",
        "\n",
        "Next, un-zip it."
      ]
    },
    {
      "cell_type": "code",
      "execution_count": 15,
      "metadata": {
        "id": "GN0y6D-PBOcA",
        "colab": {
          "base_uri": "https://localhost:8080/"
        },
        "outputId": "9c9cc46c-5bb6-44a6-fb66-57bd218c3e31"
      },
      "outputs": [
        {
          "output_type": "stream",
          "name": "stdout",
          "text": [
            "  % Total    % Received % Xferd  Average Speed   Time    Time     Time  Current\n",
            "                                 Dload  Upload   Total   Spent    Left  Speed\n",
            "100  128M  100  128M    0     0  73.5M      0  0:00:01  0:00:01 --:--:-- 73.5M\n",
            "glove.6B.100d.zip  imdb.zip  sample_data\n"
          ]
        }
      ],
      "source": [
        "# TODO\n",
        "!curl http://zacharski.org/files/courses/cs419/glove.6B.100d.zip > glove.6B.100d.zip\n",
        "!ls"
      ]
    },
    {
      "cell_type": "code",
      "execution_count": 16,
      "metadata": {
        "id": "nphXkQhgC_EJ",
        "colab": {
          "base_uri": "https://localhost:8080/"
        },
        "outputId": "461aa514-0ef8-40ad-aa50-c9c0e78314f5"
      },
      "outputs": [
        {
          "output_type": "stream",
          "name": "stdout",
          "text": [
            "Archive:  glove.6B.100d.zip\n",
            "  inflating: glove.6B.100d.txt       \n"
          ]
        }
      ],
      "source": [
        "#TODO\n",
        "!unzip glove.6B.100d.zip"
      ]
    },
    {
      "cell_type": "markdown",
      "metadata": {
        "id": "k6hBJa5p6t39"
      },
      "source": [
        "### Pre-process the embeddings\n",
        "\n",
        "\n",
        "Let's parse the un-zipped file (it's a `txt` file) to build an index mapping words (as strings) to their vector representation (as number \n",
        "vectors)."
      ]
    },
    {
      "cell_type": "code",
      "execution_count": 17,
      "metadata": {
        "id": "zboejuFj6t39",
        "colab": {
          "base_uri": "https://localhost:8080/"
        },
        "outputId": "1765ccd6-53c6-4f11-c1a4-ff5e29e33f7f"
      },
      "outputs": [
        {
          "output_type": "stream",
          "name": "stdout",
          "text": [
            "Found 400000 word vectors.\n"
          ]
        }
      ],
      "source": [
        "import numpy as np\n",
        "\n",
        "embeddings_index = {}\n",
        "f = open('glove.6B.100d.txt')\n",
        "for line in f:\n",
        "    values = line.split()\n",
        "    word = values[0]\n",
        "    coefs = np.asarray(values[1:], dtype='float32')\n",
        "    embeddings_index[word] = coefs\n",
        "f.close()\n",
        "\n",
        "print('Found %s word vectors.' % len(embeddings_index))"
      ]
    },
    {
      "cell_type": "markdown",
      "metadata": {
        "id": "QBlb3xFu6t3_"
      },
      "source": [
        "So embeddings_index is a Python dictionary whose keys are words and values are the 100 length vector. Let's get the vector for the word *dog*:\n",
        "\n"
      ]
    },
    {
      "cell_type": "code",
      "execution_count": 18,
      "metadata": {
        "id": "ORc86o_40bt3",
        "colab": {
          "base_uri": "https://localhost:8080/"
        },
        "outputId": "f007e28c-f1fa-498e-f65b-0ad3d5db8bf9"
      },
      "outputs": [
        {
          "output_type": "execute_result",
          "data": {
            "text/plain": [
              "array([ 0.30817  ,  0.30938  ,  0.52803  , -0.92543  , -0.73671  ,\n",
              "        0.63475  ,  0.44197  ,  0.10262  , -0.09142  , -0.56607  ,\n",
              "       -0.5327   ,  0.2013   ,  0.7704   , -0.13983  ,  0.13727  ,\n",
              "        1.1128   ,  0.89301  , -0.17869  , -0.0019722,  0.57289  ,\n",
              "        0.59479  ,  0.50428  , -0.28991  , -1.3491   ,  0.42756  ,\n",
              "        1.2748   , -1.1613   , -0.41084  ,  0.042804 ,  0.54866  ,\n",
              "        0.18897  ,  0.3759   ,  0.58035  ,  0.66975  ,  0.81156  ,\n",
              "        0.93864  , -0.51005  , -0.070079 ,  0.82819  , -0.35346  ,\n",
              "        0.21086  , -0.24412  , -0.16554  , -0.78358  , -0.48482  ,\n",
              "        0.38968  , -0.86356  , -0.016391 ,  0.31984  , -0.49246  ,\n",
              "       -0.069363 ,  0.018869 , -0.098286 ,  1.3126   , -0.12116  ,\n",
              "       -1.2399   , -0.091429 ,  0.35294  ,  0.64645  ,  0.089642 ,\n",
              "        0.70294  ,  1.1244   ,  0.38639  ,  0.52084  ,  0.98787  ,\n",
              "        0.79952  , -0.34625  ,  0.14095  ,  0.80167  ,  0.20987  ,\n",
              "       -0.86007  , -0.15308  ,  0.074523 ,  0.40816  ,  0.019208 ,\n",
              "        0.51587  , -0.34428  , -0.24525  , -0.77984  ,  0.27425  ,\n",
              "        0.22418  ,  0.20164  ,  0.017431 , -0.014697 , -1.0235   ,\n",
              "       -0.39695  , -0.0056188,  0.30569  ,  0.31748  ,  0.021404 ,\n",
              "        0.11837  , -0.11319  ,  0.42456  ,  0.53405  , -0.16717  ,\n",
              "       -0.27185  , -0.6255   ,  0.12883  ,  0.62529  , -0.52086  ],\n",
              "      dtype=float32)"
            ]
          },
          "metadata": {},
          "execution_count": 18
        }
      ],
      "source": [
        "embeddings_index['dog']"
      ]
    },
    {
      "cell_type": "markdown",
      "metadata": {
        "id": "5MSSrCeZ0cSn"
      },
      "source": [
        "So this embedding file has a vocabulary size of 400,000 words and each word is associated with a 100 element vector. Let's not use all 400,000, but restrict our vocabulary to our original 20,000 (`max_words`).\n",
        "\n",
        "Now let's build an embedding matrix that we will be able to load into an `Embedding` layer. It must be a matrix of shape `(max_words, \n",
        "embedding_dim)`, where each entry `i` contains the `embedding_dim`-dimensional vector for the word of index `i` in our reference word index \n",
        "(built during tokenization). Note that the index `0` is not supposed to stand for any word or token -- it's a placeholder."
      ]
    },
    {
      "cell_type": "code",
      "execution_count": 19,
      "metadata": {
        "id": "j4djtC3A6t3_"
      },
      "outputs": [],
      "source": [
        "embedding_dim = 100\n",
        "max_words = 20000\n",
        "word_index = tokenizer.word_index\n",
        "\n",
        "embedding_matrix = np.zeros((max_words, embedding_dim))\n",
        "for word, i in word_index.items():\n",
        "    embedding_vector = embeddings_index.get(word)\n",
        "    if i < max_words:\n",
        "        if embedding_vector is not None:\n",
        "            # Words not found in embedding index will be all-zeros.\n",
        "            embedding_matrix[i] = embedding_vector"
      ]
    },
    {
      "cell_type": "markdown",
      "metadata": {
        "id": "0EEPKbcd6t4C"
      },
      "source": [
        "### Define a model\n",
        "\n",
        "We will be using the same model architecture as before:"
      ]
    },
    {
      "cell_type": "code",
      "execution_count": 20,
      "metadata": {
        "id": "NmRvo6sb6t4C",
        "colab": {
          "base_uri": "https://localhost:8080/"
        },
        "outputId": "a7cf32ad-999b-43e9-af8e-361ceb069d28"
      },
      "outputs": [
        {
          "output_type": "stream",
          "name": "stdout",
          "text": [
            "Model: \"sequential_1\"\n",
            "_________________________________________________________________\n",
            " Layer (type)                Output Shape              Param #   \n",
            "=================================================================\n",
            " embedding_2 (Embedding)     (None, 50, 100)           2000000   \n",
            "                                                                 \n",
            " flatten_1 (Flatten)         (None, 5000)              0         \n",
            "                                                                 \n",
            " dense_1 (Dense)             (None, 32)                160032    \n",
            "                                                                 \n",
            " dense_2 (Dense)             (None, 1)                 33        \n",
            "                                                                 \n",
            "=================================================================\n",
            "Total params: 2,160,065\n",
            "Trainable params: 2,160,065\n",
            "Non-trainable params: 0\n",
            "_________________________________________________________________\n"
          ]
        }
      ],
      "source": [
        "from keras.models import Sequential\n",
        "from keras.layers import Embedding, Flatten, Dense\n",
        "\n",
        "model = Sequential()\n",
        "model.add(Embedding(max_words, embedding_dim, input_length=maxlen))\n",
        "model.add(Flatten())\n",
        "model.add(Dense(32, activation='relu'))\n",
        "model.add(Dense(1, activation='sigmoid'))\n",
        "model.summary()"
      ]
    },
    {
      "cell_type": "markdown",
      "metadata": {
        "id": "lSVZCgJy6t4F"
      },
      "source": [
        "### Load the GloVe embeddings in the model\n",
        "\n",
        "\n",
        "The `Embedding` layer has a single weight matrix: a 2D float matrix where each entry `i` is the word vector meant to be associated with \n",
        "index `i`. Simple enough. Let's just load the GloVe matrix we prepared into our `Embedding` layer, the first layer in our model:"
      ]
    },
    {
      "cell_type": "code",
      "execution_count": 21,
      "metadata": {
        "id": "7GUR2IMr6t4G"
      },
      "outputs": [],
      "source": [
        "model.layers[0].set_weights([embedding_matrix])\n",
        "model.layers[0].trainable = False"
      ]
    },
    {
      "cell_type": "markdown",
      "metadata": {
        "id": "yyiOZNs76t4J"
      },
      "source": [
        "\n",
        "Additionally, we freeze the embedding layer (we set its `trainable` attribute to `False`), following the same rationale as what you are \n",
        "already familiar with in the context of pre-trained convnet features: when parts of a model are pre-trained (like our `Embedding` layer), \n",
        "and parts are randomly initialized (like our classifier), the pre-trained parts should not be updated during training to avoid forgetting \n",
        "what they already know. The large gradient update triggered by the randomly initialized layers would be very disruptive to the already \n",
        "learned features."
      ]
    },
    {
      "cell_type": "markdown",
      "metadata": {
        "id": "taMHdF-a6t4J"
      },
      "source": [
        "### Train and evaluate\n",
        "\n",
        "Let's compile our model and train it:"
      ]
    },
    {
      "cell_type": "code",
      "execution_count": 22,
      "metadata": {
        "id": "T-mHYyp86t4J",
        "colab": {
          "base_uri": "https://localhost:8080/"
        },
        "outputId": "7bc18c66-bcd4-42d8-a3c6-c60319cb1b22"
      },
      "outputs": [
        {
          "output_type": "stream",
          "name": "stdout",
          "text": [
            "Epoch 1/10\n",
            "1000/1000 [==============================] - 7s 6ms/step - loss: 0.6160 - acc: 0.6553 - val_loss: 0.5609 - val_acc: 0.7163\n",
            "Epoch 2/10\n",
            "1000/1000 [==============================] - 8s 8ms/step - loss: 0.5431 - acc: 0.7238 - val_loss: 0.5490 - val_acc: 0.7281\n",
            "Epoch 3/10\n",
            "1000/1000 [==============================] - 6s 6ms/step - loss: 0.5204 - acc: 0.7402 - val_loss: 0.5459 - val_acc: 0.7225\n",
            "Epoch 4/10\n",
            "1000/1000 [==============================] - 8s 8ms/step - loss: 0.5034 - acc: 0.7514 - val_loss: 0.5559 - val_acc: 0.7212\n",
            "Epoch 5/10\n",
            "1000/1000 [==============================] - 6s 6ms/step - loss: 0.4843 - acc: 0.7625 - val_loss: 0.6176 - val_acc: 0.6981\n",
            "Epoch 6/10\n",
            "1000/1000 [==============================] - 7s 7ms/step - loss: 0.4585 - acc: 0.7803 - val_loss: 0.5948 - val_acc: 0.7094\n",
            "Epoch 7/10\n",
            "1000/1000 [==============================] - 6s 6ms/step - loss: 0.4243 - acc: 0.7993 - val_loss: 0.6069 - val_acc: 0.7219\n",
            "Epoch 8/10\n",
            "1000/1000 [==============================] - 7s 7ms/step - loss: 0.3817 - acc: 0.8245 - val_loss: 0.6553 - val_acc: 0.7100\n",
            "Epoch 9/10\n",
            "1000/1000 [==============================] - 7s 7ms/step - loss: 0.3340 - acc: 0.8508 - val_loss: 0.7211 - val_acc: 0.7056\n",
            "Epoch 10/10\n",
            "1000/1000 [==============================] - 6s 6ms/step - loss: 0.2829 - acc: 0.8751 - val_loss: 0.7955 - val_acc: 0.6831\n"
          ]
        }
      ],
      "source": [
        "model.compile(optimizer='rmsprop',\n",
        "              loss='binary_crossentropy',\n",
        "              metrics=['acc'])\n",
        "history = model.fit(train50, train_labels,\n",
        "                    epochs=10,\n",
        "                    batch_size=32,\n",
        "                     validation_split=0.2,\n",
        "      validation_steps=50)\n",
        "model.save_weights('pre_trained_glove_model.h5')"
      ]
    },
    {
      "cell_type": "markdown",
      "metadata": {
        "id": "212yP1DI6t4M"
      },
      "source": [
        "Let's plot its performance over time:"
      ]
    },
    {
      "cell_type": "code",
      "execution_count": 23,
      "metadata": {
        "id": "w4Eince06t4M",
        "colab": {
          "base_uri": "https://localhost:8080/",
          "height": 887
        },
        "outputId": "d2da41f7-7156-4c1f-b07d-36400fb7e67c"
      },
      "outputs": [
        {
          "output_type": "display_data",
          "data": {
            "text/plain": [
              "<Figure size 640x480 with 1 Axes>"
            ],
            "image/png": "[encoded data removed]"
          },
          "metadata": {}
        },
        {
          "output_type": "display_data",
          "data": {
            "text/plain": [
              "<Figure size 640x480 with 1 Axes>"
            ],
            "image/png": "[encoded data removed]"
          },
          "metadata": {}
        }
      ],
      "source": [
        "import matplotlib.pyplot as plt\n",
        "\n",
        "acc = history.history['acc']\n",
        "val_acc = history.history['val_acc']\n",
        "loss = history.history['loss']\n",
        "val_loss = history.history['val_loss']\n",
        "\n",
        "epochs = range(1, len(acc) + 1)\n",
        "\n",
        "plt.plot(epochs, acc, 'bo', label='Training acc')\n",
        "plt.plot(epochs, val_acc, 'b', label='Validation acc')\n",
        "plt.title('Training and validation accuracy')\n",
        "plt.legend()\n",
        "\n",
        "plt.figure()\n",
        "\n",
        "plt.plot(epochs, loss, 'bo', label='Training loss')\n",
        "plt.plot(epochs, val_loss, 'b', label='Validation loss')\n",
        "plt.title('Training and validation loss')\n",
        "plt.legend()\n",
        "\n",
        "plt.show()"
      ]
    },
    {
      "cell_type": "markdown",
      "metadata": {
        "id": "pSUsNaK9a-pn"
      },
      "source": [
        "The model quickly starts overfitting, unsurprisingly given the small number of training samples. Validation accuracy has high variance for \n",
        "the same reason, but seems to reach high 50s.\n",
        "\n",
        "Let's check the accuracy and loss on the test data:"
      ]
    },
    {
      "cell_type": "code",
      "execution_count": 24,
      "metadata": {
        "id": "JxLT8H3Ca-3q",
        "colab": {
          "base_uri": "https://localhost:8080/"
        },
        "outputId": "788e9502-a8e9-4662-8c27-f5378eea2b4c"
      },
      "outputs": [
        {
          "output_type": "stream",
          "name": "stdout",
          "text": [
            "313/313 [==============================] - 1s 3ms/step - loss: 0.7980 - acc: 0.6990\n",
            "Accuracy 0.699000    Loss: 0.798002\n"
          ]
        }
      ],
      "source": [
        "test_loss, test_acc, = model.evaluate(test50, test_labels)\n",
        "print(\"Accuracy %f    Loss: %f\" % (test_acc, test_loss))"
      ]
    },
    {
      "cell_type": "markdown",
      "metadata": {
        "id": "ec7-y6ZTbgtZ"
      },
      "source": [
        "### A one-dimensional CNN\n",
        "\n",
        "Let's try a slightly more complex model using convolutional layers.\n",
        "\n"
      ]
    },
    {
      "cell_type": "code",
      "execution_count": 25,
      "metadata": {
        "id": "ZDq47rpDbuDl",
        "colab": {
          "base_uri": "https://localhost:8080/"
        },
        "outputId": "3586c8f2-4ad6-486e-9698-fff3ffacd440"
      },
      "outputs": [
        {
          "output_type": "stream",
          "name": "stdout",
          "text": [
            "Model: \"sequential_2\"\n",
            "_________________________________________________________________\n",
            " Layer (type)                Output Shape              Param #   \n",
            "=================================================================\n",
            " embedding_3 (Embedding)     (None, 50, 100)           2000000   \n",
            "                                                                 \n",
            " conv1d (Conv1D)             (None, 48, 64)            19264     \n",
            "                                                                 \n",
            " conv1d_1 (Conv1D)           (None, 46, 64)            12352     \n",
            "                                                                 \n",
            " dropout (Dropout)           (None, 46, 64)            0         \n",
            "                                                                 \n",
            " max_pooling1d (MaxPooling1D  (None, 23, 64)           0         \n",
            " )                                                               \n",
            "                                                                 \n",
            " flatten_2 (Flatten)         (None, 1472)              0         \n",
            "                                                                 \n",
            " dense_3 (Dense)             (None, 32)                47136     \n",
            "                                                                 \n",
            " dense_4 (Dense)             (None, 1)                 33        \n",
            "                                                                 \n",
            "=================================================================\n",
            "Total params: 2,078,785\n",
            "Trainable params: 2,078,785\n",
            "Non-trainable params: 0\n",
            "_________________________________________________________________\n"
          ]
        }
      ],
      "source": [
        "from keras import layers\n",
        "\n",
        "cnn_model = Sequential()\n",
        "cnn_model.add(Embedding(max_words, embedding_dim, input_length=maxlen))\n",
        "cnn_model.add(layers.Conv1D(filters=64, kernel_size=3, activation='relu'))\n",
        "cnn_model.add(layers.Conv1D(filters=64, kernel_size=3, activation='relu'))\n",
        "cnn_model.add(layers.Dropout(0.5))\n",
        "cnn_model.add(layers.MaxPooling1D(pool_size=2))\n",
        "cnn_model.add(Flatten())\n",
        "cnn_model.add(Dense(32, activation='relu'))\n",
        "cnn_model.add(Dense(1, activation='sigmoid'))\n",
        "cnn_model.summary()"
      ]
    },
    {
      "cell_type": "code",
      "execution_count": 26,
      "metadata": {
        "id": "u0CHffQ1dPVC"
      },
      "outputs": [],
      "source": [
        "cnn_model.layers[0].set_weights([embedding_matrix])\n",
        "cnn_model.layers[0].trainable = False"
      ]
    },
    {
      "cell_type": "code",
      "execution_count": 27,
      "metadata": {
        "id": "65Fn8YhWdQtP",
        "colab": {
          "base_uri": "https://localhost:8080/"
        },
        "outputId": "2b1392b1-bf86-4278-deae-1b157713c15f"
      },
      "outputs": [
        {
          "output_type": "stream",
          "name": "stdout",
          "text": [
            "Epoch 1/10\n",
            "1000/1000 [==============================] - 21s 19ms/step - loss: 0.5850 - acc: 0.6783 - val_loss: 0.5019 - val_acc: 0.7594\n",
            "Epoch 2/10\n",
            "1000/1000 [==============================] - 18s 18ms/step - loss: 0.4842 - acc: 0.7661 - val_loss: 0.4765 - val_acc: 0.7644\n",
            "Epoch 3/10\n",
            "1000/1000 [==============================] - 20s 20ms/step - loss: 0.4483 - acc: 0.7874 - val_loss: 0.4427 - val_acc: 0.7969\n",
            "Epoch 4/10\n",
            "1000/1000 [==============================] - 24s 24ms/step - loss: 0.4172 - acc: 0.8063 - val_loss: 0.4612 - val_acc: 0.7719\n",
            "Epoch 5/10\n",
            "1000/1000 [==============================] - 18s 18ms/step - loss: 0.3950 - acc: 0.8159 - val_loss: 0.4353 - val_acc: 0.7969\n",
            "Epoch 6/10\n",
            "1000/1000 [==============================] - 18s 18ms/step - loss: 0.3733 - acc: 0.8322 - val_loss: 0.4711 - val_acc: 0.7781\n",
            "Epoch 7/10\n",
            "1000/1000 [==============================] - 18s 18ms/step - loss: 0.3569 - acc: 0.8397 - val_loss: 0.4761 - val_acc: 0.7906\n",
            "Epoch 8/10\n",
            "1000/1000 [==============================] - 18s 18ms/step - loss: 0.3428 - acc: 0.8476 - val_loss: 0.4244 - val_acc: 0.8037\n",
            "Epoch 9/10\n",
            "1000/1000 [==============================] - 20s 20ms/step - loss: 0.3266 - acc: 0.8546 - val_loss: 0.4969 - val_acc: 0.7869\n",
            "Epoch 10/10\n",
            "1000/1000 [==============================] - 19s 19ms/step - loss: 0.3107 - acc: 0.8625 - val_loss: 0.5131 - val_acc: 0.7644\n"
          ]
        }
      ],
      "source": [
        "cnn_model.compile(optimizer='rmsprop',\n",
        "              loss='binary_crossentropy',\n",
        "              metrics=['acc'])\n",
        "history = cnn_model.fit(train50, train_labels,\n",
        "                    epochs=10,\n",
        "                    batch_size=32,\n",
        "                     validation_split=0.2,\n",
        "      validation_steps=50)\n"
      ]
    },
    {
      "cell_type": "code",
      "execution_count": 28,
      "metadata": {
        "id": "hM-GdMKqeCrK",
        "colab": {
          "base_uri": "https://localhost:8080/"
        },
        "outputId": "18d9d587-753c-4414-cfa9-b65932f290bd"
      },
      "outputs": [
        {
          "output_type": "stream",
          "name": "stdout",
          "text": [
            "313/313 [==============================] - 2s 6ms/step - loss: 0.4710 - acc: 0.7790\n",
            "Accuracy 0.779000    Loss: 0.471034\n"
          ]
        }
      ],
      "source": [
        "test_loss, test_acc, = cnn_model.evaluate(test50, test_labels)\n",
        "print(\"Accuracy %f    Loss: %f\" % (test_acc, test_loss))"
      ]
    },
    {
      "cell_type": "markdown",
      "metadata": {
        "id": "4K0Ed_X7eSec"
      },
      "source": [
        "This is better than our first attempt at using pre-trained embeddings but not as good as when we learned the embeddings on our own."
      ]
    },
    {
      "cell_type": "markdown",
      "metadata": {
        "id": "ZB79P4nm6t4R"
      },
      "source": [
        "\n",
        "\n",
        "\n",
        "## Let's Reflect\n",
        "\n",
        "### Experiment 1\n",
        "We  trained the model without loading the pre-trained word embeddings and without freezing the embedding layer. In that \n",
        "case, we would be learning a task-specific embedding of our input tokens, which is generally more powerful than pre-trained word embeddings\n",
        "when lots of data is available. \n",
        "\n",
        "### Experiment 2\n",
        "However, we used a pre-existing word-embedding. This is especially useful when we have a limited amount of training data.\n",
        "\n",
        "\n",
        "\n",
        "![](https://raw.githubusercontent.com/zacharski/datamining-guide/master/labs/pics/torchdivide.png)\n",
        "\n",
        "## <font color='#EE4C2C'>You Try Experiment 3</font> \n",
        "WLet's try a new approach. Suppose we loaded the GloVe pre-trained word embeddings but this time didn't freeeze the layer, meaning it would continue to refine the embeddings using our training data. How does that do?"
      ]
    },
    {
      "cell_type": "code",
      "execution_count": 29,
      "metadata": {
        "id": "UxHX4E_A6t4S",
        "colab": {
          "base_uri": "https://localhost:8080/"
        },
        "outputId": "e09d8558-ce25-49f5-fb6f-fdf6dcf7926a"
      },
      "outputs": [
        {
          "output_type": "stream",
          "name": "stdout",
          "text": [
            "Model: \"sequential_3\"\n",
            "_________________________________________________________________\n",
            " Layer (type)                Output Shape              Param #   \n",
            "=================================================================\n",
            " embedding_4 (Embedding)     (None, 50, 100)           2000000   \n",
            "                                                                 \n",
            " conv1d_2 (Conv1D)           (None, 48, 64)            19264     \n",
            "                                                                 \n",
            " conv1d_3 (Conv1D)           (None, 46, 64)            12352     \n",
            "                                                                 \n",
            " dropout_1 (Dropout)         (None, 46, 64)            0         \n",
            "                                                                 \n",
            " max_pooling1d_1 (MaxPooling  (None, 23, 64)           0         \n",
            " 1D)                                                             \n",
            "                                                                 \n",
            " flatten_3 (Flatten)         (None, 1472)              0         \n",
            "                                                                 \n",
            " dense_5 (Dense)             (None, 32)                47136     \n",
            "                                                                 \n",
            " dense_6 (Dense)             (None, 1)                 33        \n",
            "                                                                 \n",
            "=================================================================\n",
            "Total params: 2,078,785\n",
            "Trainable params: 2,078,785\n",
            "Non-trainable params: 0\n",
            "_________________________________________________________________\n"
          ]
        }
      ],
      "source": [
        "from keras import layers\n",
        "\n",
        "unfrozen_model = Sequential()\n",
        "unfrozen_model.add(Embedding(max_words, embedding_dim, input_length=maxlen))\n",
        "unfrozen_model.add(layers.Conv1D(filters=64, kernel_size=3, activation='relu'))\n",
        "unfrozen_model.add(layers.Conv1D(filters=64, kernel_size=3, activation='relu'))\n",
        "unfrozen_model.add(layers.Dropout(0.5))\n",
        "unfrozen_model.add(layers.MaxPooling1D(pool_size=2))\n",
        "unfrozen_model.add(Flatten())\n",
        "unfrozen_model.add(Dense(32, activation='relu'))\n",
        "unfrozen_model.add(Dense(1, activation='sigmoid'))\n",
        "unfrozen_model.summary()"
      ]
    },
    {
      "cell_type": "code",
      "source": [
        "#load embeddings into unfrozen model\n",
        "unfrozen_model.layers[0].set_weights([embedding_matrix])"
      ],
      "metadata": {
        "id": "kffw_CACPZxo"
      },
      "execution_count": 31,
      "outputs": []
    },
    {
      "cell_type": "code",
      "execution_count": 32,
      "metadata": {
        "id": "gJGU2CPq6t4U",
        "colab": {
          "base_uri": "https://localhost:8080/"
        },
        "outputId": "c20e8559-9b6d-4b79-a50b-d6a1be4a7c2e"
      },
      "outputs": [
        {
          "output_type": "stream",
          "name": "stdout",
          "text": [
            "Epoch 1/10\n",
            "1000/1000 [==============================] - 46s 45ms/step - loss: 0.5516 - acc: 0.7046 - val_loss: 0.4353 - val_acc: 0.8000\n",
            "Epoch 2/10\n",
            "1000/1000 [==============================] - 35s 35ms/step - loss: 0.4137 - acc: 0.8123 - val_loss: 0.4007 - val_acc: 0.8344\n",
            "Epoch 3/10\n",
            "1000/1000 [==============================] - 38s 38ms/step - loss: 0.3657 - acc: 0.8393 - val_loss: 0.4070 - val_acc: 0.8213\n",
            "Epoch 4/10\n",
            "1000/1000 [==============================] - 32s 32ms/step - loss: 0.3344 - acc: 0.8539 - val_loss: 0.3831 - val_acc: 0.8244\n",
            "Epoch 5/10\n",
            "1000/1000 [==============================] - 30s 30ms/step - loss: 0.3017 - acc: 0.8709 - val_loss: 0.4050 - val_acc: 0.8288\n",
            "Epoch 6/10\n",
            "1000/1000 [==============================] - 29s 29ms/step - loss: 0.2720 - acc: 0.8855 - val_loss: 0.4284 - val_acc: 0.8200\n",
            "Epoch 7/10\n",
            "1000/1000 [==============================] - 29s 29ms/step - loss: 0.2435 - acc: 0.9007 - val_loss: 0.4095 - val_acc: 0.8331\n",
            "Epoch 8/10\n",
            "1000/1000 [==============================] - 43s 42ms/step - loss: 0.2164 - acc: 0.9125 - val_loss: 0.4405 - val_acc: 0.8156\n",
            "Epoch 9/10\n",
            "1000/1000 [==============================] - 30s 30ms/step - loss: 0.1870 - acc: 0.9270 - val_loss: 0.4831 - val_acc: 0.8238\n",
            "Epoch 10/10\n",
            "1000/1000 [==============================] - 29s 29ms/step - loss: 0.1665 - acc: 0.9361 - val_loss: 0.5126 - val_acc: 0.8225\n"
          ]
        }
      ],
      "source": [
        "unfrozen_model.compile(optimizer='rmsprop',\n",
        "              loss='binary_crossentropy',\n",
        "              metrics=['acc'])\n",
        "#histroy sit to same epoch, bach, split, and steps size as previous experiment examples\n",
        "history = unfrozen_model.fit(train50, train_labels,\n",
        "                    epochs=10,\n",
        "                    batch_size=32,\n",
        "                     validation_split=0.2,\n",
        "      validation_steps=50)"
      ]
    },
    {
      "cell_type": "code",
      "execution_count": 33,
      "metadata": {
        "id": "rE3fGB6Herue",
        "colab": {
          "base_uri": "https://localhost:8080/"
        },
        "outputId": "fa9bcf1b-ff6b-47e0-e5ce-cf81aca066b2"
      },
      "outputs": [
        {
          "output_type": "stream",
          "name": "stdout",
          "text": [
            "313/313 [==============================] - 2s 6ms/step - loss: 0.4566 - acc: 0.8374\n",
            "Accuracy 0.837400    Loss: 0.456646\n"
          ]
        }
      ],
      "source": [
        "LossAcc, Accuracy, = unfrozen_model.evaluate(test50, test_labels)\n",
        "print(\"Accuracy %f    Loss: %f\" % (Accuracy, LossAcc))"
      ]
    },
    {
      "cell_type": "markdown",
      "source": [
        "From my test, it actually does better than the model with the frozen Embedding layer. I got an 83.35% accuracy against the test data."
      ],
      "metadata": {
        "id": "x9DHSj8CQ7GC"
      }
    },
    {
      "cell_type": "markdown",
      "metadata": {
        "id": "3xN-GWKg6t4W"
      },
      "source": [
        "![](https://raw.githubusercontent.com/zacharski/datamining-guide/master/labs/pics/torchdivide.png)\n",
        "# <font color='#EE4C2C'>. You try - Climate Change Tweets</font> \n",
        "\n",
        "\n",
        "![](https://raw.githubusercontent.com/zacharski/ml-class/master/labs/pics/climateChange2.png)\n",
        "\n",
        "We are going to investigate the sentiment of tweets from the Twitter Climate Change Sentiment Dataset compiled by Edward Qian. The dataset consists of 43,943 tweets. Instead of a binary label (a positive sentiment on climate change or a negative, there are four possible labels:\n",
        "\n",
        "Label | Description\n",
        ":--- | :---- \n",
        "News | the tweet links to factual news about climate change\n",
        "Pro | the tweet supports the belief of man-made climate change\n",
        "Neutral |  the tweet neither supports nor refutes the belief of man-made climate change\n",
        "Anti | the tweet does not believe in man-made climate change\n",
        "\n",
        "\n",
        "![](https://raw.githubusercontent.com/zacharski/datamining-guide/master/labs/pics/PyDivideTwo.png)\n",
        "## <font color='#EE4C2C'>1. FastText.</font> \n",
        "\n",
        "Instead of using the GloVe embedding vectors we will use FastText. The FastText vectors for the most common 20,000 words is available at\n",
        "\n",
        "\n",
        "https://github.com/zacharski/ml-class/raw/master/data/fasttext.zip\n",
        "\n",
        "We can process it in the same way as we did the GloVe vector file.\n",
        "\n",
        "\n",
        "\n",
        "\n"
      ]
    },
    {
      "cell_type": "code",
      "execution_count": 34,
      "metadata": {
        "id": "JVl6o8_96t4W",
        "colab": {
          "base_uri": "https://localhost:8080/"
        },
        "outputId": "d71bf869-0264-462c-fc75-d9e00d2e1dab"
      },
      "outputs": [
        {
          "output_type": "stream",
          "name": "stdout",
          "text": [
            "--2023-04-28 09:11:56--  https://github.com/zacharski/ml-class/raw/master/data/fasttext.zip\n",
            "Resolving github.com (github.com)... 140.82.114.3\n",
            "Connecting to github.com (github.com)|140.82.114.3|:443... connected.\n",
            "HTTP request sent, awaiting response... 302 Found\n",
            "Location: https://raw.githubusercontent.com/zacharski/ml-class/master/data/fasttext.zip [following]\n",
            "--2023-04-28 09:11:56--  https://raw.githubusercontent.com/zacharski/ml-class/master/data/fasttext.zip\n",
            "Resolving raw.githubusercontent.com (raw.githubusercontent.com)... 185.199.110.133, 185.199.109.133, 185.199.111.133, ...\n",
            "Connecting to raw.githubusercontent.com (raw.githubusercontent.com)|185.199.110.133|:443... connected.\n",
            "HTTP request sent, awaiting response... 200 OK\n",
            "Length: 13307328 (13M) [application/zip]\n",
            "Saving to: ‘fasttext.zip’\n",
            "\n",
            "fasttext.zip        100%[===================>]  12.69M  --.-KB/s    in 0.1s    \n",
            "\n",
            "2023-04-28 09:11:57 (108 MB/s) - ‘fasttext.zip’ saved [13307328/13307328]\n",
            "\n",
            "fasttext.zip\t   glove.6B.100d.zip  pre_trained_glove_model.h5\n",
            "glove.6B.100d.txt  imdb.zip\t      sample_data\n"
          ]
        }
      ],
      "source": [
        "!wget https://github.com/zacharski/ml-class/raw/master/data/fasttext.zip\n",
        "!ls"
      ]
    },
    {
      "cell_type": "code",
      "source": [
        "!unzip fasttext.zip"
      ],
      "metadata": {
        "colab": {
          "base_uri": "https://localhost:8080/"
        },
        "id": "yilcARBmSO8B",
        "outputId": "161ca8b9-a8c6-40d9-8082-5deafbd9fd75"
      },
      "execution_count": 35,
      "outputs": [
        {
          "output_type": "stream",
          "name": "stdout",
          "text": [
            "Archive:  fasttext.zip\n",
            "  inflating: fasttext.vec            \n"
          ]
        }
      ]
    },
    {
      "cell_type": "markdown",
      "metadata": {
        "id": "IsZzK-1FSISM"
      },
      "source": [
        "![](https://raw.githubusercontent.com/zacharski/datamining-guide/master/labs/pics/PyDivideTwo.png)\n",
        "## <font color='#EE4C2C'>2. Download and process the data file</font> \n",
        "\n",
        "The file is \n",
        "\n",
        "https://raw.githubusercontent.com/zacharski/ml-class/master/data/climateSentiment.csv.zip"
      ]
    },
    {
      "cell_type": "code",
      "execution_count": 36,
      "metadata": {
        "id": "LGSlhkmURtgB",
        "colab": {
          "base_uri": "https://localhost:8080/"
        },
        "outputId": "13e1d7f8-28db-4a96-e7d4-cb0cf41bff68"
      },
      "outputs": [
        {
          "output_type": "stream",
          "name": "stdout",
          "text": [
            "--2023-04-28 09:12:01--  https://raw.githubusercontent.com/zacharski/ml-class/master/data/climateSentiment.csv.zip\n",
            "Resolving raw.githubusercontent.com (raw.githubusercontent.com)... 185.199.108.133, 185.199.109.133, 185.199.110.133, ...\n",
            "Connecting to raw.githubusercontent.com (raw.githubusercontent.com)|185.199.108.133|:443... connected.\n",
            "HTTP request sent, awaiting response... 200 OK\n",
            "Length: 2589663 (2.5M) [application/zip]\n",
            "Saving to: ‘climateSentiment.csv.zip’\n",
            "\n",
            "climateSentiment.cs 100%[===================>]   2.47M  --.-KB/s    in 0.08s   \n",
            "\n",
            "2023-04-28 09:12:02 (30.4 MB/s) - ‘climateSentiment.csv.zip’ saved [2589663/2589663]\n",
            "\n",
            "Archive:  climateSentiment.csv.zip\n",
            "  inflating: climate.csv             \n"
          ]
        }
      ],
      "source": [
        "!wget https://raw.githubusercontent.com/zacharski/ml-class/master/data/climateSentiment.csv.zip\n",
        "!unzip climateSentiment.csv.zip"
      ]
    },
    {
      "cell_type": "code",
      "source": [
        "import pandas as pd\n",
        "from keras.preprocessing.text import Tokenizer\n",
        "from keras.utils import pad_sequences\n",
        "\n",
        "climateData = pd.read_csv('climate.csv')\n",
        "\n",
        "climateText = climateData['message']\n",
        "climateLabels = climateData['sentiment']\n",
        "\n",
        "climateLabels = climateData['sentiment'].apply(lambda x: {\n",
        "    'Anti': 0,\n",
        "    'Pro': 1,\n",
        "    'News': 2,\n",
        "    'Neutral': 3\n",
        "}.get(x))\n",
        "\n",
        "tokenizer = Tokenizer(num_words = 20000)\n",
        "tokenizer.fit_on_texts(climateText)\n",
        "data_sequences = tokenizer.texts_to_sequences(climateText)\n",
        "data_sequences[0]"
      ],
      "metadata": {
        "id": "44GSG7eUWuN3",
        "colab": {
          "base_uri": "https://localhost:8080/"
        },
        "outputId": "bcdbe7eb-82c6-4966-d0dd-6816f516f31a"
      },
      "execution_count": 42,
      "outputs": [
        {
          "output_type": "execute_result",
          "data": {
            "text/plain": [
              "[1,\n",
              " 2,\n",
              " 9,\n",
              " 69,\n",
              " 799,\n",
              " 39,\n",
              " 24,\n",
              " 72,\n",
              " 12,\n",
              " 13,\n",
              " 40,\n",
              " 7,\n",
              " 135,\n",
              " 1385,\n",
              " 13,\n",
              " 17,\n",
              " 1113,\n",
              " 346,\n",
              " 314,\n",
              " 7,\n",
              " 5365,\n",
              " 3970]"
            ]
          },
          "metadata": {},
          "execution_count": 42
        }
      ]
    },
    {
      "cell_type": "code",
      "source": [
        "maxlen = 50\n",
        "data50 = pad_sequences(data_sequences, maxlen=maxlen)\n",
        "data50[0]"
      ],
      "metadata": {
        "colab": {
          "base_uri": "https://localhost:8080/"
        },
        "id": "S4kMJ_D9YKNh",
        "outputId": "a4dfb287-33a3-4c55-d157-f2faa1cc4213"
      },
      "execution_count": 43,
      "outputs": [
        {
          "output_type": "execute_result",
          "data": {
            "text/plain": [
              "array([   0,    0,    0,    0,    0,    0,    0,    0,    0,    0,    0,\n",
              "          0,    0,    0,    0,    0,    0,    0,    0,    0,    0,    0,\n",
              "          0,    0,    0,    0,    0,    0,    1,    2,    9,   69,  799,\n",
              "         39,   24,   72,   12,   13,   40,    7,  135, 1385,   13,   17,\n",
              "       1113,  346,  314,    7, 5365, 3970], dtype=int32)"
            ]
          },
          "metadata": {},
          "execution_count": 43
        }
      ]
    },
    {
      "cell_type": "code",
      "source": [
        "from sklearn.model_selection import train_test_split\n",
        "#splitting data\n",
        "climate_train_text, climate_test_text, climate_train_labels, climate_test_labels = train_test_split(data50, climateLabels, test_size = 0.2, random_state=42)"
      ],
      "metadata": {
        "id": "MN978LaeYSEp"
      },
      "execution_count": 46,
      "outputs": []
    },
    {
      "cell_type": "code",
      "source": [
        "climate_test_labels"
      ],
      "metadata": {
        "colab": {
          "base_uri": "https://localhost:8080/"
        },
        "id": "Cplk8jgZYkCO",
        "outputId": "939d62a4-721a-42b3-eb9a-ba44aad64574"
      },
      "execution_count": 45,
      "outputs": [
        {
          "output_type": "execute_result",
          "data": {
            "text/plain": [
              "34461    3\n",
              "20916    2\n",
              "14218    1\n",
              "30674    3\n",
              "32400    1\n",
              "        ..\n",
              "33649    1\n",
              "5523     1\n",
              "25031    1\n",
              "5638     1\n",
              "17989    2\n",
              "Name: sentiment, Length: 8789, dtype: int64"
            ]
          },
          "metadata": {},
          "execution_count": 45
        }
      ]
    },
    {
      "cell_type": "markdown",
      "metadata": {
        "id": "-1o3pm3QSk30"
      },
      "source": [
        "![](https://raw.githubusercontent.com/zacharski/datamining-guide/master/labs/pics/PyDivideTwo.png)\n",
        "## <font color='#EE4C2C'>3. Create the network/model--fit it to the data</font> \n",
        "You can design your network anyway you want. "
      ]
    },
    {
      "cell_type": "code",
      "execution_count": 47,
      "metadata": {
        "id": "xEvO_RvU0SUs",
        "colab": {
          "base_uri": "https://localhost:8080/"
        },
        "outputId": "00ca10e5-c8da-4197-a9e0-8909f2f8a4e0"
      },
      "outputs": [
        {
          "output_type": "stream",
          "name": "stdout",
          "text": [
            "Found 20000 word vectors.\n"
          ]
        }
      ],
      "source": [
        "fast_text_index = {}\n",
        "f = open('fasttext.vec')\n",
        "for line in f:\n",
        "    values = line.split()\n",
        "    word = values[0]\n",
        "    coefs = np.asarray(values[1:], dtype='float32')\n",
        "    fast_text_index[word] = coefs\n",
        "f.close()\n",
        "\n",
        "print('Found %s word vectors.' % len(fast_text_index))"
      ]
    },
    {
      "cell_type": "code",
      "source": [
        "fast_text_index['cat']"
      ],
      "metadata": {
        "id": "0NI8gIE5Tm50",
        "colab": {
          "base_uri": "https://localhost:8080/"
        },
        "outputId": "975ba48d-7b08-4907-a5f4-301bfc7bdd4f"
      },
      "execution_count": 49,
      "outputs": [
        {
          "output_type": "execute_result",
          "data": {
            "text/plain": [
              "array([ 0.0811, -0.0208, -0.0333,  0.2856,  0.1396, -0.1977,  0.1013,\n",
              "        0.0109, -0.1038,  0.0431, -0.1483, -0.1676, -0.1545, -0.1415,\n",
              "        0.1274,  0.2279,  0.0769, -0.1387, -0.2019,  0.0153, -0.07  ,\n",
              "        0.1131,  0.0167,  0.1139,  0.0209, -0.3162,  0.0981, -0.1449,\n",
              "        0.0995,  0.2212,  0.0222,  0.0675, -0.0647,  0.1127, -0.0257,\n",
              "       -0.0477,  0.0392,  0.0017, -0.1169, -0.2767, -0.0602,  0.1135,\n",
              "       -0.113 ,  0.0838, -0.2197,  0.0677,  0.0297, -0.0578, -0.1288,\n",
              "        0.0936, -0.0628, -0.0858,  0.1738, -0.1004, -0.2897, -0.0184,\n",
              "        0.0161, -0.0155, -0.1191,  0.2057,  0.2338,  0.1717,  0.0777,\n",
              "        0.058 , -0.0546, -0.056 ,  0.0791,  0.3294, -0.2105, -0.113 ,\n",
              "        0.0576,  0.024 ,  0.0492, -0.0012, -0.1901, -0.1345,  0.2146,\n",
              "       -0.034 ,  0.0105,  0.0774,  0.162 , -0.0519, -0.103 , -0.2243,\n",
              "       -0.0548,  0.0278,  0.045 ,  0.028 ,  0.0835, -0.0948, -0.086 ,\n",
              "       -0.3568,  0.1231,  0.0274, -0.0079,  0.0833,  0.1994,  0.0455,\n",
              "        0.1888,  0.1472, -0.3626,  0.1035,  0.0448, -0.0307, -0.0429,\n",
              "        0.0498, -0.2924,  0.3313,  0.0112, -0.0137,  0.0418,  0.008 ,\n",
              "       -0.2226,  0.0808,  0.0429, -0.0468, -0.1799,  0.1144, -0.0289,\n",
              "        0.088 , -0.1822, -0.0143, -0.0071, -0.0756,  0.0736,  0.1583,\n",
              "       -0.1282,  0.2381,  0.2162, -0.1551, -0.1151, -0.0011, -0.0628,\n",
              "       -0.1977, -0.0668,  0.0376,  0.1822,  0.1083, -0.0118, -0.0028,\n",
              "       -0.2239, -0.1169,  0.1732,  0.0156, -0.1229, -0.01  , -0.293 ,\n",
              "        0.1587, -0.0072, -0.1147,  0.013 , -0.2033, -0.0501,  0.0086,\n",
              "       -0.1806, -0.0951,  0.0512,  0.0067, -0.1353,  0.1031, -0.0843,\n",
              "        0.238 ,  0.1942, -0.0404, -0.0533, -0.1423,  0.5043, -0.0471,\n",
              "        0.0759,  0.0368, -0.1763,  0.2046, -0.3513,  0.0705,  0.002 ,\n",
              "        0.052 ,  0.1393,  0.0785, -0.2885,  0.0775,  0.1153, -0.0169,\n",
              "        0.0231, -0.1726,  0.1867,  0.103 ,  0.2021, -0.0485,  0.0095,\n",
              "        0.0436, -0.2666, -0.1224,  0.1013,  0.0567,  0.208 ,  0.0933,\n",
              "        0.0348,  0.117 , -0.07  ,  0.0738, -0.162 ,  0.0217,  0.0514,\n",
              "        0.1889, -0.0453,  0.1158,  0.0786, -0.0457,  0.125 ,  0.164 ,\n",
              "       -0.0404, -0.1043, -0.0503, -0.1985, -0.0734, -0.1043, -0.0058,\n",
              "       -0.152 ,  0.0872, -0.0214,  0.0699, -0.0645, -0.0349,  0.0049,\n",
              "        0.0247, -0.1008,  0.084 , -0.1062, -0.1387, -0.0914,  0.123 ,\n",
              "        0.0617,  0.0295,  0.032 ,  0.0479,  0.0193, -0.0962,  0.0912,\n",
              "       -0.0531,  0.2955, -0.0737, -0.075 , -0.3178, -0.1746,  0.1155,\n",
              "        0.1396, -0.0468, -0.0421,  0.0088,  0.1071,  0.0287, -0.0693,\n",
              "       -0.0508, -0.0383, -0.2811,  0.0893,  0.0531, -0.1381,  0.0362,\n",
              "       -0.1264, -0.2139, -0.1198, -0.033 , -0.2208, -0.1421, -0.018 ,\n",
              "       -0.0169,  0.1613, -0.0789, -0.0905,  0.0053, -0.0552, -0.166 ,\n",
              "        0.0418, -0.2639,  0.0204, -0.0336,  0.1565, -0.1006, -0.1296,\n",
              "       -0.1237, -0.0732, -0.1709,  0.1833, -0.0338, -0.0454, -0.0532,\n",
              "       -0.1137, -0.0478, -0.1941, -0.051 ,  0.1297, -0.1051,  0.1869,\n",
              "       -0.023 , -0.2271, -0.2255,  0.2161,  0.069 ,  0.0639],\n",
              "      dtype=float32)"
            ]
          },
          "metadata": {},
          "execution_count": 49
        }
      ]
    },
    {
      "cell_type": "code",
      "source": [
        "# fasttext has 300 dimension embedding vectors after initially attempting to run it\n",
        "# this was changed from 100 to 300 to match the dimensions\n",
        "embedding_dim = 300\n",
        "max_words = 20000\n",
        "word_index = tokenizer.word_index\n",
        "\n",
        "embedding_matrix = np.zeros((max_words, embedding_dim))\n",
        "for word, i in word_index.items():\n",
        "    embedding_vector = fast_text_index.get(word)\n",
        "    if i < max_words:\n",
        "        if embedding_vector is not None:\n",
        "            embedding_matrix[i] = embedding_vector"
      ],
      "metadata": {
        "id": "hRuo7gF8ViCf"
      },
      "execution_count": 51,
      "outputs": []
    },
    {
      "cell_type": "code",
      "source": [
        "from keras import layers\n",
        "\n",
        "fast_text_model = Sequential()\n",
        "fast_text_model.add(Embedding(max_words, embedding_dim, input_length=maxlen))\n",
        "fast_text_model.add(layers.Conv1D(filters=64, kernel_size=3, activation='relu'))\n",
        "fast_text_model.add(layers.Conv1D(filters=64, kernel_size=3, activation='relu'))\n",
        "fast_text_model.add(layers.Dropout(0.5))\n",
        "fast_text_model.add(layers.MaxPooling1D(pool_size=2))\n",
        "fast_text_model.add(Flatten())\n",
        "fast_text_model.add(Dense(32, activation='relu'))\n",
        "fast_text_model.add(Dense(4, activation='softmax'))\n",
        "fast_text_model.summary()"
      ],
      "metadata": {
        "colab": {
          "base_uri": "https://localhost:8080/"
        },
        "id": "n0ifYVCnWHnw",
        "outputId": "4f7da392-8020-4b5f-afec-4f08f28556b2"
      },
      "execution_count": 52,
      "outputs": [
        {
          "output_type": "stream",
          "name": "stdout",
          "text": [
            "Model: \"sequential_4\"\n",
            "_________________________________________________________________\n",
            " Layer (type)                Output Shape              Param #   \n",
            "=================================================================\n",
            " embedding_5 (Embedding)     (None, 50, 300)           6000000   \n",
            "                                                                 \n",
            " conv1d_4 (Conv1D)           (None, 48, 64)            57664     \n",
            "                                                                 \n",
            " conv1d_5 (Conv1D)           (None, 46, 64)            12352     \n",
            "                                                                 \n",
            " dropout_2 (Dropout)         (None, 46, 64)            0         \n",
            "                                                                 \n",
            " max_pooling1d_2 (MaxPooling  (None, 23, 64)           0         \n",
            " 1D)                                                             \n",
            "                                                                 \n",
            " flatten_4 (Flatten)         (None, 1472)              0         \n",
            "                                                                 \n",
            " dense_7 (Dense)             (None, 32)                47136     \n",
            "                                                                 \n",
            " dense_8 (Dense)             (None, 4)                 132       \n",
            "                                                                 \n",
            "=================================================================\n",
            "Total params: 6,117,284\n",
            "Trainable params: 6,117,284\n",
            "Non-trainable params: 0\n",
            "_________________________________________________________________\n"
          ]
        }
      ]
    },
    {
      "cell_type": "code",
      "source": [
        "fast_text_model.layers[0].set_weights([embedding_matrix])\n",
        "fast_text_model.layers[0].trainable = False"
      ],
      "metadata": {
        "id": "iM1gYtsZWaL1"
      },
      "execution_count": 53,
      "outputs": []
    },
    {
      "cell_type": "code",
      "source": [
        "fast_text_model.compile(optimizer='rmsprop',\n",
        "              loss='sparse_categorical_crossentropy',\n",
        "              metrics=['acc'])"
      ],
      "metadata": {
        "id": "-5lCp-dNWeAp"
      },
      "execution_count": 54,
      "outputs": []
    },
    {
      "cell_type": "code",
      "source": [
        "#same history implementation as before\n",
        "history = fast_text_model.fit(climate_train_text, climate_train_labels,\n",
        "                    epochs=10,\n",
        "                    batch_size=32,\n",
        "                     validation_split=0.2,\n",
        "      validation_steps=50)"
      ],
      "metadata": {
        "colab": {
          "base_uri": "https://localhost:8080/"
        },
        "id": "cElUHcfvWgd3",
        "outputId": "c3ce100e-f78a-43bc-eb88-5320eb195372"
      },
      "execution_count": 55,
      "outputs": [
        {
          "output_type": "stream",
          "name": "stdout",
          "text": [
            "Epoch 1/10\n",
            "879/879 [==============================] - 34s 37ms/step - loss: 0.9479 - acc: 0.6144 - val_loss: 0.8593 - val_acc: 0.6556\n",
            "Epoch 2/10\n",
            "879/879 [==============================] - 26s 30ms/step - loss: 0.8392 - acc: 0.6585 - val_loss: 0.8276 - val_acc: 0.6744\n",
            "Epoch 3/10\n",
            "879/879 [==============================] - 26s 30ms/step - loss: 0.7838 - acc: 0.6830 - val_loss: 0.8007 - val_acc: 0.6719\n",
            "Epoch 4/10\n",
            "879/879 [==============================] - 28s 32ms/step - loss: 0.7421 - acc: 0.7007 - val_loss: 0.8066 - val_acc: 0.6781\n",
            "Epoch 5/10\n",
            "879/879 [==============================] - 28s 32ms/step - loss: 0.7085 - acc: 0.7159 - val_loss: 0.7564 - val_acc: 0.6913\n",
            "Epoch 6/10\n",
            "879/879 [==============================] - 27s 31ms/step - loss: 0.6761 - acc: 0.7289 - val_loss: 0.7681 - val_acc: 0.6856\n",
            "Epoch 7/10\n",
            "879/879 [==============================] - 27s 31ms/step - loss: 0.6443 - acc: 0.7434 - val_loss: 0.7714 - val_acc: 0.6906\n",
            "Epoch 8/10\n",
            "879/879 [==============================] - 25s 29ms/step - loss: 0.6233 - acc: 0.7532 - val_loss: 0.8231 - val_acc: 0.6881\n",
            "Epoch 9/10\n",
            "879/879 [==============================] - 27s 31ms/step - loss: 0.5882 - acc: 0.7686 - val_loss: 0.7625 - val_acc: 0.6956\n",
            "Epoch 10/10\n",
            "879/879 [==============================] - 27s 30ms/step - loss: 0.5639 - acc: 0.7777 - val_loss: 0.7941 - val_acc: 0.6919\n"
          ]
        }
      ]
    },
    {
      "cell_type": "markdown",
      "metadata": {
        "id": "nx73-VQGS45v"
      },
      "source": [
        "![](https://raw.githubusercontent.com/zacharski/datamining-guide/master/labs/pics/PyDivideTwo.png)\n",
        "## <font color='#EE4C2C'>4. Accuracy with the test data</font> \n",
        "How well did this do? Is it better than the accuracy on this dataset from our previous notebook?"
      ]
    },
    {
      "cell_type": "code",
      "source": [
        "import matplotlib.pyplot as plt\n",
        "\n",
        "acc = history.history['acc']\n",
        "val_acc = history.history['val_acc']\n",
        "loss = history.history['loss']\n",
        "val_loss = history.history['val_loss']\n",
        "\n",
        "epochs = range(1, len(acc) + 1)\n",
        "\n",
        "plt.plot(epochs, acc, 'bo', label='Training acc')\n",
        "plt.plot(epochs, val_acc, 'b', label='Validation acc')\n",
        "plt.title('Training and validation accuracy')\n",
        "plt.legend()\n",
        "\n",
        "plt.figure()\n",
        "\n",
        "plt.plot(epochs, loss, 'bo', label='Training loss')\n",
        "plt.plot(epochs, val_loss, 'b', label='Validation loss')\n",
        "plt.title('Training and validation loss')\n",
        "plt.legend()\n",
        "\n",
        "plt.show()"
      ],
      "metadata": {
        "colab": {
          "base_uri": "https://localhost:8080/",
          "height": 887
        },
        "id": "ac3AqwebZJnd",
        "outputId": "0f7145f1-0354-4e9e-a6e1-5b44734aa201"
      },
      "execution_count": 56,
      "outputs": [
        {
          "output_type": "display_data",
          "data": {
            "text/plain": [
              "<Figure size 640x480 with 1 Axes>"
            ],
            "image/png": "[encoded data removed]"
          },
          "metadata": {}
        },
        {
          "output_type": "display_data",
          "data": {
            "text/plain": [
              "<Figure size 640x480 with 1 Axes>"
            ],
            "image/png": "[encoded data removed]"
          },
          "metadata": {}
        }
      ]
    },
    {
      "cell_type": "code",
      "execution_count": 58,
      "metadata": {
        "id": "H90SONxM01BU",
        "colab": {
          "base_uri": "https://localhost:8080/"
        },
        "outputId": "fca96edf-eff3-4c63-ff52-0eba3b324f1f"
      },
      "outputs": [
        {
          "output_type": "stream",
          "name": "stdout",
          "text": [
            "275/275 [==============================] - 3s 9ms/step - loss: 0.8182 - acc: 0.6898\n",
            "Accuracy 0.689840    Loss: 0.818208\n"
          ]
        }
      ],
      "source": [
        "test_loss, test_acc, = fast_text_model.evaluate(climate_test_text, climate_test_labels)\n",
        "print(\"Accuracy %f    Loss: %f\" % (test_acc, test_loss))"
      ]
    },
    {
      "cell_type": "markdown",
      "source": [
        "I was able to achieve a 68.98% accuracy against the test data"
      ],
      "metadata": {
        "id": "2Zg9EynNbM5g"
      }
    },
    {
      "cell_type": "markdown",
      "metadata": {
        "id": "_dV_5H54TORs"
      },
      "source": [
        "![](https://raw.githubusercontent.com/zacharski/datamining-guide/master/labs/pics/PyDivideTwo.png)\n",
        "## <font color='#EE4C2C'>5. Better than 75% accuracy - bonus 10xp</font> \n",
        "Can you modify your network and training to get better results? For example, you can train for fewer or more epochs. You can add or subtract layers to the network."
      ]
    },
    {
      "cell_type": "code",
      "execution_count": null,
      "metadata": {
        "id": "ITvo0sfG1JGv"
      },
      "outputs": [],
      "source": []
    },
    {
      "cell_type": "markdown",
      "metadata": {
        "id": "GEkeaxnyi2K0"
      },
      "source": [
        "#### MIT License\n",
        "Copyright (c) 2017 François Chollet\n",
        "\n",
        "Permission is hereby granted, free of charge, to any person obtaining a copy of this software and associated documentation files (the \"Software\"), to deal in the Software without restriction, including without limitation the rights to use, copy, modify, merge, publish, distribute, sublicense, and/or sell copies of the Software, and to permit persons to whom the Software is furnished to do so, subject to the following conditions:\n",
        "\n",
        "The above copyright notice and this permission notice shall be included in all copies or substantial portions of the Software.\n",
        "\n",
        "THE SOFTWARE IS PROVIDED \"AS IS\", WITHOUT WARRANTY OF ANY KIND, EXPRESS OR IMPLIED, INCLUDING BUT NOT LIMITED TO THE WARRANTIES OF MERCHANTABILITY, FITNESS FOR A PARTICULAR PURPOSE AND NONINFRINGEMENT. IN NO EVENT SHALL THE AUTHORS OR COPYRIGHT HOLDERS BE LIABLE FOR ANY CLAIM, DAMAGES OR OTHER LIABILITY, WHETHER IN AN ACTION OF CONTRACT, TORT OR OTHERWISE, ARISING FROM, OUT OF OR IN CONNECTION WITH THE SOFTWARE OR THE USE OR OTHER DEALINGS IN THE SOFTWARE."
      ]
    }
  ],
  "metadata": {
    "accelerator": "TPU",
    "colab": {
      "provenance": [],
      "include_colab_link": true
    },
    "kernelspec": {
      "display_name": "Python 3 (ipykernel)",
      "language": "python",
      "name": "python3"
    },
    "language_info": {
      "codemirror_mode": {
        "name": "ipython",
        "version": 3
      },
      "file_extension": ".py",
      "mimetype": "text/x-python",
      "name": "python",
      "nbconvert_exporter": "python",
      "pygments_lexer": "ipython3",
      "version": "3.9.12"
    }
  },
  "nbformat": 4,
  "nbformat_minor": 0
}