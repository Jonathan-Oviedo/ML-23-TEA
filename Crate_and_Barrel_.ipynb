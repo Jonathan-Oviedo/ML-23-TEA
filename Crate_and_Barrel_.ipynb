{
  "nbformat": 4,
  "nbformat_minor": 0,
  "metadata": {
    "colab": {
      "provenance": [],
      "authorship_tag": "ABX9TyN5gFUSqSv90WRKKx8MkTbW",
      "include_colab_link": true
    },
    "kernelspec": {
      "name": "python3",
      "display_name": "Python 3"
    },
    "language_info": {
      "name": "python"
    }
  },
  "cells": [
    {
      "cell_type": "markdown",
      "metadata": {
        "id": "view-in-github",
        "colab_type": "text"
      },
      "source": [
        "<a href=\"https://colab.research.google.com/github/Jonathan-Oviedo/ML-23-TEA/blob/Labs/Crate_and_Barrel_.ipynb\" target=\"_parent\"><img src=\"https://colab.research.google.com/assets/colab-badge.svg\" alt=\"Open In Colab\"/></a>"
      ]
    },
    {
      "cell_type": "markdown",
      "source": [
        "# Crate and Barrel Project\n",
        "By: Jonathan Oviedo and Gerald Atilus\n",
        "\n",
        "The work done for this project was done in collaboration with each member contributing an equal amount of work for each section, so the work was just added to one collab."
      ],
      "metadata": {
        "id": "tR5sPegvTVKP"
      }
    },
    {
      "cell_type": "markdown",
      "source": [
        "# Attempt One using Random Search and Decision Trees\n",
        "\n",
        "This attempt we tried using random search and decision trees. We ended up with about 57% accuracy which was not bad but we wanted to see if it could be improved using a different method."
      ],
      "metadata": {
        "id": "W-jL5VRSUB2E"
      }
    },
    {
      "cell_type": "markdown",
      "source": [
        "Importing the needed libraries"
      ],
      "metadata": {
        "id": "CY2rSPZ3YJfD"
      }
    },
    {
      "cell_type": "code",
      "source": [
        "#This imports the libraries needed. Mostly taken from previous labs like xgboost and decision tree\n",
        "import numpy as np\n",
        "import pandas as pd\n",
        "from sklearn.ensemble import RandomForestClassifier\n",
        "from sklearn.feature_selection import RFE\n",
        "from sklearn.model_selection import RandomizedSearchCV\n",
        "from sklearn.preprocessing import LabelEncoder"
      ],
      "metadata": {
        "id": "lGPYUz8ZTYyZ"
      },
      "execution_count": 2,
      "outputs": []
    },
    {
      "cell_type": "markdown",
      "source": [
        "\n",
        "# Preparing the data"
      ],
      "metadata": {
        "id": "EPQtcWrtZ-S_"
      }
    },
    {
      "cell_type": "markdown",
      "source": [
        "we prepare the data by reading the csv files and converting our data to numeric values"
      ],
      "metadata": {
        "id": "jwnNAoqpaGVD"
      }
    },
    {
      "cell_type": "code",
      "source": [
        "#loading the testing and training data from the kaggle CSV files\n",
        "trainData = pd.read_csv(\"train.csv\")\n",
        "testData =  pd.read_csv(\"test.csv\")\n",
        "\n",
        "#Getting the target and id from the training data\n",
        "targetTrain = trainData[[\"target\",\"id\"]]\n",
        "\n",
        "#the columns target and id are dropped from trainData.\n",
        "trainData = trainData.drop([\"target\",\"id\"], axis=1)\n",
        "\n",
        "#creating classes from the target variable\n",
        "#created trainLabel to have a unique class for the numeric value\n",
        "trainLabel = targetTrain['target']\n",
        "Class = np.unique(trainLabel)\n",
        "#testData prints here to check for an issue I ran into for for the \"id\" column\n",
        "print(testData.columns)"
      ],
      "metadata": {
        "colab": {
          "base_uri": "https://localhost:8080/"
        },
        "id": "JbUIAhXVaFko",
        "outputId": "c55c6321-af51-439f-c207-dc2cdcc58497"
      },
      "execution_count": 4,
      "outputs": [
        {
          "output_type": "stream",
          "name": "stdout",
          "text": [
            "Index(['id', 'feat_1', 'feat_2', 'feat_3', 'feat_4', 'feat_5', 'feat_6',\n",
            "       'feat_7', 'feat_8', 'feat_9', 'feat_10', 'feat_11', 'feat_12',\n",
            "       'feat_13', 'feat_14', 'feat_15', 'feat_16', 'feat_17', 'feat_18',\n",
            "       'feat_19', 'feat_20', 'feat_21', 'feat_22', 'feat_23', 'feat_24',\n",
            "       'feat_25', 'feat_26', 'feat_27', 'feat_28', 'feat_29', 'feat_30',\n",
            "       'feat_31', 'feat_32', 'feat_33', 'feat_34', 'feat_35', 'feat_36',\n",
            "       'feat_37', 'feat_38', 'feat_39', 'feat_40', 'feat_41', 'feat_42',\n",
            "       'feat_43', 'feat_44', 'feat_45', 'feat_46', 'feat_47', 'feat_48',\n",
            "       'feat_49', 'feat_50', 'feat_51', 'feat_52', 'feat_53', 'feat_54',\n",
            "       'feat_55', 'feat_56', 'feat_57', 'feat_58', 'feat_59', 'feat_60',\n",
            "       'feat_61', 'feat_62', 'feat_63', 'feat_64', 'feat_65', 'feat_66',\n",
            "       'feat_67', 'feat_68', 'feat_69', 'feat_70', 'feat_71', 'feat_72',\n",
            "       'feat_73', 'feat_74', 'feat_75', 'feat_76', 'feat_77', 'feat_78',\n",
            "       'feat_79', 'feat_80', 'feat_81', 'feat_82', 'feat_83', 'feat_84',\n",
            "       'feat_85', 'feat_86', 'feat_87', 'feat_88', 'feat_89', 'feat_90',\n",
            "       'feat_91', 'feat_92', 'feat_93'],\n",
            "      dtype='object')\n"
          ]
        }
      ]
    },
    {
      "cell_type": "markdown",
      "source": [
        "# Random Search Implementation\n",
        "\n",
        "We first needed to find the best parameters to use for our model and by creating paramDistribution along with a larger range for estimators, depth, min split, and min leaf we were able to do so.\n",
        "\n",
        "\n",
        "\n",
        "after param runs a clf and rfc object are created and clf is fit to the training data we previously implemented.\n",
        "\n",
        "\n",
        "\n",
        "this whole process does take some time to run on average about 15-20 mins so we leave the results as is since how time consuming it can be."
      ],
      "metadata": {
        "id": "4R_cO0VkkGmO"
      }
    },
    {
      "cell_type": "code",
      "source": [
        "#Defining the parameter\n",
        "paramDistribution = {\n",
        "    'n_estimators': [50, 100, 200, 500],\n",
        "    'max_depth': [None, 5, 10, 20],\n",
        "    'min_samples_split': [2, 5, 10],\n",
        "    'min_samples_leaf': [1, 2, 4]\n",
        "}\n",
        "#creating an rfc\n",
        "RFC = RandomForestClassifier()\n",
        "\n",
        "#creating a clf object\n",
        "clf = RandomizedSearchCV(RFC, paramDistribution, n_iter=10, cv=5)\n",
        "\n",
        "#fitting the model to training so we can find the optimal params to use.\n",
        "clf.fit(trainData, trainLabel)\n",
        "#This took a bit of time to run. 15-20 on average, take that into account."
      ],
      "metadata": {
        "colab": {
          "base_uri": "https://localhost:8080/",
          "height": 118
        },
        "id": "St51vcwekNDj",
        "outputId": "08132eb2-72e5-4cc5-9664-f94f7788771c"
      },
      "execution_count": 5,
      "outputs": [
        {
          "output_type": "execute_result",
          "data": {
            "text/plain": [
              "RandomizedSearchCV(cv=5, estimator=RandomForestClassifier(),\n",
              "                   param_distributions={'max_depth': [None, 5, 10, 20],\n",
              "                                        'min_samples_leaf': [1, 2, 4],\n",
              "                                        'min_samples_split': [2, 5, 10],\n",
              "                                        'n_estimators': [50, 100, 200, 500]})"
            ],
            "text/html": [
              "<style>#sk-container-id-1 {color: black;background-color: white;}#sk-container-id-1 pre{padding: 0;}#sk-container-id-1 div.sk-toggleable {background-color: white;}#sk-container-id-1 label.sk-toggleable__label {cursor: pointer;display: block;width: 100%;margin-bottom: 0;padding: 0.3em;box-sizing: border-box;text-align: center;}#sk-container-id-1 label.sk-toggleable__label-arrow:before {content: \"▸\";float: left;margin-right: 0.25em;color: #696969;}#sk-container-id-1 label.sk-toggleable__label-arrow:hover:before {color: black;}#sk-container-id-1 div.sk-estimator:hover label.sk-toggleable__label-arrow:before {color: black;}#sk-container-id-1 div.sk-toggleable__content {max-height: 0;max-width: 0;overflow: hidden;text-align: left;background-color: #f0f8ff;}#sk-container-id-1 div.sk-toggleable__content pre {margin: 0.2em;color: black;border-radius: 0.25em;background-color: #f0f8ff;}#sk-container-id-1 input.sk-toggleable__control:checked~div.sk-toggleable__content {max-height: 200px;max-width: 100%;overflow: auto;}#sk-container-id-1 input.sk-toggleable__control:checked~label.sk-toggleable__label-arrow:before {content: \"▾\";}#sk-container-id-1 div.sk-estimator input.sk-toggleable__control:checked~label.sk-toggleable__label {background-color: #d4ebff;}#sk-container-id-1 div.sk-label input.sk-toggleable__control:checked~label.sk-toggleable__label {background-color: #d4ebff;}#sk-container-id-1 input.sk-hidden--visually {border: 0;clip: rect(1px 1px 1px 1px);clip: rect(1px, 1px, 1px, 1px);height: 1px;margin: -1px;overflow: hidden;padding: 0;position: absolute;width: 1px;}#sk-container-id-1 div.sk-estimator {font-family: monospace;background-color: #f0f8ff;border: 1px dotted black;border-radius: 0.25em;box-sizing: border-box;margin-bottom: 0.5em;}#sk-container-id-1 div.sk-estimator:hover {background-color: #d4ebff;}#sk-container-id-1 div.sk-parallel-item::after {content: \"\";width: 100%;border-bottom: 1px solid gray;flex-grow: 1;}#sk-container-id-1 div.sk-label:hover label.sk-toggleable__label {background-color: #d4ebff;}#sk-container-id-1 div.sk-serial::before {content: \"\";position: absolute;border-left: 1px solid gray;box-sizing: border-box;top: 0;bottom: 0;left: 50%;z-index: 0;}#sk-container-id-1 div.sk-serial {display: flex;flex-direction: column;align-items: center;background-color: white;padding-right: 0.2em;padding-left: 0.2em;position: relative;}#sk-container-id-1 div.sk-item {position: relative;z-index: 1;}#sk-container-id-1 div.sk-parallel {display: flex;align-items: stretch;justify-content: center;background-color: white;position: relative;}#sk-container-id-1 div.sk-item::before, #sk-container-id-1 div.sk-parallel-item::before {content: \"\";position: absolute;border-left: 1px solid gray;box-sizing: border-box;top: 0;bottom: 0;left: 50%;z-index: -1;}#sk-container-id-1 div.sk-parallel-item {display: flex;flex-direction: column;z-index: 1;position: relative;background-color: white;}#sk-container-id-1 div.sk-parallel-item:first-child::after {align-self: flex-end;width: 50%;}#sk-container-id-1 div.sk-parallel-item:last-child::after {align-self: flex-start;width: 50%;}#sk-container-id-1 div.sk-parallel-item:only-child::after {width: 0;}#sk-container-id-1 div.sk-dashed-wrapped {border: 1px dashed gray;margin: 0 0.4em 0.5em 0.4em;box-sizing: border-box;padding-bottom: 0.4em;background-color: white;}#sk-container-id-1 div.sk-label label {font-family: monospace;font-weight: bold;display: inline-block;line-height: 1.2em;}#sk-container-id-1 div.sk-label-container {text-align: center;}#sk-container-id-1 div.sk-container {/* jupyter's `normalize.less` sets `[hidden] { display: none; }` but bootstrap.min.css set `[hidden] { display: none !important; }` so we also need the `!important` here to be able to override the default hidden behavior on the sphinx rendered scikit-learn.org. See: https://github.com/scikit-learn/scikit-learn/issues/21755 */display: inline-block !important;position: relative;}#sk-container-id-1 div.sk-text-repr-fallback {display: none;}</style><div id=\"sk-container-id-1\" class=\"sk-top-container\"><div class=\"sk-text-repr-fallback\"><pre>RandomizedSearchCV(cv=5, estimator=RandomForestClassifier(),\n",
              "                   param_distributions={&#x27;max_depth&#x27;: [None, 5, 10, 20],\n",
              "                                        &#x27;min_samples_leaf&#x27;: [1, 2, 4],\n",
              "                                        &#x27;min_samples_split&#x27;: [2, 5, 10],\n",
              "                                        &#x27;n_estimators&#x27;: [50, 100, 200, 500]})</pre><b>In a Jupyter environment, please rerun this cell to show the HTML representation or trust the notebook. <br />On GitHub, the HTML representation is unable to render, please try loading this page with nbviewer.org.</b></div><div class=\"sk-container\" hidden><div class=\"sk-item sk-dashed-wrapped\"><div class=\"sk-label-container\"><div class=\"sk-label sk-toggleable\"><input class=\"sk-toggleable__control sk-hidden--visually\" id=\"sk-estimator-id-1\" type=\"checkbox\" ><label for=\"sk-estimator-id-1\" class=\"sk-toggleable__label sk-toggleable__label-arrow\">RandomizedSearchCV</label><div class=\"sk-toggleable__content\"><pre>RandomizedSearchCV(cv=5, estimator=RandomForestClassifier(),\n",
              "                   param_distributions={&#x27;max_depth&#x27;: [None, 5, 10, 20],\n",
              "                                        &#x27;min_samples_leaf&#x27;: [1, 2, 4],\n",
              "                                        &#x27;min_samples_split&#x27;: [2, 5, 10],\n",
              "                                        &#x27;n_estimators&#x27;: [50, 100, 200, 500]})</pre></div></div></div><div class=\"sk-parallel\"><div class=\"sk-parallel-item\"><div class=\"sk-item\"><div class=\"sk-label-container\"><div class=\"sk-label sk-toggleable\"><input class=\"sk-toggleable__control sk-hidden--visually\" id=\"sk-estimator-id-2\" type=\"checkbox\" ><label for=\"sk-estimator-id-2\" class=\"sk-toggleable__label sk-toggleable__label-arrow\">estimator: RandomForestClassifier</label><div class=\"sk-toggleable__content\"><pre>RandomForestClassifier()</pre></div></div></div><div class=\"sk-serial\"><div class=\"sk-item\"><div class=\"sk-estimator sk-toggleable\"><input class=\"sk-toggleable__control sk-hidden--visually\" id=\"sk-estimator-id-3\" type=\"checkbox\" ><label for=\"sk-estimator-id-3\" class=\"sk-toggleable__label sk-toggleable__label-arrow\">RandomForestClassifier</label><div class=\"sk-toggleable__content\"><pre>RandomForestClassifier()</pre></div></div></div></div></div></div></div></div></div></div>"
            ]
          },
          "metadata": {},
          "execution_count": 5
        }
      ]
    },
    {
      "cell_type": "code",
      "source": [
        "#finding the best parammeters \n",
        "print(clf.best_params_)"
      ],
      "metadata": {
        "colab": {
          "base_uri": "https://localhost:8080/"
        },
        "id": "IDoDZzMjyIcj",
        "outputId": "50be6ac1-6adc-4b2d-e086-b92f481bc3a3"
      },
      "execution_count": 6,
      "outputs": [
        {
          "output_type": "stream",
          "name": "stdout",
          "text": [
            "{'n_estimators': 200, 'min_samples_split': 5, 'min_samples_leaf': 2, 'max_depth': None}\n"
          ]
        }
      ]
    },
    {
      "cell_type": "markdown",
      "source": [
        "# Now that we have the values for the parameters\n",
        "\n",
        "we create and fit the RFC using our optimal numbers. taken from clf.best_params_\n",
        "\n",
        "we faced some issues when attempting to fit the testData and creating a dataframe with the prediction but were able to work through it by eliminating the \"id\" as we did for trainingData and save it for later use when submitting the csv."
      ],
      "metadata": {
        "id": "ZG5EY1WVy3Ld"
      }
    },
    {
      "cell_type": "code",
      "source": [
        "#setting the params we found into a variable\n",
        "bestParam = clf.best_params_\n",
        "\n",
        "#creating a new RFC using our bestParam variable\n",
        "bestRFC = RandomForestClassifier(**bestParam)\n",
        "\n",
        "#fitting the new RFC with trainData and trainLabel\n",
        "fitting = bestRFC.fit(trainData, trainLabel)\n",
        "\n",
        "# When attempting to submit the csv files we found that we needed to readd the id column we was dropping in testData so we needed to save those id titles to later be attached to our final data frame\n",
        "testIDs = testData[\"id\"]\n",
        "testIDs = pd.DataFrame(testIDs, columns=[\"id\"])\n",
        "\n",
        "# Drop the \"id\" column from the test data\n",
        "testData = testData.drop(\"id\", axis=1)\n",
        "\n",
        "#after doing this we run the prediction CHANGED TO predict_proba to fix an issue when putting it into the dataframe we made.\n",
        "prediction = fitting.predict_proba(testData)\n",
        "\n",
        "#creating a dataframe for the probabilities to see the numeric values since regular printing just gives us the classes\n",
        "predictionDF = pd.DataFrame(prediction, columns = [\"Class_1\", \"Class_2\", \"Class_3\", \"Class_4\", \"Class_5\", \"Class_6\", \"Class_7\", \"Class_8\", \"Class_9\"])\n",
        "#print the head of the new dataframe to see how the prediction for each column looks\n",
        "predictionDF.head()"
      ],
      "metadata": {
        "colab": {
          "base_uri": "https://localhost:8080/",
          "height": 206
        },
        "id": "1HWzljVTztrR",
        "outputId": "ef18ba24-618a-4b47-fd80-22cd9f9603fa"
      },
      "execution_count": 7,
      "outputs": [
        {
          "output_type": "execute_result",
          "data": {
            "text/plain": [
              "    Class_1   Class_2   Class_3   Class_4   Class_5   Class_6   Class_7  \\\n",
              "0  0.012242  0.243294  0.227362  0.419809  0.003000  0.036551  0.038909   \n",
              "1  0.007833  0.045083  0.021893  0.007000  0.002768  0.572028  0.028315   \n",
              "2  0.000000  0.000000  0.000000  0.000000  0.004000  0.977167  0.000000   \n",
              "3  0.004583  0.526644  0.272036  0.078005  0.000000  0.001250  0.003333   \n",
              "4  0.122732  0.006607  0.003929  0.000000  0.002500  0.035988  0.016083   \n",
              "\n",
              "    Class_8   Class_9  \n",
              "0  0.015833  0.003000  \n",
              "1  0.305567  0.009512  \n",
              "2  0.017167  0.001667  \n",
              "3  0.005208  0.108940  \n",
              "4  0.311598  0.500563  "
            ],
            "text/html": [
              "\n",
              "  <div id=\"df-093e1bf6-3ad8-45a5-9c94-b100f0841a71\">\n",
              "    <div class=\"colab-df-container\">\n",
              "      <div>\n",
              "<style scoped>\n",
              "    .dataframe tbody tr th:only-of-type {\n",
              "        vertical-align: middle;\n",
              "    }\n",
              "\n",
              "    .dataframe tbody tr th {\n",
              "        vertical-align: top;\n",
              "    }\n",
              "\n",
              "    .dataframe thead th {\n",
              "        text-align: right;\n",
              "    }\n",
              "</style>\n",
              "<table border=\"1\" class=\"dataframe\">\n",
              "  <thead>\n",
              "    <tr style=\"text-align: right;\">\n",
              "      <th></th>\n",
              "      <th>Class_1</th>\n",
              "      <th>Class_2</th>\n",
              "      <th>Class_3</th>\n",
              "      <th>Class_4</th>\n",
              "      <th>Class_5</th>\n",
              "      <th>Class_6</th>\n",
              "      <th>Class_7</th>\n",
              "      <th>Class_8</th>\n",
              "      <th>Class_9</th>\n",
              "    </tr>\n",
              "  </thead>\n",
              "  <tbody>\n",
              "    <tr>\n",
              "      <th>0</th>\n",
              "      <td>0.012242</td>\n",
              "      <td>0.243294</td>\n",
              "      <td>0.227362</td>\n",
              "      <td>0.419809</td>\n",
              "      <td>0.003000</td>\n",
              "      <td>0.036551</td>\n",
              "      <td>0.038909</td>\n",
              "      <td>0.015833</td>\n",
              "      <td>0.003000</td>\n",
              "    </tr>\n",
              "    <tr>\n",
              "      <th>1</th>\n",
              "      <td>0.007833</td>\n",
              "      <td>0.045083</td>\n",
              "      <td>0.021893</td>\n",
              "      <td>0.007000</td>\n",
              "      <td>0.002768</td>\n",
              "      <td>0.572028</td>\n",
              "      <td>0.028315</td>\n",
              "      <td>0.305567</td>\n",
              "      <td>0.009512</td>\n",
              "    </tr>\n",
              "    <tr>\n",
              "      <th>2</th>\n",
              "      <td>0.000000</td>\n",
              "      <td>0.000000</td>\n",
              "      <td>0.000000</td>\n",
              "      <td>0.000000</td>\n",
              "      <td>0.004000</td>\n",
              "      <td>0.977167</td>\n",
              "      <td>0.000000</td>\n",
              "      <td>0.017167</td>\n",
              "      <td>0.001667</td>\n",
              "    </tr>\n",
              "    <tr>\n",
              "      <th>3</th>\n",
              "      <td>0.004583</td>\n",
              "      <td>0.526644</td>\n",
              "      <td>0.272036</td>\n",
              "      <td>0.078005</td>\n",
              "      <td>0.000000</td>\n",
              "      <td>0.001250</td>\n",
              "      <td>0.003333</td>\n",
              "      <td>0.005208</td>\n",
              "      <td>0.108940</td>\n",
              "    </tr>\n",
              "    <tr>\n",
              "      <th>4</th>\n",
              "      <td>0.122732</td>\n",
              "      <td>0.006607</td>\n",
              "      <td>0.003929</td>\n",
              "      <td>0.000000</td>\n",
              "      <td>0.002500</td>\n",
              "      <td>0.035988</td>\n",
              "      <td>0.016083</td>\n",
              "      <td>0.311598</td>\n",
              "      <td>0.500563</td>\n",
              "    </tr>\n",
              "  </tbody>\n",
              "</table>\n",
              "</div>\n",
              "      <button class=\"colab-df-convert\" onclick=\"convertToInteractive('df-093e1bf6-3ad8-45a5-9c94-b100f0841a71')\"\n",
              "              title=\"Convert this dataframe to an interactive table.\"\n",
              "              style=\"display:none;\">\n",
              "        \n",
              "  <svg xmlns=\"http://www.w3.org/2000/svg\" height=\"24px\"viewBox=\"0 0 24 24\"\n",
              "       width=\"24px\">\n",
              "    <path d=\"M0 0h24v24H0V0z\" fill=\"none\"/>\n",
              "    <path d=\"M18.56 5.44l.94 2.06.94-2.06 2.06-.94-2.06-.94-.94-2.06-.94 2.06-2.06.94zm-11 1L8.5 8.5l.94-2.06 2.06-.94-2.06-.94L8.5 2.5l-.94 2.06-2.06.94zm10 10l.94 2.06.94-2.06 2.06-.94-2.06-.94-.94-2.06-.94 2.06-2.06.94z\"/><path d=\"M17.41 7.96l-1.37-1.37c-.4-.4-.92-.59-1.43-.59-.52 0-1.04.2-1.43.59L10.3 9.45l-7.72 7.72c-.78.78-.78 2.05 0 2.83L4 21.41c.39.39.9.59 1.41.59.51 0 1.02-.2 1.41-.59l7.78-7.78 2.81-2.81c.8-.78.8-2.07 0-2.86zM5.41 20L4 18.59l7.72-7.72 1.47 1.35L5.41 20z\"/>\n",
              "  </svg>\n",
              "      </button>\n",
              "      \n",
              "  <style>\n",
              "    .colab-df-container {\n",
              "      display:flex;\n",
              "      flex-wrap:wrap;\n",
              "      gap: 12px;\n",
              "    }\n",
              "\n",
              "    .colab-df-convert {\n",
              "      background-color: #E8F0FE;\n",
              "      border: none;\n",
              "      border-radius: 50%;\n",
              "      cursor: pointer;\n",
              "      display: none;\n",
              "      fill: #1967D2;\n",
              "      height: 32px;\n",
              "      padding: 0 0 0 0;\n",
              "      width: 32px;\n",
              "    }\n",
              "\n",
              "    .colab-df-convert:hover {\n",
              "      background-color: #E2EBFA;\n",
              "      box-shadow: 0px 1px 2px rgba(60, 64, 67, 0.3), 0px 1px 3px 1px rgba(60, 64, 67, 0.15);\n",
              "      fill: #174EA6;\n",
              "    }\n",
              "\n",
              "    [theme=dark] .colab-df-convert {\n",
              "      background-color: #3B4455;\n",
              "      fill: #D2E3FC;\n",
              "    }\n",
              "\n",
              "    [theme=dark] .colab-df-convert:hover {\n",
              "      background-color: #434B5C;\n",
              "      box-shadow: 0px 1px 3px 1px rgba(0, 0, 0, 0.15);\n",
              "      filter: drop-shadow(0px 1px 2px rgba(0, 0, 0, 0.3));\n",
              "      fill: #FFFFFF;\n",
              "    }\n",
              "  </style>\n",
              "\n",
              "      <script>\n",
              "        const buttonEl =\n",
              "          document.querySelector('#df-093e1bf6-3ad8-45a5-9c94-b100f0841a71 button.colab-df-convert');\n",
              "        buttonEl.style.display =\n",
              "          google.colab.kernel.accessAllowed ? 'block' : 'none';\n",
              "\n",
              "        async function convertToInteractive(key) {\n",
              "          const element = document.querySelector('#df-093e1bf6-3ad8-45a5-9c94-b100f0841a71');\n",
              "          const dataTable =\n",
              "            await google.colab.kernel.invokeFunction('convertToInteractive',\n",
              "                                                     [key], {});\n",
              "          if (!dataTable) return;\n",
              "\n",
              "          const docLinkHtml = 'Like what you see? Visit the ' +\n",
              "            '<a target=\"_blank\" href=https://colab.research.google.com/notebooks/data_table.ipynb>data table notebook</a>'\n",
              "            + ' to learn more about interactive tables.';\n",
              "          element.innerHTML = '';\n",
              "          dataTable['output_type'] = 'display_data';\n",
              "          await google.colab.output.renderOutput(dataTable, element);\n",
              "          const docLink = document.createElement('div');\n",
              "          docLink.innerHTML = docLinkHtml;\n",
              "          element.appendChild(docLink);\n",
              "        }\n",
              "      </script>\n",
              "    </div>\n",
              "  </div>\n",
              "  "
            ]
          },
          "metadata": {},
          "execution_count": 7
        }
      ]
    },
    {
      "cell_type": "markdown",
      "source": [
        "# Creating the submission file for kaggle"
      ],
      "metadata": {
        "id": "YuMg9L3fREmn"
      }
    },
    {
      "cell_type": "code",
      "source": [
        "#have to add the id's columns we saved previously to the final submission\n",
        "submissionDF = pd.concat([testIDs,predictionDF], axis=1)\n",
        "#convert dataframe to a csv so we can submit to kraggle\n",
        "submissionDF.to_csv(\"submissionAttempt2.csv\", index=False)"
      ],
      "metadata": {
        "id": "-NTEfqbuRIvu"
      },
      "execution_count": 8,
      "outputs": []
    },
    {
      "cell_type": "markdown",
      "source": [
        "# Results\n",
        "private score: 57%\n",
        "\n",
        "public score:  56%"
      ],
      "metadata": {
        "id": "dRKDt1pTnt7I"
      }
    },
    {
      "cell_type": "markdown",
      "source": [
        "![Randomsearch attempt.JPG](data:image/jpeg;base64,/9j/4AAQSkZJRgABAQEAYABgAAD/4RD6RXhpZgAATU0AKgAAAAgABAE7AAIAAAAQAAAISodpAAQAAAABAAAIWpydAAEAAAAgAAAQ0uocAAcAAAgMAAAAPgAAAAAc6gAAAAgAAAAAAAAAAAAAAAAAAAAAAAAAAAAAAAAAAAAAAAAAAAAAAAAAAAAAAAAAAAAAAAAAAAAAAAAAAAAAAAAAAAAAAAAAAAAAAAAAAAAAAAAAAAAAAAAAAAAAAAAAAAAAAAAAAAAAAAAAAAAAAAAAAAAAAAAAAAAAAAAAAAAAAAAAAAAAAAAAAAAAAAAAAAAAAAAAAAAAAAAAAAAAAAAAAAAAAAAAAAAAAAAAAAAAAAAAAAAAAAAAAAAAAAAAAAAAAAAAAAAAAAAAAAAAAAAAAAAAAAAAAAAAAAAAAAAAAAAAAAAAAAAAAAAAAAAAAAAAAAAAAAAAAAAAAAAAAAAAAAAAAAAAAAAAAAAAAAAAAAAAAAAAAAAAAAAAAAAAAAAAAAAAAAAAAAAAAAAAAAAAAAAAAAAAAAAAAAAAAAAAAAAAAAAAAAAAAAAAAAAAAAAAAAAAAAAAAAAAAAAAAAAAAAAAAAAAAAAAAAAAAAAAAAAAAAAAAAAAAAAAAAAAAAAAAAAAAAAAAAAAAAAAAAAAAAAAAAAAAAAAAAAAAAAAAAAAAAAAAAAAAAAAAAAAAAAAAAAAAAAAAAAAAAAAAAAAAAAAAAAAAAAAAAAAAAAAAAAAAAAAAAAAAAAAAAAAAAAAAAAAAAAAAAAAAAAAAAAAAAAAAAAAAAAAAAAAAAAAAAAAAAAAAAAAAAAAAAAAAAAAAAAAAAAAAAAAAAAAAAAAAAAAAAAAAAAAAAAAAAAAAAAAAAAAAAAAAAAAAAAAAAAAAAAAAAAAAAAAAAAAAAAAAAAAAAAAAAAAAAAAAAAAAAAAAAAAAAAAAAAAAAAAAAAAAAAAAAAAAAAAAAAAAAAAAAAAAAAAAAAAAAAAAAAAAAAAAAAAAAAAAAAAAAAAAAAAAAAAAAAAAAAAAAAAAAAAAAAAAAAAAAAAAAAAAAAAAAAAAAAAAAAAAAAAAAAAAAAAAAAAAAAAAAAAAAAAAAAAAAAAAAAAAAAAAAAAAAAAAAAAAAAAAAAAAAAAAAAAAAAAAAAAAAAAAAAAAAAAAAAAAAAAAAAAAAAAAAAAAAAAAAAAAAAAAAAAAAAAAAAAAAAAAAAAAAAAAAAAAAAAAAAAAAAAAAAAAAAAAAAAAAAAAAAAAAAAAAAAAAAAAAAAAAAAAAAAAAAAAAAAAAAAAAAAAAAAAAAAAAAAAAAAAAAAAAAAAAAAAAAAAAAAAAAAAAAAAAAAAAAAAAAAAAAAAAAAAAAAAAAAAAAAAAAAAAAAAAAAAAAAAAAAAAAAAAAAAAAAAAAAAAAAAAAAAAAAAAAAAAAAAAAAAAAAAAAAAAAAAAAAAAAAAAAAAAAAAAAAAAAAAAAAAAAAAAAAAAAAAAAAAAAAAAAAAAAAAAAAAAAAAAAAAAAAAAAAAAAAAAAAAAAAAAAAAAAAAAAAAAAAAAAAAAAAAAAAAAAAAAAAAAAAAAAAAAAAAAAAAAAAAAAAAAAAAAAAAAAAAAAAAAAAAAAAAAAAAAAAAAAAAAAAAAAAAAAAAAAAAAAAAAAAAAAAAAAAAAAAAAAAAAAAAAAAAAAAAAAAAAAAAAAAAAAAAAAAAAAAAAAAAAAAAAAAAAAAAAAAAAAAAAAAAAAAAAAAAAAAAAAAAAAAAAAAAAAAAAAAAAAAAAAAAAAAAAAAAAAAAAAAAAAAAAAAAAAAAAAAAAAAAAAAAAAAAAAAAAAAAAAAAAAAAAAAAAAAAAAAAAAAAAAAAAAAAAAAAAAAAAAAAAAAAAAAAAAAAAAAAAAAAAAAAAAAAAAAAAAAAAAAAAAAAAAAAAAAAAAAAAAAAAAAAAAAAAAAAAAAAAAAAAAAAAAAAAAAAAAAAAAAAAAAAAAAAAAAAAAAAAAAAAAAAAAAAAAAAAAAAAAAAAAAAAAAAAAAAAAAAAAAAAAAAAAAAAAAAAAAAAAAAAAAAAAAAAAAAAAAAAAAAAAAAAAAAAAAAAAAAAAAAAAAAAAAAAAAAAAAAAAAAAAAAAAAAAAAAAAAAAAAAAAAAAAAAAAAAAAAAAAAAAAAAAAAAAAAAAAAAAAAAAAAAAAAAAAAAAAAAAAAAAAAAAAAAAAAAAAAAAAAAAAAAAAAAAAAAAAAAAAAAAAAAAAAAAAAAAAAAAAAAAAAAAAAAAAAAAAAAAAAAAAAAAAAAAAAAAAAAAAAAAAAAAAAAAAAAAAAAAAAAAAAAAAAAAAAAAAAAAAAAAAAAAAAAAAAAAAAAAAAAAAAAAAAAAAAAAAAAAAAAAAAAAAAAAAAAAAAAAAAAAAAAAAAAAAAAAAAAAAAAAAAAAAAAAAAAAAAAAAAAAAAAAAAAAAAAAAAAAAAAAAAAAAAAAAAAAAAAAAAAAAAAAAAAAAAAAAAAAAAAAAAAAAAAAAAAAAAAAAAAAAAAAAAAAAAAAAAAAAAAAAAAAAAAAAAAAAAAAAAAAAAAAAAAAAAAAAAAAAAAAAAAAAAAAAAAAAAAAAAAAAAAAAAAAAAAAAAAAAAAAAAAAAAAAAAAAAAAAAAAAAAAAAAAAAAAAAAAAAAAAAAAAAAAAAAAAAAAAAAAAAAAAAAAAAAAAAAAAAAAAAAAAAAAAAAAAAAAAAAAAAAAAAAAAAAAAAAAAAAAAAAAAAAAAAAAAAAAAAAAAAAAAAAAAAAAAAAAAAAAAAAAAAAAAAAAAAAAAAAAAAAAAAAAAAAAAAAAAAAAAAAAAAAAAAAAAAAAAAAAAAAAAAAAAAAAAAAAAAAAAAAAAAAAAAAAAAAAEpvbmF0aGFuIGdhcmNpYQAABZADAAIAAAAUAAAQqJAEAAIAAAAUAAAQvJKRAAIAAAADODcAAJKSAAIAAAADODcAAOocAAcAAAgMAAAInAAAAAAc6gAAAAgAAAAAAAAAAAAAAAAAAAAAAAAAAAAAAAAAAAAAAAAAAAAAAAAAAAAAAAAAAAAAAAAAAAAAAAAAAAAAAAAAAAAAAAAAAAAAAAAAAAAAAAAAAAAAAAAAAAAAAAAAAAAAAAAAAAAAAAAAAAAAAAAAAAAAAAAAAAAAAAAAAAAAAAAAAAAAAAAAAAAAAAAAAAAAAAAAAAAAAAAAAAAAAAAAAAAAAAAAAAAAAAAAAAAAAAAAAAAAAAAAAAAAAAAAAAAAAAAAAAAAAAAAAAAAAAAAAAAAAAAAAAAAAAAAAAAAAAAAAAAAAAAAAAAAAAAAAAAAAAAAAAAAAAAAAAAAAAAAAAAAAAAAAAAAAAAAAAAAAAAAAAAAAAAAAAAAAAAAAAAAAAAAAAAAAAAAAAAAAAAAAAAAAAAAAAAAAAAAAAAAAAAAAAAAAAAAAAAAAAAAAAAAAAAAAAAAAAAAAAAAAAAAAAAAAAAAAAAAAAAAAAAAAAAAAAAAAAAAAAAAAAAAAAAAAAAAAAAAAAAAAAAAAAAAAAAAAAAAAAAAAAAAAAAAAAAAAAAAAAAAAAAAAAAAAAAAAAAAAAAAAAAAAAAAAAAAAAAAAAAAAAAAAAAAAAAAAAAAAAAAAAAAAAAAAAAAAAAAAAAAAAAAAAAAAAAAAAAAAAAAAAAAAAAAAAAAAAAAAAAAAAAAAAAAAAAAAAAAAAAAAAAAAAAAAAAAAAAAAAAAAAAAAAAAAAAAAAAAAAAAAAAAAAAAAAAAAAAAAAAAAAAAAAAAAAAAAAAAAAAAAAAAAAAAAAAAAAAAAAAAAAAAAAAAAAAAAAAAAAAAAAAAAAAAAAAAAAAAAAAAAAAAAAAAAAAAAAAAAAAAAAAAAAAAAAAAAAAAAAAAAAAAAAAAAAAAAAAAAAAAAAAAAAAAAAAAAAAAAAAAAAAAAAAAAAAAAAAAAAAAAAAAAAAAAAAAAAAAAAAAAAAAAAAAAAAAAAAAAAAAAAAAAAAAAAAAAAAAAAAAAAAAAAAAAAAAAAAAAAAAAAAAAAAAAAAAAAAAAAAAAAAAAAAAAAAAAAAAAAAAAAAAAAAAAAAAAAAAAAAAAAAAAAAAAAAAAAAAAAAAAAAAAAAAAAAAAAAAAAAAAAAAAAAAAAAAAAAAAAAAAAAAAAAAAAAAAAAAAAAAAAAAAAAAAAAAAAAAAAAAAAAAAAAAAAAAAAAAAAAAAAAAAAAAAAAAAAAAAAAAAAAAAAAAAAAAAAAAAAAAAAAAAAAAAAAAAAAAAAAAAAAAAAAAAAAAAAAAAAAAAAAAAAAAAAAAAAAAAAAAAAAAAAAAAAAAAAAAAAAAAAAAAAAAAAAAAAAAAAAAAAAAAAAAAAAAAAAAAAAAAAAAAAAAAAAAAAAAAAAAAAAAAAAAAAAAAAAAAAAAAAAAAAAAAAAAAAAAAAAAAAAAAAAAAAAAAAAAAAAAAAAAAAAAAAAAAAAAAAAAAAAAAAAAAAAAAAAAAAAAAAAAAAAAAAAAAAAAAAAAAAAAAAAAAAAAAAAAAAAAAAAAAAAAAAAAAAAAAAAAAAAAAAAAAAAAAAAAAAAAAAAAAAAAAAAAAAAAAAAAAAAAAAAAAAAAAAAAAAAAAAAAAAAAAAAAAAAAAAAAAAAAAAAAAAAAAAAAAAAAAAAAAAAAAAAAAAAAAAAAAAAAAAAAAAAAAAAAAAAAAAAAAAAAAAAAAAAAAAAAAAAAAAAAAAAAAAAAAAAAAAAAAAAAAAAAAAAAAAAAAAAAAAAAAAAAAAAAAAAAAAAAAAAAAAAAAAAAAAAAAAAAAAAAAAAAAAAAAAAAAAAAAAAAAAAAAAAAAAAAAAAAAAAAAAAAAAAAAAAAAAAAAAAAAAAAAAAAAAAAAAAAAAAAAAAAAAAAAAAAAAAAAAAAAAAAAAAAAAAAAAAAAAAAAAAAAAAAAAAAAAAAAAAAAAAAAAAAAAAAAAAAAAAAAAAAAAAAAAAAAAAAAAAAAAAAAAAAAAAAAAAAAAAAAAAAAAAAAAAAAAAAAAAAAAAAAAAAAAAAAAAAAAAAAAAAAAAAAAAAAAAAAAAAAAAAAAAAAAAAAAAAAAAAAAAAAAAAAAAAAAAAAAAAAAAAAAAAAAAAAAAAAAAAAAAAAAAAAAAAAAAAAAAAAAAAAAAAAAAAAAAAAAAAAAAAAAAAAAAAAAAAAAAAAAAAAAAAAAAAAAAAAAAAAAAAAAAAAAAAAAAAAAAAAAAAAAAAAAAAAAAAAAAAAAAAAAAAAAAAAAAAAAAAAAAAAAAAAAAAAAAAAAAAAAAAAAAAAAAAAAAAAAAAAAAAAAAAAAAAAAAAAAAAAAAAAAAAAAAAAAAAAAAAAAAAAAAAAAAAAAAAAAAAAAAAAAAAAAAAAAAAAAAAAAAAAAAAAAAAAAAAAAAAAAAAAAAAAAAAAAAAAAAAAAAAAAAAAAAAAAAAAAAAAAAAAAAAAAAAAAAAAAAAAAAAAAAAAAAAAAAAAAAAAAAAAAAAAAAAAAAAAAAAAAAAAAAAAAAAAAAAAAAAAAAAAAAAAAAAAAAAAAAAAAAAAAAAAAAAAAAAAAAAAAAAAAAAAAAAAAAAAAAAAAAAAAAAAAAAAAAAAAAAAAAAAAAAAAAAAAAAAAAAAAAAAAAAAAAAAAAAAAAAAAAAAAAAAAAAAAAAAAAAAAAAAAAAAAAAAAAAAAAAAAAAAAAAAAAAAAAAAAAAAAAAAAAAAAAAAAAAAAAAAAAAAAAAAAAAAAAAAAAAAAAAAAAAADIwMjM6MDQ6MTcgMDE6MDY6MTUAMjAyMzowNDoxNyAwMTowNjoxNQAAAEoAbwBuAGEAdABoAGEAbgAgAGcAYQByAGMAaQBhAAAA/+ELImh0dHA6Ly9ucy5hZG9iZS5jb20veGFwLzEuMC8APD94cGFja2V0IGJlZ2luPSfvu78nIGlkPSdXNU0wTXBDZWhpSHpyZVN6TlRjemtjOWQnPz4NCjx4OnhtcG1ldGEgeG1sbnM6eD0iYWRvYmU6bnM6bWV0YS8iPjxyZGY6UkRGIHhtbG5zOnJkZj0iaHR0cDovL3d3dy53My5vcmcvMTk5OS8wMi8yMi1yZGYtc3ludGF4LW5zIyI+PHJkZjpEZXNjcmlwdGlvbiByZGY6YWJvdXQ9InV1aWQ6ZmFmNWJkZDUtYmEzZC0xMWRhLWFkMzEtZDMzZDc1MTgyZjFiIiB4bWxuczpkYz0iaHR0cDovL3B1cmwub3JnL2RjL2VsZW1lbnRzLzEuMS8iLz48cmRmOkRlc2NyaXB0aW9uIHJkZjphYm91dD0idXVpZDpmYWY1YmRkNS1iYTNkLTExZGEtYWQzMS1kMzNkNzUxODJmMWIiIHhtbG5zOnhtcD0iaHR0cDovL25zLmFkb2JlLmNvbS94YXAvMS4wLyI+PHhtcDpDcmVhdGVEYXRlPjIwMjMtMDQtMTdUMDE6MDY6MTUuODY5PC94bXA6Q3JlYXRlRGF0ZT48L3JkZjpEZXNjcmlwdGlvbj48cmRmOkRlc2NyaXB0aW9uIHJkZjphYm91dD0idXVpZDpmYWY1YmRkNS1iYTNkLTExZGEtYWQzMS1kMzNkNzUxODJmMWIiIHhtbG5zOmRjPSJodHRwOi8vcHVybC5vcmcvZGMvZWxlbWVudHMvMS4xLyI+PGRjOmNyZWF0b3I+PHJkZjpTZXEgeG1sbnM6cmRmPSJodHRwOi8vd3d3LnczLm9yZy8xOTk5LzAyLzIyLXJkZi1zeW50YXgtbnMjIj48cmRmOmxpPkpvbmF0aGFuIGdhcmNpYTwvcmRmOmxpPjwvcmRmOlNlcT4NCgkJCTwvZGM6Y3JlYXRvcj48L3JkZjpEZXNjcmlwdGlvbj48L3JkZjpSREY+PC94OnhtcG1ldGE+DQogICAgICAgICAgICAgICAgICAgICAgICAgICAgICAgICAgICAgICAgICAgICAgICAgICAgICAgICAgICAgICAgICAgICAgICAgICAgICAgICAgICAgICAgICAgICAgICAgICAgCiAgICAgICAgICAgICAgICAgICAgICAgICAgICAgICAgICAgICAgICAgICAgICAgICAgICAgICAgICAgICAgICAgICAgICAgICAgICAgICAgICAgICAgICAgICAgICAgICAgICAKICAgICAgICAgICAgICAgICAgICAgICAgICAgICAgICAgICAgICAgICAgICAgICAgICAgICAgICAgICAgICAgICAgICAgICAgICAgICAgICAgICAgICAgICAgICAgICAgICAgIAogICAgICAgICAgICAgICAgICAgICAgICAgICAgICAgICAgICAgICAgICAgICAgICAgICAgICAgICAgICAgICAgICAgICAgICAgICAgICAgICAgICAgICAgICAgICAgICAgICAgCiAgICAgICAgICAgICAgICAgICAgICAgICAgICAgICAgICAgICAgICAgICAgICAgICAgICAgICAgICAgICAgICAgICAgICAgICAgICAgICAgICAgICAgICAgICAgICAgICAgICAKICAgICAgICAgICAgICAgICAgICAgICAgICAgICAgICAgICAgICAgICAgICAgICAgICAgICAgICAgICAgICAgICAgICAgICAgICAgICAgICAgICAgICAgICAgICAgICAgICAgIAogICAgICAgICAgICAgICAgICAgICAgICAgICAgICAgICAgICAgICAgICAgICAgICAgICAgICAgICAgICAgICAgICAgICAgICAgICAgICAgICAgICAgICAgICAgICAgICAgICAgCiAgICAgICAgICAgICAgICAgICAgICAgICAgICAgICAgICAgICAgICAgICAgICAgICAgICAgICAgICAgICAgICAgICAgICAgICAgICAgICAgICAgICAgICAgICAgICAgICAgICAKICAgICAgICAgICAgICAgICAgICAgICAgICAgICAgICAgICAgICAgICAgICAgICAgICAgICAgICAgICAgICAgICAgICAgICAgICAgICAgICAgICAgICAgICAgICAgICAgICAgIAogICAgICAgICAgICAgICAgICAgICAgICAgICAgICAgICAgICAgICAgICAgICAgICAgICAgICAgICAgICAgICAgICAgICAgICAgICAgICAgICAgICAgICAgICAgICAgICAgICAgCiAgICAgICAgICAgICAgICAgICAgICAgICAgICAgICAgICAgICAgICAgICAgICAgICAgICAgICAgICAgICAgICAgICAgICAgICAgICAgICAgICAgICAgICAgICAgICAgICAgICAKICAgICAgICAgICAgICAgICAgICAgICAgICAgICAgICAgICAgICAgICAgICAgICAgICAgICAgICAgICAgICAgICAgICAgICAgICAgICAgICAgICAgICAgICAgICAgICAgICAgIAogICAgICAgICAgICAgICAgICAgICAgICAgICAgICAgICAgICAgICAgICAgICAgICAgICAgICAgICAgICAgICAgICAgICAgICAgICAgICAgICAgICAgICAgICAgICAgICAgICAgCiAgICAgICAgICAgICAgICAgICAgICAgICAgICAgICAgICAgICAgICAgICAgICAgICAgICAgICAgICAgICAgICAgICAgICAgICAgICAgICAgICAgICAgICAgICAgICAgICAgICAKICAgICAgICAgICAgICAgICAgICAgICAgICAgICAgICAgICAgICAgICAgICAgICAgICAgICAgICAgICAgICAgICAgICAgICAgICAgICAgICAgICAgICAgICAgICAgICAgICAgIAogICAgICAgICAgICAgICAgICAgICAgICAgICAgICAgICAgICAgICAgICAgICAgICAgICAgICAgICAgICAgICAgICAgICAgICAgICAgICAgICAgICAgICAgICAgICAgICAgICAgCiAgICAgICAgICAgICAgICAgICAgICAgICAgICAgICAgICAgICAgICAgICAgICAgICAgICAgICAgICAgICAgICAgICAgICAgICAgICAgICAgICAgICAgICAgICAgICAgICAgICAKICAgICAgICAgICAgICAgICAgICAgICAgICAgICAgICAgICAgICAgICAgICAgICAgICAgICAgICAgICAgICAgICAgICAgICAgICAgICAgICAgICAgICAgICAgICAgICAgICAgIAogICAgICAgICAgICAgICAgICAgICAgICAgICAgICAgICAgICAgICAgICAgICAgICAgICAgICAgICAgICAgICAgICAgICAgICAgICAgICAgICAgICAgICAgICAgICAgICAgICAgCiAgICAgICAgICAgICAgICAgICAgICAgICAgICAgICAgICAgICAgICAgICAgICAgICAgICAgICAgICAgICAgICAgICAgICAgICAgICAgICAgICAgICAgICAgICAgICAgICAgICAKICAgICAgICAgICAgICAgICAgICAgICAgICAgIDw/eHBhY2tldCBlbmQ9J3cnPz7/2wBDAAcFBQYFBAcGBQYIBwcIChELCgkJChUPEAwRGBUaGRgVGBcbHichGx0lHRcYIi4iJSgpKywrGiAvMy8qMicqKyr/2wBDAQcICAoJChQLCxQqHBgcKioqKioqKioqKioqKioqKioqKioqKioqKioqKioqKioqKioqKioqKioqKioqKioqKir/wAARCABgAw4DASIAAhEBAxEB/8QAHwAAAQUBAQEBAQEAAAAAAAAAAAECAwQFBgcICQoL/8QAtRAAAgEDAwIEAwUFBAQAAAF9AQIDAAQRBRIhMUEGE1FhByJxFDKBkaEII0KxwRVS0fAkM2JyggkKFhcYGRolJicoKSo0NTY3ODk6Q0RFRkdISUpTVFVWV1hZWmNkZWZnaGlqc3R1dnd4eXqDhIWGh4iJipKTlJWWl5iZmqKjpKWmp6ipqrKztLW2t7i5usLDxMXGx8jJytLT1NXW19jZ2uHi4+Tl5ufo6erx8vP09fb3+Pn6/8QAHwEAAwEBAQEBAQEBAQAAAAAAAAECAwQFBgcICQoL/8QAtREAAgECBAQDBAcFBAQAAQJ3AAECAxEEBSExBhJBUQdhcRMiMoEIFEKRobHBCSMzUvAVYnLRChYkNOEl8RcYGRomJygpKjU2Nzg5OkNERUZHSElKU1RVVldYWVpjZGVmZ2hpanN0dXZ3eHl6goOEhYaHiImKkpOUlZaXmJmaoqOkpaanqKmqsrO0tba3uLm6wsPExcbHyMnK0tPU1dbX2Nna4uPk5ebn6Onq8vP09fb3+Pn6/9oADAMBAAIRAxEAPwD6RoqLdcf88o/+/h/+Jo3XH/PKP/v4f/iaAJaKi3XH/PKP/v4f/iaN1x/zyj/7+H/4mgCWiot1x/zyj/7+H/4mjdcf88o/+/h/+JoAloqLdcf88o/+/h/+Jo3XH/PKP/v4f/iaAJaKi3XH/PKP/v4f/iaN1x/zyj/7+H/4mgCWiot1x/zyj/7+H/4mjdcf88o/+/h/+JoAloqLdcf88o/+/h/+Jo3XH/PKP/v4f/iaAJaKi3XH/PKP/v4f/iaN1x/zyj/7+H/4mgCWiot1x/zyj/7+H/4mjdcf88o/+/h/+JoAloqLdcf88o/+/h/+Jo3XH/PKP/v4f/iaAJaKi3XH/PKP/v4f/iaN1x/zyj/7+H/4mgCWiot1x/zyj/7+H/4mjdcf88o/+/h/+JoAloqLdcf88o/+/h/+Jo3XH/PKP/v4f/iaAJaKi3XH/PKP/v4f/iaN1x/zyj/7+H/4mgCWiot1x/zyj/7+H/4mjdcf88o/+/h/+JoAloqLdcf88o/+/h/+Jo3XH/PKP/v4f/iaAJaKi3XH/PKP/v4f/iaN1x/zyj/7+H/4mgCWiot1x/zyj/7+H/4mjdcf88o/+/h/+JoAloqLdcf88o/+/h/+Jo3XH/PKP/v4f/iaAJaKi3XH/PKP/v4f/iaN1x/zyj/7+H/4mgCWiot1x/zyj/7+H/4mjdcf88o/+/h/+JoAloqLdcf88o/+/h/+Jo3XH/PKP/v4f/iaAJaKi3XH/PKP/v4f/iaN1x/zyj/7+H/4mgCWiot1x/zyj/7+H/4mjdcf88o/+/h/+JoAloqLdcf88o/+/h/+Jo3XH/PKP/v4f/iaAJaKi3XH/PKP/v4f/iaN1x/zyj/7+H/4mgCWiot1x/zyj/7+H/4mjdcf88o/+/h/+JoAloqLdcf88o/+/h/+Jo3XH/PKP/v4f/iaAJaKi3XH/PKP/v4f/iaN1x/zyj/7+H/4mgCWiot1x/zyj/7+H/4mjdcf88o/+/h/+JoAloqLdcf88o/+/h/+Jo3XH/PKP/v4f/iaAJaKi3XH/PKP/v4f/iaN1x/zyj/7+H/4mgCWiot1x/zyj/7+H/4mjdcf88o/+/h/+JoAloqLdcf88o/+/h/+Jo3XH/PKP/v4f/iaAJaKi3XH/PKP/v4f/iaN1x/zyj/7+H/4mgCWiot1x/zyj/7+H/4mjdcf88o/+/h/+JoAloqLdcf88o/+/h/+Jo3XH/PKP/v4f/iaAJaKi3XH/PKP/v4f/iaN1x/zyj/7+H/4mgCWiot1x/zyj/7+H/4mjdcf88o/+/h/+JoAloqLdcf88o/+/h/+Jo3XH/PKP/v4f/iaAJaKi3XH/PKP/v4f/iaN1x/zyj/7+H/4mgCWiot1x/zyj/7+H/4mjdcf88o/+/h/+JoAloqLdcf88o/+/h/+Jo3XH/PKP/v4f/iaAJaKi3XH/PKP/v4f/iaN1x/zyj/7+H/4mgCWiot1x/zyj/7+H/4mjdcf88o/+/h/+JoAloqLdcf88o/+/h/+Jo3XH/PKP/v4f/iaAJaKi3XH/PKP/v4f/iaN1x/zyj/7+H/4mgCWiot1x/zyj/7+H/4mjdcf88o/+/h/+JoAloqLdcf88o/+/h/+JqUZ2jcMHvg0AFFFFABRRRQAUUUUAFFFFABRRRQAUUUUAFFFFABRRRQAUUUUAFFFFABRRRQAUUUUAFFFFABRRRQAUUUUAFFFFABRRRQAUUUUAFFFFABRRRQAUUUUAFFFFABRRRQAUUUUAFFFFABRRRQAUUUUAFFFFABRRRQAUUUUAFFFFABRRRQAUUUUAFFFFABRRRQAUUUUAFFFFABRRRQAUUUUAFFFFABRRRQAUUUUAFFFFABRRRQAUUUUAFFFFABRRRQAUUUUAFFFFABRRRQAVn6pr2l6JGH1W/gtQRlRI/zN9F6n8KyfHXik+F9CElsokvrlvKtkIz83dsd8fzIrG8OfDe3kUap4wL6lqlxh3SZyUjPoR/Efrx6Cs+ZttR6GFSpJS5IK7/BGzbfEXwndziKLWYVYnGZUeNf++mAH610kciSxrJE6ujDKspyCPUGsO98E+GLy2aKbRLKNMfehiETD/gS4NcFZ3j/DvWLeWw1D+0vCl/KU3Bw/kPnB6dx7dR7ihSadpGcqtWkuapZry6fI9bopFYMoZSCCMgjvS1odYVz1z488L2eu/wBj3WtW0d9vEZjJOFc9FZsbVY+hOa6GvGNdttW0vV9Xj8J6briXd5qazvpt3pyXWn3rFlzL5pX92DjP3wQQOB2FrJIPstnq0Ov6ZcajqNjDdBrnS1RryPa37oMpZecYOQCeM1zWpfErTLHWNBK3Fv8A2LqtpcXJvpCy7RGF24BGTktjGM+lYUzar4d+Ivix28PanqCa/a2/2Sayg3xKyRMjK75ATk9+w+grG0yw1PR2+G99deHdSu00vTboXUcVozSW7FVAypH3vRep5wCeKI6tf10d/uaQpabf18P+bPTYvHPhqfw+Nbh1eCTTjMsBnUMQsjEAKwxlTkjqB1qkfij4JFnc3P8AwkdmYraQRSEEk7jnGFxlhweVBHBrzjWdD1bWvDnirVbfQb+3h1jWbOS2sJLZvOZI2UPK0YyV3cnkds13KaTMfjRqd61hJ9kk0COFbgwny2fzWygbGCcY49MUdL/18Kf/AAAvrb+t2v8Agmrd+J0bWvDcWl6jpr2Wseaw3iRpJ1VNw8or8oxnndjjpzUkfj3wvLr39ix61bNf+aYRHk4Mg/gD42lv9nOa848MaFq1sPheJtKvYhYtqH2rfbuv2fcDt35Hy57Zxmlhg1fS9at7HwxpuuIjawZJ9K1TTkms40LktMlzt+UckjDE54qrLm5fX8xvSN/L/P8AyPRrnx54Xs9d/se61q2jvt4jMZJwrnorNjarH0JzTLTxKB4i8RW+o6jpqWWkrC+FDpJbqyFiZmb5OcZG3t1rzzXbbVtL1fV4/Cem64l3eams76bd6cl1p96xZcy+aV/dg4z98EEDgdjxH4V1zV9U+Ia2mnTN9pbTZYVZCqXgiG6REYjDdMfXAqY6q7/rb/Nja1a/rc9I0Txx4a8RfaP7F1eC6a2QySooZWVP720gEj3HFQWPxH8I6lqVrYWWvWsl1eKGgj5BfPQcjAY/3TzyOK5SR7zxf46sNW07QdT0210zS7mK4kv7RrdpWkXCQqp5bBBPAwKzbPw/qCfB7wPaHSLpby01e2mmh+zMJIQJmLOy4yoweSexqktVfy/Ftfpci/6/gk/1sdT8R/iBdeCzYw6Xpq6lczJLcTxlseVbxgF3/X9DVrxZ8SNI8KaZpF7OfPj1WWMRbdwxE2C0mQpztDA46nPFc3L4a8S+KviB4h1i3vF0a1ii/si3F9ppl+0Q43SMoZl+UsT8wzn8Kyxp+v2vwusNLvNK1C7uPDOvxA+XbMXubaKTKyRL/GNpA4z0qY7K/l9zf+VvPf5U99PP77f53/A7H/ha3h8+NbLw/HKWF5bJLHc7HA3uV8uPbt/iDA5zgdDWtP498LW2vjRZ9btU1DeIzEWOA56KWxtDexOawL6e5j+K+g66NJ1KSwvdJa08yO0ZjbyPIrDzV6xgDqT0/A1xcfh7ULfSdT8LazD4qne61GRzDp1lbtbXKvJuWb7Q8R2nGCdzggj8mui9fzt+X9dQfX5fl/meoat8QfCuhXtzaavrMFrcWrRrNG6tlS43L0HPHORnHfFTWXjfwzqWvf2NYa1aXGobN4hjfO4Yzw3QnHOAc1xyaHejxh8RZZNPuZIrvS7eG2meAkXBFuQyqcYY5wCB3qKz0O+isfhZjS7hHsB/pX+jsDb5tyDv4+XLeuOaS8/L8f8AIJabdvySf62Os/4WV4P+0wW7a9arLcSNFGr7l+ZWKkEkfLyCATjOOM1Wn+JWj23xIXwhKSszQqfPwxHnMwCxY29wQd2cdq8w0q5mvPhVrvhuz8MahfXeqajcpb3EFuHgZjLgO8nRCuP4sdBj27r7HqGifFvRLy6sr28tZdBXTGvLaAyIk4lDEyEfcXHOTx+tFP3uVvr+qv8A16r0CWnMl0v+Dt/Xoxdb8b+LdJt9Q10+HrSHw9p05jkjupnjvJ0DBTKg27QpzkAnJx716EkySW6zA4RlD5bjAxnmvINd8SXuveMXh8Q+EvFD+HtMmzb2lrpTyLfSqeJJTwCgIyqjIPBPpXc69dXfiDTdX8PWGn39rPc6Szw3s0WyHfIpUR7s8OO4xxSu+S6/rT9f67J6c9n/AF/wxY0nx74X1zV20zSdbtbq8XOI0Y/PjrsJGHx/sk0R+PfC8uvf2LHrVs1/5phEeTgyD+APjaW/2c5rl/CWpyTW/hrQpPAt9Hc6ZGEuLq+thFFZMibS8UhBDlj024yDkmsGGDV9L1q3sfDGm64iNrBkn0rVNOSazjQuS0yXO35RySMMTnirsudLp/wUTd8rf9dT09fFuhto9/qg1BBZadI8V3KUYeS6feUgjORkdq1LeeO6toriAlo5UDoSpGQRkcHkfjXkvibwxqs3j660C00+eTQPEl3bX95cpGTFB5WTKjEcAvsj6+tevAAAAcAdKlaxv/Xn+P5Dekrf15f8EKKKKACiiigAooooAKKKKACiiigAooooAKKKKACiiigAooooAKKKKACiiigAooqrd6pYWE0UV9fW1tJMcRJNMqGQ+ignn8KALVFFUX1zSY5Wik1SySRW2sjXCAg+mM9aAL1FU7jWNNtJjFd6haQSAZKSTqrD8CakGo2TWTXi3lubVQS04lXYAOuWzigCxRUNpeWt/bLcWNzDcwP92WGQOp+hHFRwapp91eS2ltfW01zD/rYY5lZ0+qg5H40AWqKiku7eK4jglniSaXPlxs4DP9B3qWgAooooAKKKKACiiigAooooAKKKKACiq97qNlpkHn6jeQWkWdvmTyqi59Mk1MjpLGrxsrowyrKcgj1BoAdRVO51fTbOYxXeoWsEgGSksyq2PoTUzXtqtmbtrmEWwXeZzINm313dMe9AE1FQ2l5a39stxY3MNzA/3ZYZA6n6EcUNe2qXi2j3MK3LjKwmQB2HqF69j+VAE1FVbrVNPsZoob6+traWY4iSaZUaQ+gBPP4VaoAKKKKACiiigAooooAKKKyodVvbqITWumGSFidrGdVzg46UAatFZv23U/8AoEf+TK1asbtb6yjuFUqHB+Unpg4/pQBYooooAKKKKACiiigDznxgoufiz4Xt7nmBR5ig9C24n+arXTReM9LfxZP4flaS3uogCrTLsWU9SFJ9vz7Vj/EvQ7u6srPW9IUm+0mTzQFGSyZB/QgH6ZqpcW2hfFjw/FNBMlrqsCjd3eI91I/iT0P/ANcVzxco3it7t/JnDKUoVpKO7s1frZWa9Sr4h8Q33jfVn8N+E5Nlkn/H9f8A8O3uAfT/ANC+la2qeBrU/D+XQNDg/eZWRZpeN8gIyxPuMjgVqWWn6R4H8NXBRdlnp8LXFxIRlpSFyWPqcDgfSuVub/xHdaRp+u65rF9pEWq3cFva6bpaQg26zNhGkeRGLtggkDAHatFTTTi9W7Xfrsv6+ZrCi5XnV3afyXW36s7rw9HPbaBY2l9xdQW6RyDOclRjOe/StOuM0jVNY03xUPC/ie5S+a4ha50zVFiEbTBSN8boOA65ByMAr2612ET+ZErEYJ6j3rV669zeMVFcvYfRRWbP4h0u2vjaTXQWRWCOwRjHGx6K7gbVJyMAkE5HrSKNKiiigAooqJLqF7yW1V8zRIrumDwrEgH8dp/KgCWimPNFFJGkkio0rbY1Y4LnBOB68An8KfQAUVE91FHdRWzN++mDMigZyFxk+wGR+YpLu7gsLOa7u38uCFC8j4JwAMngcmgCaioLa9gu1HksQ2xZDHIpSRVbOCyMAy5weo7Gp6ACiioorqGeaeGJ90luwSUYPykqGA/Ig0AS0UUyeaO2t5J5m2xxqXdsZwAMk0bBuPoqmmq2ckojjkZ23qhCRM2Cy7lzgcDHc8VcoAz9F0PT/D9i9npEHkQPK8zLvZsu5yxyxJ5NaFQ3V1DZQedcvsj3KpbBIBYgDPoMkc9qmoAKKKKACiiigAoopkk0cRQSyKhkbYm5sbm9B6nigB9FMjmilaRYpFdom2OFOdrYBwfQ4IP40+gAoopk00dvC808ixRRqWd3OAoHUk0APoqO4uIbS2kuLmVYoY1LO7nAUDuar6fqtpqayfZHctEQHjlieJ1zyMq4BAPY45oAuUUVXkvreKZ45nMZjCFmdSqfOSqgMRgkkYwDnp6igCxRUUV1DNcTQRvukgIEi4PykjI/Q0S3CRTQxuH3TMVTbGzDIBPJAwvAPJx6daAJaKia6hW8S0Z8TyRtIqYPKqQCfzYfnUtABRUVtdQ3kJltn3oHZCcEfMrFWHPoQRUtABRRVbUNQt9Mszc3jMsYZUGyNnZmYgABVBJJJAwBQBZopFYMoYZwRnkYP5UtABRRRQAUUUUAFeM6D4d0nxtrHxCvvFVvHd3UN7JZQtNybWFFO0pn7p75Hp9a9mriNf8AhXpGu6xeajHqOraVJqCCO+i066EUd2Bx86lTnjj8/U1LV7+jRSdvvTE+Deo3ep/CfRp7+RpZVR4g7nJZUkZV/QAfhXntx4dvvBul6n4g8SeCtD1W2XUpbm4nluA9yY5JBgoNpUAZ6E5zngV63D4O0+0utEk0+a8s4NFieK3s4JyIZFZcfvF/iI65z165rn5vg74fmuph9u1hNLnuPtEujJeEWbvnJymM4zzjP8q0k71OZf1qiIq0eV/1uVPifB4Zi8KSa7LoNjqOsaksdtp5mt1aSWVxiMc+g5x7VzepeE4dGu/hv4Evz5umSyTz30ZJ2XE6qHwfUbmIA9DXqOo+EdP1XxHpOsXck7NpAY2tqGUQBiMbyuMlgMY5wMdKTxX4P03xhYwQai1xBNayia2u7STy5rdx/EjYOP8APoKSsnfz/Bf1f7g1as+34v8Aq33nnEekzaT8TPGPhrwaVsIb7QPtMcMR2RwXJwikdkznPb9BXJ3UI0Lw74Tl0zwbfaHrum6lBDc388SxfanbIZFbOZQ5yemAMjPr7R4e+H2j6BDqW+S71W41UbL261KXzpZkxjYTgDbgnjH8hWdo/wAJND0fVrS8+36vfQ6e5exsb28823tG7FExwR2yT+fNOOjXy/Bt/rYJap/P8Ul/wTm/FHh2y0n45eDtRgaeW71K6unnlmlL8CMbUUHhVXJAAr16sTV/CljrPiTRtaupbhLnR2ka3SNlCMXAB3Agk9OxFbdTHSFvUb1lfy/zCiiigAooooAKKKKACiiigAooooA8rutMsvFf7QF7YeI7eO9s9M0hHtLScbo9zsNz7TwTzjPsPQVa+DZa0h8UaLC7Pp+l61NBZhmLCOPP3AfQdfxrofE/gDTvE2qW+qfbtR0nU7eMxLe6ZceTK0Z/gY4ORzmo7T4c6Rp/huz0bTbrUbOG2vFvWngudstxIDkmRsfMD3GB0GMYojorP+ru9/kglq/66K1vvOO8SeDNZuPHniLXT4Y0XXLWSGA239pT8qsaYdVUKfmJ7nA479sXXtct/F9p8ObLS9GX+yNRadzpBl8uIyRDaqMwH3FbceByO2eK9F134Y6XretXWqQ6nq+kT3yCO9Gm3flJdADA3gg5444x3qzqPw50G/8ADunaPClxp8elkNY3FlMY5rZu7K/PJ75znrRHRK/S36/8Bjlq3bt+iOL8H6rp3gfUvGMeqaSmi3Gnwx3dxb2NyZbWVCPlaJSAVY8DHfI6YrktC1KyuPi54T8T6trlhLqGrPdS3aR3iMlkhi2wQnB+U4OOeSTjrXsWg/D3RdEt9QW48/WptTK/bbjV3Fw84X7qtkY2jsMfyFQz/C7wlN4h03V4dItbWTTy5W3traJIZiwwDIuz5ivVTkYNVF2km+36P/gEvWLS6/1/mcDrOheX4y8Xf8JP4PvPED6mudN1BI1eG3jCEBTISBDtPfrx9M9t8Hb681H4TaLPqLO8ojeMO5yWRZGVf0AFLr/wr0fXtZutRGo6vpj3yhb6HTrvyorwAY/eLg5447f1rrdO0+10nTbew06FYLW2jEcUa9FUDAFTHSFvT8LjlrK/r+JZooooAKKKKACiiigArN8P/wDICt/+Bf8AoRrSrFsTqen2aWo00TCMn5xcKN2ST0/GmBtVm+H/APkBW/8AwL/0I0fbdT/6BH/kytTaTbSWelwwTAB1ByAc4ySf60AXKKKKQBRRRQAUUUUAFcbrfwy0fU7031hJNpV7nd5tqcKW9dvY/QiuyoqZRUtyJwjNWkrnJy+E7mfwJqXhm+1WS+mvLeWNLyYHcSwOM5JJxx36Vz51/wAP674Ui8P+ONQHhrWbARNIk9wLd4po/uTRM3yupIyCMj1r0p0DjByCDkEdQaglgaXAmignA6GRen6GmlbT0/DYqKUUkuh574akvPFfivS9Wmu/7Q03w/bTxrq/2byF1CeTCkomfuqq8sOC3TivR4FKwjdwTkkfU5pFiZsGUgheiqMD/wCvUtU3pYArlILs6ZYXuk3ekXV7cyXE7JGLVnhulkkZgWk2lFGGw24jGDweM9XRSGcbepP/AGtcqba/OqNexNZzpFIYkg+TI8wDYq4D7lJBJ7HK0lvorzXlnJdW90fO1K9FzuZwGh3SmMMM42cIQDxyMdeezooW1ht6Hn8fkxXEFvrdtqc4TTyqRxRzSspErhSQuWDbQMOenrzS3dnrn2dWuFlEptLBb5xA82/b5vmDbGQXwxXcFPQ9wcHu/Ii+0m48tfOKbC+Oduc4/M1JSWit/W7YX1/rsjhINLDpo9zew3F5BBqjsn/Evli8hGiZRiJmZwnmY5OAM9AoFO0e21IeJomvJpluVuZmnxp0wDxnftDTmTy2XBUgAZGAMD5q7miq6iMG/Z4fEzyLC00jaXJ9njV9pdlcFlB7E5Tn/CuTOn3F/pWt24tJ5bWXTlMcX2G4hzMGbj96S0j9MtgZ46449IaJHdHdFZozlGIyVOMcenFOpLS39d/8weqf9dv8ji9S0hrPVtYbRrKSG7m0qNLSeKJiAVLhlDDADYKYBIJ4x0JFW2sLmezuEhe6e3lubNWii0+4swMTDzGAkcsSV+8RgcdSc131FC3uO5i+ILdotBjhtYpjbRSxCaK1DFzAGG5VC8njqByRkc9K5ma0ufst/JpVvdW2ny6nE7rNZzOWgEABxCCshXzAo2jHAPBHB9Aoo/r8v8vzBOxwJjuY9JtYZknngknmeOWTTLopD90Kn2ZXL4OWKlyAuOAPlqB4LuXRFj1201S4uJdGjjtAkUrFZ9rhw23Oxz8nzORx3616LRSaumhqVnc5CG0vEv0YW86qbu1LEIQNotyD+APB96owaXqtpoFg+lxXUWoz6JKs5cvkz7Yym/ceHB3AZxjkcAcd7RT7+buKLskux56sEq+G/EG2WYxTWPkxxHTp7RTMQyqQJnYs5JUEgc8ZJNd5Olw8CrbTJFIGUlnj3ggEbhjI5IyM9s556VJJFHKAJUVwrBgGGcEHIP1Bp1O4jG1mx+36tpccsUktsGlMyjOwjZwGxwRnse9c9HE8MMCa/a6ncWkcEsVssUU0rK6zOATsBYNsEe1z78jPPdUVNh3OBudO8QSJbWjCcTT2kV7PMp+VbmFMFCRxln8o47hXrp/D6XMmim6uEkt7q9d7gxzKd0W4/IrL2KrtBHqDWvRVPW/9f10+4DJ1o3MPhmQPG95PsRZfs4dC2SAzhUJfAGW2qSSBjvXIw6e1xamTULKa4s7fVo5IlTT5ogsRiAYpCxZwu48475OBzXolFLrf+t7hfSxwt7ps1s2vjTbWa3mnv4ZpJVtpHEtuVj3Y2kF+Q+VVt2M8cjL9O06e4FjHL9onsn1J2Mf2OW1jSP7OwxsdmYIX/vYGTwMYrt6KForf1/WgXPPb2wudO8Mvcol5HL/Zt+s8ju5bAGY9xJ7AfLnp2qa909dS0zV7fS7C++ySaYyyxXMUiGW4BypUPgs2M5Ydfl5NdxPBFdW8kFxGskUqlHRhkMpGCDUgGBgUf1/X9bjvov67f5GeksFtoKS2llPJBHEGS2WErJt9Nj4OfY81meHPMk1jUrnN7cQSpFtur62MEhYF8xhSqfKoIIO0cseSc46OijrcnpY4XUIdYs9VuprS2vJodJmN5bJGCRdCYjcg/vFR53HbclM1HQpxZ3Ftd2897HDZ2DsQjP5kizyNKVA+82Dkgc8j2rvaKForFc2t/wCu/wDXqcdeaVvfV721tblZk+zNZMqupG1F+6v6Hj2PpWr4liv5TYf2WH84SS4ZRwp+zyhSx6AbivXvityik1o0JOzucHb2scl0ZNNtNYtQNIuIppWglWQSkx/d343ScE7h97HU442vCJcQ3SG1aKNXXbN9nmt1lO3nEMpJTHGSMgk5znNdFRVX/r53EcXa6VdWn2G5sreeK8k1K8Eznd/q288ruB4CbhGR2yRjrznzmSLQLt7ODUraWHRrn+0ZLiOSPfNsG07m4d8hvmXIx3wRXolRzwRXVvJBcRrJFKpR0YZDKRgg0i1L3kziLmK7lt73/hGYL+2hNrGLgzwzKzv5q7iqsVZ38vzMspyxK/NnGIk0Y3+nlZYpLq2/tK1dIf7OmtUjAYeYypIzNjB5PC8E+pr0ADAwKKa0f9d7metrf1tYqLfxeaIRDcg+cYQfs77chd2c4xtxxu6Z4zmprW4W7tY50SRFkGQssZRh9VPI/GpaKQwooooAKKKKACiiigAooooAKKKKACiiigAooooAKKKKACiiigAooooAKKKKACiiigAooooAKKKKACiiigAooooAKKKKACiiigAooooAKKKKACiiigAooooAKKKKACiiigAooooAKKKKACiiigAooooAKKKKACiiigAooooAKKKKACiiigAooooAKKKKACiiigAooooAKKKKACiiigAooooAKKKKACiiigAooooAKKKKACiiigAooooAKKKKACiiigAooooAKKKKACiiigAooooAKKKKACiiigAooooAKKKKACiiigAooooAKKKKACiiigAooooAKKKKACiiigAooooAKKKKACiiigAooooAKKKKACiiigAooooAKKKKACiiigD/2Q==)"
      ],
      "metadata": {
        "id": "GI5CEsxIsnXK"
      }
    },
    {
      "cell_type": "markdown",
      "source": [
        "# Attempt 2 using GridSearch \n",
        "Grid Search was a familiar method to use as our model since it closely resemebled the way a random search is used, we wanted to see if using a grid vs a random would yield a different outcome and if that outcome was better or worse for each method.\n",
        "\n",
        "This resulted in a slight increase in accuracy but not one of great significance"
      ],
      "metadata": {
        "id": "tF4_5_9qLUKC"
      }
    },
    {
      "cell_type": "markdown",
      "source": [
        "Importing the needed libraries "
      ],
      "metadata": {
        "id": "2o8WTM8CMWXo"
      }
    },
    {
      "cell_type": "code",
      "source": [
        "#Imports the needed libraries we use. Similair to the previous implementation only importing gridsearch over randomsearch\n",
        "import numpy as np\n",
        "import pandas as pd\n",
        "from sklearn.ensemble import RandomForestClassifier\n",
        "from sklearn.feature_selection import RFE\n",
        "from sklearn.model_selection import GridSearchCV\n",
        "from sklearn.preprocessing import LabelEncoder"
      ],
      "metadata": {
        "id": "0scR-iuBLtbE"
      },
      "execution_count": 9,
      "outputs": []
    },
    {
      "cell_type": "markdown",
      "source": [
        "#Preparing the data\n",
        "\n"
      ],
      "metadata": {
        "id": "vGPrp-NLhA6w"
      }
    },
    {
      "cell_type": "markdown",
      "source": [
        "we prepare the data by reading the csv files and converting our data to numeric values\n",
        "same as before except we now use a label encoder to convert the values in targetTrain to numeric and still checking for the id value in test\n"
      ],
      "metadata": {
        "id": "Fxx-GuaBhNB0"
      }
    },
    {
      "cell_type": "code",
      "source": [
        "#loading the testing and training data from the kaggle CSV files\n",
        "trainData = pd.read_csv(\"train.csv\")\n",
        "testData =  pd.read_csv(\"test.csv\")\n",
        "\n",
        "#Getting the target and id from the training data\n",
        "targetTrain = trainData[[\"target\",\"id\"]]\n",
        "\n",
        "#encoder is used to convert the targettrain to a numeric value this is so the class1-class9 can be read as numeric representations instead.\n",
        "encoderL = LabelEncoder()\n",
        "targetTrain['target'] = encoderL.fit_transform(targetTrain['target'])\n",
        "\n",
        "#the values trainData drops the target and id columns like before\n",
        "trainData = trainData.drop([\"target\",\"id\"], axis=1)\n",
        "\n",
        "#creating classes from the target variable\n",
        "#created trainLabel to have a unique class for the numeric value\n",
        "trainLabel = targetTrain['target']\n",
        "Class = np.unique(trainLabel)\n",
        "#testData prints here to check for an issue I ran into for for the \"id\" column\n",
        "print(testData.columns)"
      ],
      "metadata": {
        "colab": {
          "base_uri": "https://localhost:8080/"
        },
        "id": "ZWD-hJw5hYUC",
        "outputId": "fa8d35b0-51a5-4332-d110-a6f16d0d7ff3"
      },
      "execution_count": 11,
      "outputs": [
        {
          "output_type": "stream",
          "name": "stdout",
          "text": [
            "Index(['id', 'feat_1', 'feat_2', 'feat_3', 'feat_4', 'feat_5', 'feat_6',\n",
            "       'feat_7', 'feat_8', 'feat_9', 'feat_10', 'feat_11', 'feat_12',\n",
            "       'feat_13', 'feat_14', 'feat_15', 'feat_16', 'feat_17', 'feat_18',\n",
            "       'feat_19', 'feat_20', 'feat_21', 'feat_22', 'feat_23', 'feat_24',\n",
            "       'feat_25', 'feat_26', 'feat_27', 'feat_28', 'feat_29', 'feat_30',\n",
            "       'feat_31', 'feat_32', 'feat_33', 'feat_34', 'feat_35', 'feat_36',\n",
            "       'feat_37', 'feat_38', 'feat_39', 'feat_40', 'feat_41', 'feat_42',\n",
            "       'feat_43', 'feat_44', 'feat_45', 'feat_46', 'feat_47', 'feat_48',\n",
            "       'feat_49', 'feat_50', 'feat_51', 'feat_52', 'feat_53', 'feat_54',\n",
            "       'feat_55', 'feat_56', 'feat_57', 'feat_58', 'feat_59', 'feat_60',\n",
            "       'feat_61', 'feat_62', 'feat_63', 'feat_64', 'feat_65', 'feat_66',\n",
            "       'feat_67', 'feat_68', 'feat_69', 'feat_70', 'feat_71', 'feat_72',\n",
            "       'feat_73', 'feat_74', 'feat_75', 'feat_76', 'feat_77', 'feat_78',\n",
            "       'feat_79', 'feat_80', 'feat_81', 'feat_82', 'feat_83', 'feat_84',\n",
            "       'feat_85', 'feat_86', 'feat_87', 'feat_88', 'feat_89', 'feat_90',\n",
            "       'feat_91', 'feat_92', 'feat_93'],\n",
            "      dtype='object')\n"
          ]
        },
        {
          "output_type": "stream",
          "name": "stderr",
          "text": [
            "<ipython-input-11-3862c9099b8e>:10: SettingWithCopyWarning: \n",
            "A value is trying to be set on a copy of a slice from a DataFrame.\n",
            "Try using .loc[row_indexer,col_indexer] = value instead\n",
            "\n",
            "See the caveats in the documentation: https://pandas.pydata.org/pandas-docs/stable/user_guide/indexing.html#returning-a-view-versus-a-copy\n",
            "  targetTrain['target'] = encoderL.fit_transform(targetTrain['target'])\n"
          ]
        }
      ]
    },
    {
      "cell_type": "markdown",
      "source": [
        "# Grid Search Implementation"
      ],
      "metadata": {
        "id": "khbZdpuGjvE6"
      }
    },
    {
      "cell_type": "markdown",
      "source": [
        "Like before we first needed to find the best parameters to use for our model and by creating paramGrid along with a larger range for estimators, depth, min split, and min leaf we were able to do so.\n",
        "\n",
        "after param runs a rfc object is created and gridSearch is fit to the training data we previously implemented.\n",
        "\n",
        "this whole process does take some time to run on average about 15-20 mins so we leave the results as is since how time consuming it can be."
      ],
      "metadata": {
        "id": "gg43lPQKj5FX"
      }
    },
    {
      "cell_type": "code",
      "source": [
        "# Define the parameter grid\n",
        "paramGrid = {\n",
        "    'n_estimators': [50, 100, 200],\n",
        "    'max_depth': [None, 5, 10, 20],\n",
        "    'min_samples_split': [2, 5, 10],\n",
        "    'min_samples_leaf': [1, 2, 4]\n",
        "}\n",
        "\n",
        "# Create a random forest classifier\n",
        "RFC = RandomForestClassifier(n_jobs = -1)\n",
        "\n",
        "# Create a grid search object\n",
        "grid_search = GridSearchCV(estimator=RFC, param_grid=paramGrid,n_jobs =-1, cv=5)\n",
        "\n",
        "#this took almost 3 hours to run the first time we added n_jobs=-1 to use all possible cores and it took about 1 hour 30 mins I would not reccomend running again if it can be avoided.\n",
        "# Fit the grid search object to the training data\n",
        "grid_search.fit(trainData, trainLabel)"
      ],
      "metadata": {
        "colab": {
          "base_uri": "https://localhost:8080/",
          "height": 175
        },
        "id": "_AR6rIZgj0ji",
        "outputId": "e6e8227e-5289-4611-9f81-14f13f1fd94e"
      },
      "execution_count": 16,
      "outputs": [
        {
          "output_type": "stream",
          "name": "stderr",
          "text": [
            "/usr/local/lib/python3.9/dist-packages/joblib/externals/loky/process_executor.py:700: UserWarning: A worker stopped while some jobs were given to the executor. This can be caused by a too short worker timeout or by a memory leak.\n",
            "  warnings.warn(\n"
          ]
        },
        {
          "output_type": "execute_result",
          "data": {
            "text/plain": [
              "GridSearchCV(cv=5, estimator=RandomForestClassifier(n_jobs=-1), n_jobs=-1,\n",
              "             param_grid={'max_depth': [None, 5, 10, 20],\n",
              "                         'min_samples_leaf': [1, 2, 4],\n",
              "                         'min_samples_split': [2, 5, 10],\n",
              "                         'n_estimators': [50, 100, 200]})"
            ],
            "text/html": [
              "<style>#sk-container-id-2 {color: black;background-color: white;}#sk-container-id-2 pre{padding: 0;}#sk-container-id-2 div.sk-toggleable {background-color: white;}#sk-container-id-2 label.sk-toggleable__label {cursor: pointer;display: block;width: 100%;margin-bottom: 0;padding: 0.3em;box-sizing: border-box;text-align: center;}#sk-container-id-2 label.sk-toggleable__label-arrow:before {content: \"▸\";float: left;margin-right: 0.25em;color: #696969;}#sk-container-id-2 label.sk-toggleable__label-arrow:hover:before {color: black;}#sk-container-id-2 div.sk-estimator:hover label.sk-toggleable__label-arrow:before {color: black;}#sk-container-id-2 div.sk-toggleable__content {max-height: 0;max-width: 0;overflow: hidden;text-align: left;background-color: #f0f8ff;}#sk-container-id-2 div.sk-toggleable__content pre {margin: 0.2em;color: black;border-radius: 0.25em;background-color: #f0f8ff;}#sk-container-id-2 input.sk-toggleable__control:checked~div.sk-toggleable__content {max-height: 200px;max-width: 100%;overflow: auto;}#sk-container-id-2 input.sk-toggleable__control:checked~label.sk-toggleable__label-arrow:before {content: \"▾\";}#sk-container-id-2 div.sk-estimator input.sk-toggleable__control:checked~label.sk-toggleable__label {background-color: #d4ebff;}#sk-container-id-2 div.sk-label input.sk-toggleable__control:checked~label.sk-toggleable__label {background-color: #d4ebff;}#sk-container-id-2 input.sk-hidden--visually {border: 0;clip: rect(1px 1px 1px 1px);clip: rect(1px, 1px, 1px, 1px);height: 1px;margin: -1px;overflow: hidden;padding: 0;position: absolute;width: 1px;}#sk-container-id-2 div.sk-estimator {font-family: monospace;background-color: #f0f8ff;border: 1px dotted black;border-radius: 0.25em;box-sizing: border-box;margin-bottom: 0.5em;}#sk-container-id-2 div.sk-estimator:hover {background-color: #d4ebff;}#sk-container-id-2 div.sk-parallel-item::after {content: \"\";width: 100%;border-bottom: 1px solid gray;flex-grow: 1;}#sk-container-id-2 div.sk-label:hover label.sk-toggleable__label {background-color: #d4ebff;}#sk-container-id-2 div.sk-serial::before {content: \"\";position: absolute;border-left: 1px solid gray;box-sizing: border-box;top: 0;bottom: 0;left: 50%;z-index: 0;}#sk-container-id-2 div.sk-serial {display: flex;flex-direction: column;align-items: center;background-color: white;padding-right: 0.2em;padding-left: 0.2em;position: relative;}#sk-container-id-2 div.sk-item {position: relative;z-index: 1;}#sk-container-id-2 div.sk-parallel {display: flex;align-items: stretch;justify-content: center;background-color: white;position: relative;}#sk-container-id-2 div.sk-item::before, #sk-container-id-2 div.sk-parallel-item::before {content: \"\";position: absolute;border-left: 1px solid gray;box-sizing: border-box;top: 0;bottom: 0;left: 50%;z-index: -1;}#sk-container-id-2 div.sk-parallel-item {display: flex;flex-direction: column;z-index: 1;position: relative;background-color: white;}#sk-container-id-2 div.sk-parallel-item:first-child::after {align-self: flex-end;width: 50%;}#sk-container-id-2 div.sk-parallel-item:last-child::after {align-self: flex-start;width: 50%;}#sk-container-id-2 div.sk-parallel-item:only-child::after {width: 0;}#sk-container-id-2 div.sk-dashed-wrapped {border: 1px dashed gray;margin: 0 0.4em 0.5em 0.4em;box-sizing: border-box;padding-bottom: 0.4em;background-color: white;}#sk-container-id-2 div.sk-label label {font-family: monospace;font-weight: bold;display: inline-block;line-height: 1.2em;}#sk-container-id-2 div.sk-label-container {text-align: center;}#sk-container-id-2 div.sk-container {/* jupyter's `normalize.less` sets `[hidden] { display: none; }` but bootstrap.min.css set `[hidden] { display: none !important; }` so we also need the `!important` here to be able to override the default hidden behavior on the sphinx rendered scikit-learn.org. See: https://github.com/scikit-learn/scikit-learn/issues/21755 */display: inline-block !important;position: relative;}#sk-container-id-2 div.sk-text-repr-fallback {display: none;}</style><div id=\"sk-container-id-2\" class=\"sk-top-container\"><div class=\"sk-text-repr-fallback\"><pre>GridSearchCV(cv=5, estimator=RandomForestClassifier(n_jobs=-1), n_jobs=-1,\n",
              "             param_grid={&#x27;max_depth&#x27;: [None, 5, 10, 20],\n",
              "                         &#x27;min_samples_leaf&#x27;: [1, 2, 4],\n",
              "                         &#x27;min_samples_split&#x27;: [2, 5, 10],\n",
              "                         &#x27;n_estimators&#x27;: [50, 100, 200]})</pre><b>In a Jupyter environment, please rerun this cell to show the HTML representation or trust the notebook. <br />On GitHub, the HTML representation is unable to render, please try loading this page with nbviewer.org.</b></div><div class=\"sk-container\" hidden><div class=\"sk-item sk-dashed-wrapped\"><div class=\"sk-label-container\"><div class=\"sk-label sk-toggleable\"><input class=\"sk-toggleable__control sk-hidden--visually\" id=\"sk-estimator-id-4\" type=\"checkbox\" ><label for=\"sk-estimator-id-4\" class=\"sk-toggleable__label sk-toggleable__label-arrow\">GridSearchCV</label><div class=\"sk-toggleable__content\"><pre>GridSearchCV(cv=5, estimator=RandomForestClassifier(n_jobs=-1), n_jobs=-1,\n",
              "             param_grid={&#x27;max_depth&#x27;: [None, 5, 10, 20],\n",
              "                         &#x27;min_samples_leaf&#x27;: [1, 2, 4],\n",
              "                         &#x27;min_samples_split&#x27;: [2, 5, 10],\n",
              "                         &#x27;n_estimators&#x27;: [50, 100, 200]})</pre></div></div></div><div class=\"sk-parallel\"><div class=\"sk-parallel-item\"><div class=\"sk-item\"><div class=\"sk-label-container\"><div class=\"sk-label sk-toggleable\"><input class=\"sk-toggleable__control sk-hidden--visually\" id=\"sk-estimator-id-5\" type=\"checkbox\" ><label for=\"sk-estimator-id-5\" class=\"sk-toggleable__label sk-toggleable__label-arrow\">estimator: RandomForestClassifier</label><div class=\"sk-toggleable__content\"><pre>RandomForestClassifier(n_jobs=-1)</pre></div></div></div><div class=\"sk-serial\"><div class=\"sk-item\"><div class=\"sk-estimator sk-toggleable\"><input class=\"sk-toggleable__control sk-hidden--visually\" id=\"sk-estimator-id-6\" type=\"checkbox\" ><label for=\"sk-estimator-id-6\" class=\"sk-toggleable__label sk-toggleable__label-arrow\">RandomForestClassifier</label><div class=\"sk-toggleable__content\"><pre>RandomForestClassifier(n_jobs=-1)</pre></div></div></div></div></div></div></div></div></div></div>"
            ]
          },
          "metadata": {},
          "execution_count": 16
        }
      ]
    },
    {
      "cell_type": "markdown",
      "source": [
        "#Finding the best parameters to use"
      ],
      "metadata": {
        "id": "EokPvIFqk5z5"
      }
    },
    {
      "cell_type": "code",
      "source": [
        "# Find the best parameters\n",
        "print(grid_search.best_params_)"
      ],
      "metadata": {
        "colab": {
          "base_uri": "https://localhost:8080/"
        },
        "id": "WkpYFPlQk9hE",
        "outputId": "4f5a0a66-62f3-414c-b018-a234170351fc"
      },
      "execution_count": 17,
      "outputs": [
        {
          "output_type": "stream",
          "name": "stdout",
          "text": [
            "{'max_depth': None, 'min_samples_leaf': 1, 'min_samples_split': 2, 'n_estimators': 200}\n"
          ]
        }
      ]
    },
    {
      "cell_type": "markdown",
      "source": [
        "# Using our newly found parameters:\n"
      ],
      "metadata": {
        "id": "ovmYLjsElE6E"
      }
    },
    {
      "cell_type": "code",
      "source": [
        "bestParams = grid_search.best_params_\n",
        "\n",
        "# Create a new RFC using the best parameters\n",
        "bestRFC = RandomForestClassifier(**bestParams)\n",
        "\n",
        "# Fit the new RFC with trainData and trainLabel\n",
        "bestRFC.fit(trainData, trainLabel)\n",
        "\n",
        "# Get the \"id\" column from the test data and save them in testIDs\n",
        "testIDs = testData[\"id\"]\n",
        "testIDs = pd.DataFrame(testIDs, columns=[\"id\"])\n",
        "\n",
        "# Drop the \"id\" column from the test data\n",
        "testData = testData.drop(\"id\", axis=1)\n",
        "\n",
        "# Make predictions on the test data\n",
        "prediction = bestRFC.predict_proba(testData)\n",
        "\n",
        "# Create a dataframe for the probabilities and manually setting the column names\n",
        "predictionDF = pd.DataFrame(prediction, columns = [\"Class_1\", \"Class_2\", \"Class_3\", \"Class_4\", \"Class_5\", \"Class_6\", \"Class_7\", \"Class_8\", \"Class_9\"])\n",
        "#print the head of the new dataframe to see how the prediction for each column looks\n",
        "predictionDF.head()"
      ],
      "metadata": {
        "colab": {
          "base_uri": "https://localhost:8080/",
          "height": 206
        },
        "id": "TM5tTGCYlK9f",
        "outputId": "80fbe438-75d6-413d-8024-7fadfb85cbfa"
      },
      "execution_count": 18,
      "outputs": [
        {
          "output_type": "execute_result",
          "data": {
            "text/plain": [
              "   Class_1  Class_2  Class_3  Class_4  Class_5  Class_6  Class_7  Class_8  \\\n",
              "0    0.005     0.22    0.215    0.465      0.0     0.02     0.05    0.015   \n",
              "1    0.030     0.05    0.025    0.015      0.0     0.46     0.02    0.380   \n",
              "2    0.000     0.00    0.000    0.000      0.0     0.98     0.00    0.020   \n",
              "3    0.000     0.53    0.300    0.095      0.0     0.00     0.01    0.000   \n",
              "4    0.085     0.00    0.000    0.000      0.0     0.03     0.04    0.290   \n",
              "\n",
              "   Class_9  \n",
              "0    0.010  \n",
              "1    0.020  \n",
              "2    0.000  \n",
              "3    0.065  \n",
              "4    0.555  "
            ],
            "text/html": [
              "\n",
              "  <div id=\"df-495e64bd-2666-4fca-a4bf-30de73977bd8\">\n",
              "    <div class=\"colab-df-container\">\n",
              "      <div>\n",
              "<style scoped>\n",
              "    .dataframe tbody tr th:only-of-type {\n",
              "        vertical-align: middle;\n",
              "    }\n",
              "\n",
              "    .dataframe tbody tr th {\n",
              "        vertical-align: top;\n",
              "    }\n",
              "\n",
              "    .dataframe thead th {\n",
              "        text-align: right;\n",
              "    }\n",
              "</style>\n",
              "<table border=\"1\" class=\"dataframe\">\n",
              "  <thead>\n",
              "    <tr style=\"text-align: right;\">\n",
              "      <th></th>\n",
              "      <th>Class_1</th>\n",
              "      <th>Class_2</th>\n",
              "      <th>Class_3</th>\n",
              "      <th>Class_4</th>\n",
              "      <th>Class_5</th>\n",
              "      <th>Class_6</th>\n",
              "      <th>Class_7</th>\n",
              "      <th>Class_8</th>\n",
              "      <th>Class_9</th>\n",
              "    </tr>\n",
              "  </thead>\n",
              "  <tbody>\n",
              "    <tr>\n",
              "      <th>0</th>\n",
              "      <td>0.005</td>\n",
              "      <td>0.22</td>\n",
              "      <td>0.215</td>\n",
              "      <td>0.465</td>\n",
              "      <td>0.0</td>\n",
              "      <td>0.02</td>\n",
              "      <td>0.05</td>\n",
              "      <td>0.015</td>\n",
              "      <td>0.010</td>\n",
              "    </tr>\n",
              "    <tr>\n",
              "      <th>1</th>\n",
              "      <td>0.030</td>\n",
              "      <td>0.05</td>\n",
              "      <td>0.025</td>\n",
              "      <td>0.015</td>\n",
              "      <td>0.0</td>\n",
              "      <td>0.46</td>\n",
              "      <td>0.02</td>\n",
              "      <td>0.380</td>\n",
              "      <td>0.020</td>\n",
              "    </tr>\n",
              "    <tr>\n",
              "      <th>2</th>\n",
              "      <td>0.000</td>\n",
              "      <td>0.00</td>\n",
              "      <td>0.000</td>\n",
              "      <td>0.000</td>\n",
              "      <td>0.0</td>\n",
              "      <td>0.98</td>\n",
              "      <td>0.00</td>\n",
              "      <td>0.020</td>\n",
              "      <td>0.000</td>\n",
              "    </tr>\n",
              "    <tr>\n",
              "      <th>3</th>\n",
              "      <td>0.000</td>\n",
              "      <td>0.53</td>\n",
              "      <td>0.300</td>\n",
              "      <td>0.095</td>\n",
              "      <td>0.0</td>\n",
              "      <td>0.00</td>\n",
              "      <td>0.01</td>\n",
              "      <td>0.000</td>\n",
              "      <td>0.065</td>\n",
              "    </tr>\n",
              "    <tr>\n",
              "      <th>4</th>\n",
              "      <td>0.085</td>\n",
              "      <td>0.00</td>\n",
              "      <td>0.000</td>\n",
              "      <td>0.000</td>\n",
              "      <td>0.0</td>\n",
              "      <td>0.03</td>\n",
              "      <td>0.04</td>\n",
              "      <td>0.290</td>\n",
              "      <td>0.555</td>\n",
              "    </tr>\n",
              "  </tbody>\n",
              "</table>\n",
              "</div>\n",
              "      <button class=\"colab-df-convert\" onclick=\"convertToInteractive('df-495e64bd-2666-4fca-a4bf-30de73977bd8')\"\n",
              "              title=\"Convert this dataframe to an interactive table.\"\n",
              "              style=\"display:none;\">\n",
              "        \n",
              "  <svg xmlns=\"http://www.w3.org/2000/svg\" height=\"24px\"viewBox=\"0 0 24 24\"\n",
              "       width=\"24px\">\n",
              "    <path d=\"M0 0h24v24H0V0z\" fill=\"none\"/>\n",
              "    <path d=\"M18.56 5.44l.94 2.06.94-2.06 2.06-.94-2.06-.94-.94-2.06-.94 2.06-2.06.94zm-11 1L8.5 8.5l.94-2.06 2.06-.94-2.06-.94L8.5 2.5l-.94 2.06-2.06.94zm10 10l.94 2.06.94-2.06 2.06-.94-2.06-.94-.94-2.06-.94 2.06-2.06.94z\"/><path d=\"M17.41 7.96l-1.37-1.37c-.4-.4-.92-.59-1.43-.59-.52 0-1.04.2-1.43.59L10.3 9.45l-7.72 7.72c-.78.78-.78 2.05 0 2.83L4 21.41c.39.39.9.59 1.41.59.51 0 1.02-.2 1.41-.59l7.78-7.78 2.81-2.81c.8-.78.8-2.07 0-2.86zM5.41 20L4 18.59l7.72-7.72 1.47 1.35L5.41 20z\"/>\n",
              "  </svg>\n",
              "      </button>\n",
              "      \n",
              "  <style>\n",
              "    .colab-df-container {\n",
              "      display:flex;\n",
              "      flex-wrap:wrap;\n",
              "      gap: 12px;\n",
              "    }\n",
              "\n",
              "    .colab-df-convert {\n",
              "      background-color: #E8F0FE;\n",
              "      border: none;\n",
              "      border-radius: 50%;\n",
              "      cursor: pointer;\n",
              "      display: none;\n",
              "      fill: #1967D2;\n",
              "      height: 32px;\n",
              "      padding: 0 0 0 0;\n",
              "      width: 32px;\n",
              "    }\n",
              "\n",
              "    .colab-df-convert:hover {\n",
              "      background-color: #E2EBFA;\n",
              "      box-shadow: 0px 1px 2px rgba(60, 64, 67, 0.3), 0px 1px 3px 1px rgba(60, 64, 67, 0.15);\n",
              "      fill: #174EA6;\n",
              "    }\n",
              "\n",
              "    [theme=dark] .colab-df-convert {\n",
              "      background-color: #3B4455;\n",
              "      fill: #D2E3FC;\n",
              "    }\n",
              "\n",
              "    [theme=dark] .colab-df-convert:hover {\n",
              "      background-color: #434B5C;\n",
              "      box-shadow: 0px 1px 3px 1px rgba(0, 0, 0, 0.15);\n",
              "      filter: drop-shadow(0px 1px 2px rgba(0, 0, 0, 0.3));\n",
              "      fill: #FFFFFF;\n",
              "    }\n",
              "  </style>\n",
              "\n",
              "      <script>\n",
              "        const buttonEl =\n",
              "          document.querySelector('#df-495e64bd-2666-4fca-a4bf-30de73977bd8 button.colab-df-convert');\n",
              "        buttonEl.style.display =\n",
              "          google.colab.kernel.accessAllowed ? 'block' : 'none';\n",
              "\n",
              "        async function convertToInteractive(key) {\n",
              "          const element = document.querySelector('#df-495e64bd-2666-4fca-a4bf-30de73977bd8');\n",
              "          const dataTable =\n",
              "            await google.colab.kernel.invokeFunction('convertToInteractive',\n",
              "                                                     [key], {});\n",
              "          if (!dataTable) return;\n",
              "\n",
              "          const docLinkHtml = 'Like what you see? Visit the ' +\n",
              "            '<a target=\"_blank\" href=https://colab.research.google.com/notebooks/data_table.ipynb>data table notebook</a>'\n",
              "            + ' to learn more about interactive tables.';\n",
              "          element.innerHTML = '';\n",
              "          dataTable['output_type'] = 'display_data';\n",
              "          await google.colab.output.renderOutput(dataTable, element);\n",
              "          const docLink = document.createElement('div');\n",
              "          docLink.innerHTML = docLinkHtml;\n",
              "          element.appendChild(docLink);\n",
              "        }\n",
              "      </script>\n",
              "    </div>\n",
              "  </div>\n",
              "  "
            ]
          },
          "metadata": {},
          "execution_count": 18
        }
      ]
    },
    {
      "cell_type": "markdown",
      "source": [
        "# Creating the submission file for kaggle\n",
        "\n",
        "same process as before"
      ],
      "metadata": {
        "id": "gH8dHqz_l8cT"
      }
    },
    {
      "cell_type": "code",
      "source": [
        "#have to add the id's columns we saved previously to the final submission\n",
        "submissionDF = pd.concat([testIDs,predictionDF], axis=1)\n",
        "#convert dataframe to a csv so we can submit to kraggle\n",
        "submissionDF.to_csv(\"submissionGRID.csv\", index=False)"
      ],
      "metadata": {
        "id": "usq7xWr2mAdn"
      },
      "execution_count": 19,
      "outputs": []
    },
    {
      "cell_type": "markdown",
      "source": [
        "# Results\n",
        "\n",
        "Using grid search\n",
        "\n",
        "private score: 57%\n",
        "\n",
        "public score:  57%"
      ],
      "metadata": {
        "id": "CsbAaW7RoJgC"
      }
    },
    {
      "cell_type": "markdown",
      "source": [
        "image goes here![gridsubmission.JPG](data:image/jpeg;base64,/9j/4AAQSkZJRgABAQEAYABgAAD/4RD6RXhpZgAATU0AKgAAAAgABAE7AAIAAAAQAAAISodpAAQAAAABAAAIWpydAAEAAAAgAAAQ0uocAAcAAAgMAAAAPgAAAAAc6gAAAAgAAAAAAAAAAAAAAAAAAAAAAAAAAAAAAAAAAAAAAAAAAAAAAAAAAAAAAAAAAAAAAAAAAAAAAAAAAAAAAAAAAAAAAAAAAAAAAAAAAAAAAAAAAAAAAAAAAAAAAAAAAAAAAAAAAAAAAAAAAAAAAAAAAAAAAAAAAAAAAAAAAAAAAAAAAAAAAAAAAAAAAAAAAAAAAAAAAAAAAAAAAAAAAAAAAAAAAAAAAAAAAAAAAAAAAAAAAAAAAAAAAAAAAAAAAAAAAAAAAAAAAAAAAAAAAAAAAAAAAAAAAAAAAAAAAAAAAAAAAAAAAAAAAAAAAAAAAAAAAAAAAAAAAAAAAAAAAAAAAAAAAAAAAAAAAAAAAAAAAAAAAAAAAAAAAAAAAAAAAAAAAAAAAAAAAAAAAAAAAAAAAAAAAAAAAAAAAAAAAAAAAAAAAAAAAAAAAAAAAAAAAAAAAAAAAAAAAAAAAAAAAAAAAAAAAAAAAAAAAAAAAAAAAAAAAAAAAAAAAAAAAAAAAAAAAAAAAAAAAAAAAAAAAAAAAAAAAAAAAAAAAAAAAAAAAAAAAAAAAAAAAAAAAAAAAAAAAAAAAAAAAAAAAAAAAAAAAAAAAAAAAAAAAAAAAAAAAAAAAAAAAAAAAAAAAAAAAAAAAAAAAAAAAAAAAAAAAAAAAAAAAAAAAAAAAAAAAAAAAAAAAAAAAAAAAAAAAAAAAAAAAAAAAAAAAAAAAAAAAAAAAAAAAAAAAAAAAAAAAAAAAAAAAAAAAAAAAAAAAAAAAAAAAAAAAAAAAAAAAAAAAAAAAAAAAAAAAAAAAAAAAAAAAAAAAAAAAAAAAAAAAAAAAAAAAAAAAAAAAAAAAAAAAAAAAAAAAAAAAAAAAAAAAAAAAAAAAAAAAAAAAAAAAAAAAAAAAAAAAAAAAAAAAAAAAAAAAAAAAAAAAAAAAAAAAAAAAAAAAAAAAAAAAAAAAAAAAAAAAAAAAAAAAAAAAAAAAAAAAAAAAAAAAAAAAAAAAAAAAAAAAAAAAAAAAAAAAAAAAAAAAAAAAAAAAAAAAAAAAAAAAAAAAAAAAAAAAAAAAAAAAAAAAAAAAAAAAAAAAAAAAAAAAAAAAAAAAAAAAAAAAAAAAAAAAAAAAAAAAAAAAAAAAAAAAAAAAAAAAAAAAAAAAAAAAAAAAAAAAAAAAAAAAAAAAAAAAAAAAAAAAAAAAAAAAAAAAAAAAAAAAAAAAAAAAAAAAAAAAAAAAAAAAAAAAAAAAAAAAAAAAAAAAAAAAAAAAAAAAAAAAAAAAAAAAAAAAAAAAAAAAAAAAAAAAAAAAAAAAAAAAAAAAAAAAAAAAAAAAAAAAAAAAAAAAAAAAAAAAAAAAAAAAAAAAAAAAAAAAAAAAAAAAAAAAAAAAAAAAAAAAAAAAAAAAAAAAAAAAAAAAAAAAAAAAAAAAAAAAAAAAAAAAAAAAAAAAAAAAAAAAAAAAAAAAAAAAAAAAAAAAAAAAAAAAAAAAAAAAAAAAAAAAAAAAAAAAAAAAAAAAAAAAAAAAAAAAAAAAAAAAAAAAAAAAAAAAAAAAAAAAAAAAAAAAAAAAAAAAAAAAAAAAAAAAAAAAAAAAAAAAAAAAAAAAAAAAAAAAAAAAAAAAAAAAAAAAAAAAAAAAAAAAAAAAAAAAAAAAAAAAAAAAAAAAAAAAAAAAAAAAAAAAAAAAAAAAAAAAAAAAAAAAAAAAAAAAAAAAAAAAAAAAAAAAAAAAAAAAAAAAAAAAAAAAAAAAAAAAAAAAAAAAAAAAAAAAAAAAAAAAAAAAAAAAAAAAAAAAAAAAAAAAAAAAAAAAAAAAAAAAAAAAAAAAAAAAAAAAAAAAAAAAAAAAAAAAAAAAAAAAAAAAAAAAAAAAAAAAAAAAAAAAAAAAAAAAAAAAAAAAAAAAAAAAAAAAAAAAAAAAAAAAAAAAAAAAAAAAAAAAAAAAAAAAAAAAAAAAAAAAAAAAAAAAAAAAAAAAAAAAAAAAAAAAAAAAAAAAAAAAAAAAAAAAAAAAAAAAAAAAAAAAAAAAAAAAAAAAAAAAAAAAAAAAAAAAAAAAAAAAAAAAAAAAAAAAAAAAAAAAAAAAAAAAAAAAAAAAAAAAAAAAAAAAAAAAAAAAAAAAAAAAAAAAAAAAAAAAAAAAAAAAAAAAAAAAAAAAAAAAAAAAAAAAAAAAAAAAAAAAAAAAAAAAAAAAAAAAAAAAAAAAAAAAAAAAAAAAAAAAAAAAAAAAAAAAAAAAAAAAAAAAAAAAAAAAAAAAAAAAAAAAAAAAAAAAAAAAAAAAAAAAAAAAAAAAAAAAAAAAAAAAAAAAAAAAAAAAAAAAAAAAAAAAAAAAAAAAAAAAAAAAAAAAAAAAAAAAAAAAAAAAAAAAAAAAAAAAAAAAAAAAAAAAAAAAAAAAAAAAAAAAAAAAAAAAAAAAAAAAAAAAAAAAAAAAAAAAAAAAAAAAAAAAAAAAAAAAAAAAAAAAAAAAAAAAAAAAAAAAAAAAAAAAAAAAAAAAAAAAAAAAAAAAAAAAAAAAAAAAAAAAAAAAAAAAAAAAAAAAAAAAAAAAAAAAAAAAAAAAAAAAAAAAAAAAAAAAAAAAAAAAAAAAAAAAAAAAAAAAAAAAAAAAAAAAAAAAAAAAAAAAAAAAAAAAAAAAAAAAAAAAAAAAAAAAAAAAAAAAAAAAAAAAAAAAAAAAAAAAAAAAAAAAAAAAAAAAAAAAAAAAAAAAAAAAAAAAAAAAAAAAAAAAAAAAAAAAAAAAAAAAAAAAAAAAAAAAEpvbmF0aGFuIGdhcmNpYQAABZADAAIAAAAUAAAQqJAEAAIAAAAUAAAQvJKRAAIAAAADODAAAJKSAAIAAAADODAAAOocAAcAAAgMAAAInAAAAAAc6gAAAAgAAAAAAAAAAAAAAAAAAAAAAAAAAAAAAAAAAAAAAAAAAAAAAAAAAAAAAAAAAAAAAAAAAAAAAAAAAAAAAAAAAAAAAAAAAAAAAAAAAAAAAAAAAAAAAAAAAAAAAAAAAAAAAAAAAAAAAAAAAAAAAAAAAAAAAAAAAAAAAAAAAAAAAAAAAAAAAAAAAAAAAAAAAAAAAAAAAAAAAAAAAAAAAAAAAAAAAAAAAAAAAAAAAAAAAAAAAAAAAAAAAAAAAAAAAAAAAAAAAAAAAAAAAAAAAAAAAAAAAAAAAAAAAAAAAAAAAAAAAAAAAAAAAAAAAAAAAAAAAAAAAAAAAAAAAAAAAAAAAAAAAAAAAAAAAAAAAAAAAAAAAAAAAAAAAAAAAAAAAAAAAAAAAAAAAAAAAAAAAAAAAAAAAAAAAAAAAAAAAAAAAAAAAAAAAAAAAAAAAAAAAAAAAAAAAAAAAAAAAAAAAAAAAAAAAAAAAAAAAAAAAAAAAAAAAAAAAAAAAAAAAAAAAAAAAAAAAAAAAAAAAAAAAAAAAAAAAAAAAAAAAAAAAAAAAAAAAAAAAAAAAAAAAAAAAAAAAAAAAAAAAAAAAAAAAAAAAAAAAAAAAAAAAAAAAAAAAAAAAAAAAAAAAAAAAAAAAAAAAAAAAAAAAAAAAAAAAAAAAAAAAAAAAAAAAAAAAAAAAAAAAAAAAAAAAAAAAAAAAAAAAAAAAAAAAAAAAAAAAAAAAAAAAAAAAAAAAAAAAAAAAAAAAAAAAAAAAAAAAAAAAAAAAAAAAAAAAAAAAAAAAAAAAAAAAAAAAAAAAAAAAAAAAAAAAAAAAAAAAAAAAAAAAAAAAAAAAAAAAAAAAAAAAAAAAAAAAAAAAAAAAAAAAAAAAAAAAAAAAAAAAAAAAAAAAAAAAAAAAAAAAAAAAAAAAAAAAAAAAAAAAAAAAAAAAAAAAAAAAAAAAAAAAAAAAAAAAAAAAAAAAAAAAAAAAAAAAAAAAAAAAAAAAAAAAAAAAAAAAAAAAAAAAAAAAAAAAAAAAAAAAAAAAAAAAAAAAAAAAAAAAAAAAAAAAAAAAAAAAAAAAAAAAAAAAAAAAAAAAAAAAAAAAAAAAAAAAAAAAAAAAAAAAAAAAAAAAAAAAAAAAAAAAAAAAAAAAAAAAAAAAAAAAAAAAAAAAAAAAAAAAAAAAAAAAAAAAAAAAAAAAAAAAAAAAAAAAAAAAAAAAAAAAAAAAAAAAAAAAAAAAAAAAAAAAAAAAAAAAAAAAAAAAAAAAAAAAAAAAAAAAAAAAAAAAAAAAAAAAAAAAAAAAAAAAAAAAAAAAAAAAAAAAAAAAAAAAAAAAAAAAAAAAAAAAAAAAAAAAAAAAAAAAAAAAAAAAAAAAAAAAAAAAAAAAAAAAAAAAAAAAAAAAAAAAAAAAAAAAAAAAAAAAAAAAAAAAAAAAAAAAAAAAAAAAAAAAAAAAAAAAAAAAAAAAAAAAAAAAAAAAAAAAAAAAAAAAAAAAAAAAAAAAAAAAAAAAAAAAAAAAAAAAAAAAAAAAAAAAAAAAAAAAAAAAAAAAAAAAAAAAAAAAAAAAAAAAAAAAAAAAAAAAAAAAAAAAAAAAAAAAAAAAAAAAAAAAAAAAAAAAAAAAAAAAAAAAAAAAAAAAAAAAAAAAAAAAAAAAAAAAAAAAAAAAAAAAAAAAAAAAAAAAAAAAAAAAAAAAAAAAAAAAAAAAAAAAAAAAAAAAAAAAAAAAAAAAAAAAAAAAAAAAAAAAAAAAAAAAAAAAAAAAAAAAAAAAAAAAAAAAAAAAAAAAAAAAAAAAAAAAAAAAAAAAAAAAAAAAAAAAAAAAAAAAAAAAAAAAAAAAAAAAAAAAAAAAAAAAAAAAAAAAAAAAAAAAAAAAAAAAAAAAAAAAAAAAAAAAAAAAAAAAAAAAAAAAAAAAAAAAAAAAAAAAAAAAAAAAAAAAAAAAAAAAAAAAAAAAAAAAAAAAAAAAAAAAAAAAAAAAAAAAAAAAAAAAAAAAAAAAAAAAAAAAAAAAAAAAAAAAAAAAAAAAAAAAAAAAAAAAAAAAAAAAAAAAAAAAAAAAAAAAAAAAAAAAAAAAAAAAAAAAAAAAAAAAAAAAAAAAAAAAAAAAAAAAAAAAAAAAAAAAAAAAAAAAAAAAAAAAAAAAAAAAAAAAAAAAAAAAAAAAAAAAAAAAAAAAAAAAAAAAAAAAAAAAAAAAAAAAAAAAAAAAAAAAAAAAAAAAAAAAAAAAAAAAAAAAAAAAAAAAAAAAAAAAAAAAAAAAAAAAAAAAAAAAAAAAAAAAAAAAAAAAAAAAAAAAAAAAAAAAAAAAAAAAAAAAAAAAAAAAAAAAAAAAAAAAAAAAAAAAAAAAAAAAAAAAAAAAAAAAAAAAAAAAAAAAAAAAAAAAAAAAAAAAAAAAAAAAAAAAAAAAAAAAAAAAAAAAAAAAAAAAAAAAAAAAAAAAAAAAAAAAAAAAAAAAAAAAAAAAAAAAAAAAAAAAAAAAAAAAAAAAAAAAAAAAAAAAAAAAAAAAAAAAAAAAAAAAAAAAAAAAAAAAAAAAAAAAAAAAAAAAAAAAAAAAAAAAAAAAAAAAAAAAAAAAAAAAAAAAAAAAAAAAAAAAAAAAAAAAAAAAAAAAAAAAAAAAAAAAAAAAAAAAAAAAAAAAAAAAAAAAAAAAAAAAAAAAAAAAAAAAAAAAAAAAAAAAAAAAAAAAAAAAAAAAAAAAAAAAAAAAAAAAAAAAAAAAAAAAAAAAAAAAAAAAAAAAAAAAAAAAAAAAAAAADIwMjM6MDQ6MTcgMTY6Mzg6MzcAMjAyMzowNDoxNyAxNjozODozNwAAAEoAbwBuAGEAdABoAGEAbgAgAGcAYQByAGMAaQBhAAAA/+ELImh0dHA6Ly9ucy5hZG9iZS5jb20veGFwLzEuMC8APD94cGFja2V0IGJlZ2luPSfvu78nIGlkPSdXNU0wTXBDZWhpSHpyZVN6TlRjemtjOWQnPz4NCjx4OnhtcG1ldGEgeG1sbnM6eD0iYWRvYmU6bnM6bWV0YS8iPjxyZGY6UkRGIHhtbG5zOnJkZj0iaHR0cDovL3d3dy53My5vcmcvMTk5OS8wMi8yMi1yZGYtc3ludGF4LW5zIyI+PHJkZjpEZXNjcmlwdGlvbiByZGY6YWJvdXQ9InV1aWQ6ZmFmNWJkZDUtYmEzZC0xMWRhLWFkMzEtZDMzZDc1MTgyZjFiIiB4bWxuczpkYz0iaHR0cDovL3B1cmwub3JnL2RjL2VsZW1lbnRzLzEuMS8iLz48cmRmOkRlc2NyaXB0aW9uIHJkZjphYm91dD0idXVpZDpmYWY1YmRkNS1iYTNkLTExZGEtYWQzMS1kMzNkNzUxODJmMWIiIHhtbG5zOnhtcD0iaHR0cDovL25zLmFkb2JlLmNvbS94YXAvMS4wLyI+PHhtcDpDcmVhdGVEYXRlPjIwMjMtMDQtMTdUMTY6Mzg6MzcuODAzPC94bXA6Q3JlYXRlRGF0ZT48L3JkZjpEZXNjcmlwdGlvbj48cmRmOkRlc2NyaXB0aW9uIHJkZjphYm91dD0idXVpZDpmYWY1YmRkNS1iYTNkLTExZGEtYWQzMS1kMzNkNzUxODJmMWIiIHhtbG5zOmRjPSJodHRwOi8vcHVybC5vcmcvZGMvZWxlbWVudHMvMS4xLyI+PGRjOmNyZWF0b3I+PHJkZjpTZXEgeG1sbnM6cmRmPSJodHRwOi8vd3d3LnczLm9yZy8xOTk5LzAyLzIyLXJkZi1zeW50YXgtbnMjIj48cmRmOmxpPkpvbmF0aGFuIGdhcmNpYTwvcmRmOmxpPjwvcmRmOlNlcT4NCgkJCTwvZGM6Y3JlYXRvcj48L3JkZjpEZXNjcmlwdGlvbj48L3JkZjpSREY+PC94OnhtcG1ldGE+DQogICAgICAgICAgICAgICAgICAgICAgICAgICAgICAgICAgICAgICAgICAgICAgICAgICAgICAgICAgICAgICAgICAgICAgICAgICAgICAgICAgICAgICAgICAgICAgICAgICAgCiAgICAgICAgICAgICAgICAgICAgICAgICAgICAgICAgICAgICAgICAgICAgICAgICAgICAgICAgICAgICAgICAgICAgICAgICAgICAgICAgICAgICAgICAgICAgICAgICAgICAKICAgICAgICAgICAgICAgICAgICAgICAgICAgICAgICAgICAgICAgICAgICAgICAgICAgICAgICAgICAgICAgICAgICAgICAgICAgICAgICAgICAgICAgICAgICAgICAgICAgIAogICAgICAgICAgICAgICAgICAgICAgICAgICAgICAgICAgICAgICAgICAgICAgICAgICAgICAgICAgICAgICAgICAgICAgICAgICAgICAgICAgICAgICAgICAgICAgICAgICAgCiAgICAgICAgICAgICAgICAgICAgICAgICAgICAgICAgICAgICAgICAgICAgICAgICAgICAgICAgICAgICAgICAgICAgICAgICAgICAgICAgICAgICAgICAgICAgICAgICAgICAKICAgICAgICAgICAgICAgICAgICAgICAgICAgICAgICAgICAgICAgICAgICAgICAgICAgICAgICAgICAgICAgICAgICAgICAgICAgICAgICAgICAgICAgICAgICAgICAgICAgIAogICAgICAgICAgICAgICAgICAgICAgICAgICAgICAgICAgICAgICAgICAgICAgICAgICAgICAgICAgICAgICAgICAgICAgICAgICAgICAgICAgICAgICAgICAgICAgICAgICAgCiAgICAgICAgICAgICAgICAgICAgICAgICAgICAgICAgICAgICAgICAgICAgICAgICAgICAgICAgICAgICAgICAgICAgICAgICAgICAgICAgICAgICAgICAgICAgICAgICAgICAKICAgICAgICAgICAgICAgICAgICAgICAgICAgICAgICAgICAgICAgICAgICAgICAgICAgICAgICAgICAgICAgICAgICAgICAgICAgICAgICAgICAgICAgICAgICAgICAgICAgIAogICAgICAgICAgICAgICAgICAgICAgICAgICAgICAgICAgICAgICAgICAgICAgICAgICAgICAgICAgICAgICAgICAgICAgICAgICAgICAgICAgICAgICAgICAgICAgICAgICAgCiAgICAgICAgICAgICAgICAgICAgICAgICAgICAgICAgICAgICAgICAgICAgICAgICAgICAgICAgICAgICAgICAgICAgICAgICAgICAgICAgICAgICAgICAgICAgICAgICAgICAKICAgICAgICAgICAgICAgICAgICAgICAgICAgICAgICAgICAgICAgICAgICAgICAgICAgICAgICAgICAgICAgICAgICAgICAgICAgICAgICAgICAgICAgICAgICAgICAgICAgIAogICAgICAgICAgICAgICAgICAgICAgICAgICAgICAgICAgICAgICAgICAgICAgICAgICAgICAgICAgICAgICAgICAgICAgICAgICAgICAgICAgICAgICAgICAgICAgICAgICAgCiAgICAgICAgICAgICAgICAgICAgICAgICAgICAgICAgICAgICAgICAgICAgICAgICAgICAgICAgICAgICAgICAgICAgICAgICAgICAgICAgICAgICAgICAgICAgICAgICAgICAKICAgICAgICAgICAgICAgICAgICAgICAgICAgICAgICAgICAgICAgICAgICAgICAgICAgICAgICAgICAgICAgICAgICAgICAgICAgICAgICAgICAgICAgICAgICAgICAgICAgIAogICAgICAgICAgICAgICAgICAgICAgICAgICAgICAgICAgICAgICAgICAgICAgICAgICAgICAgICAgICAgICAgICAgICAgICAgICAgICAgICAgICAgICAgICAgICAgICAgICAgCiAgICAgICAgICAgICAgICAgICAgICAgICAgICAgICAgICAgICAgICAgICAgICAgICAgICAgICAgICAgICAgICAgICAgICAgICAgICAgICAgICAgICAgICAgICAgICAgICAgICAKICAgICAgICAgICAgICAgICAgICAgICAgICAgICAgICAgICAgICAgICAgICAgICAgICAgICAgICAgICAgICAgICAgICAgICAgICAgICAgICAgICAgICAgICAgICAgICAgICAgIAogICAgICAgICAgICAgICAgICAgICAgICAgICAgICAgICAgICAgICAgICAgICAgICAgICAgICAgICAgICAgICAgICAgICAgICAgICAgICAgICAgICAgICAgICAgICAgICAgICAgCiAgICAgICAgICAgICAgICAgICAgICAgICAgICAgICAgICAgICAgICAgICAgICAgICAgICAgICAgICAgICAgICAgICAgICAgICAgICAgICAgICAgICAgICAgICAgICAgICAgICAKICAgICAgICAgICAgICAgICAgICAgICAgICAgIDw/eHBhY2tldCBlbmQ9J3cnPz7/2wBDAAcFBQYFBAcGBQYIBwcIChELCgkJChUPEAwRGBUaGRgVGBcbHichGx0lHRcYIi4iJSgpKywrGiAvMy8qMicqKyr/2wBDAQcICAoJChQLCxQqHBgcKioqKioqKioqKioqKioqKioqKioqKioqKioqKioqKioqKioqKioqKioqKioqKioqKir/wAARCABYA68DASIAAhEBAxEB/8QAHwAAAQUBAQEBAQEAAAAAAAAAAAECAwQFBgcICQoL/8QAtRAAAgEDAwIEAwUFBAQAAAF9AQIDAAQRBRIhMUEGE1FhByJxFDKBkaEII0KxwRVS0fAkM2JyggkKFhcYGRolJicoKSo0NTY3ODk6Q0RFRkdISUpTVFVWV1hZWmNkZWZnaGlqc3R1dnd4eXqDhIWGh4iJipKTlJWWl5iZmqKjpKWmp6ipqrKztLW2t7i5usLDxMXGx8jJytLT1NXW19jZ2uHi4+Tl5ufo6erx8vP09fb3+Pn6/8QAHwEAAwEBAQEBAQEBAQAAAAAAAAECAwQFBgcICQoL/8QAtREAAgECBAQDBAcFBAQAAQJ3AAECAxEEBSExBhJBUQdhcRMiMoEIFEKRobHBCSMzUvAVYnLRChYkNOEl8RcYGRomJygpKjU2Nzg5OkNERUZHSElKU1RVVldYWVpjZGVmZ2hpanN0dXZ3eHl6goOEhYaHiImKkpOUlZaXmJmaoqOkpaanqKmqsrO0tba3uLm6wsPExcbHyMnK0tPU1dbX2Nna4uPk5ebn6Onq8vP09fb3+Pn6/9oADAMBAAIRAxEAPwD6QZlRSzsFUdSTio/tVv8A894/++xUtFAEX2q3/wCe8f8A32KPtVv/AM94/wDvsVLRQBF9qt/+e8f/AH2KPtVv/wA94/8AvsVLRQBF9qt/+e8f/fYo+1W//PeP/vsVLRQBF9qt/wDnvH/32KPtVv8A894/++xUtFAEX2q3/wCe8f8A32KPtVv/AM94/wDvsVLRQBF9qt/+e8f/AH2KPtVv/wA94/8AvsVLRQBF9qt/+e8f/fYo+1W//PeP/vsVLRQBF9qt/wDnvH/32KPtVv8A894/++xUtFAEX2q3/wCe8f8A32KPtVv/AM94/wDvsVLRQBF9qt/+e8f/AH2KPtVv/wA94/8AvsVLRQBF9qt/+e8f/fYo+1W//PeP/vsVLRQBF9qt/wDnvH/32KPtVv8A894/++xUtFAEX2q3/wCe8f8A32KPtVv/AM94/wDvsVLRQBF9qt/+e8f/AH2KPtVv/wA94/8AvsVLRQBF9qt/+e8f/fYo+1W//PeP/vsVLRQBF9qt/wDnvH/32KPtVv8A894/++xUtFAEX2q3/wCe8f8A32KPtVv/AM94/wDvsVLRQBF9qt/+e8f/AH2KPtVv/wA94/8AvsVLRQBF9qt/+e8f/fYo+1W//PeP/vsVLRQBF9qt/wDnvH/32KPtVv8A894/++xUtFAEX2q3/wCe8f8A32KPtVv/AM94/wDvsVLRQBF9qt/+e8f/AH2KPtVv/wA94/8AvsVLRQBF9qt/+e8f/fYo+1W//PeP/vsVLRQBF9qt/wDnvH/32KPtVv8A894/++xUtFAEX2q3/wCe8f8A32KPtVv/AM94/wDvsVLRQBF9qt/+e8f/AH2KPtVv/wA94/8AvsVLRQBF9qt/+e8f/fYo+1W//PeP/vsVLRQBF9qt/wDnvH/32KPtVv8A894/++xUtFAEX2q3/wCe8f8A32KPtVv/AM94/wDvsVLRQBF9qt/+e8f/AH2KPtVv/wA94/8AvsVLRQBF9qt/+e8f/fYo+1W//PeP/vsVLRQBF9qt/wDnvH/32KPtVv8A894/++xUtFAEX2q3/wCe8f8A32KPtVv/AM94/wDvsVLRQBF9qt/+e8f/AH2KPtVv/wA94/8AvsVLRQBF9qt/+e8f/fYo+1W//PeP/vsVLRQBF9qt/wDnvH/32KPtVv8A894/++xUtFAEX2q3/wCe8f8A32KPtVv/AM94/wDvsVLRQBF9qt/+e8f/AH2KPtVv/wA94/8AvsVLRQBF9qt/+e8f/fYo+1W//PeP/vsVLRQBF9qt/wDnvH/32KPtVv8A894/++xUtFAEX2q3/wCe8f8A32KPtVv/AM94/wDvsVLRQBF9qt/+e8f/AH2KPtVv/wA94/8AvsVLRQBF9qt/+e8f/fYo+1W//PeP/vsVLRQBF9qt/wDnvH/32KPtVv8A894/++xUtFAEX2q3/wCe8f8A32KPtVv/AM94/wDvsVLRQBF9qt/+e8f/AH2KPtVv/wA94/8AvsVLRQBF9qt/+e8f/fYo+1W//PeP/vsVLRQBF9qt/wDnvH/32KPtVv8A894/++xUtFAEX2q3/wCe8f8A32KPtVv/AM94/wDvsVLRQBF9qt/+e8f/AH2KPtVv/wA94/8AvsVLRQBF9qt/+e8f/fYo+1W//PeP/vsVLRQBF9qt/wDnvH/32KPtVv8A894/++xUtFAEX2q3/wCe8f8A32KPtVv/AM94/wDvsVLRQBF9qt/+e8f/AH2KPtVv/wA94/8AvsVLRQBF9qt/+e8f/fYo+1W//PeP/vsVLRQBF9qt/wDnvH/32KPtVv8A894/++xUtFAEX2q3/wCe8f8A32KPtVv/AM94/wDvsVLRQBF9qt/+e8f/AH2Kck0UjYjkRj1wrA0+igAooooAKKKKACiiigAooooAKKKKACiiigAoqpa6rY3t9eWdpcpLcWLKlzGvWIsNwB+o5q3QAUUVQttb0+81q90m3nL3tgsbXEXlsNgcEryRg5A7E0AX6KKQkKpJ6AZNAC0VQ0XWrDxDpMOp6RMZ7Sbd5chjZM4YqeGAPUHtV+jYAoormrz4i+ENP1v+ybzxBZQ3obY0bScI3ozfdU+xIo62DzOlorF13xh4f8MtANe1WCxNyCYfNJ+cDGcYHuPzpIvGfhyfw/LrkGs2kumQELLcpJuWMkgANjkHJHB9RQHkbdFc9rHj7wt4fvhZ6zrVtZ3DRiQRyE5KnoentWxp+o2Wq2Md5pl3Dd20gyk0EgdW/EUAWaKKKACiiigAooooAKKKKACiiigAooooAKKKKACiiigAooooAKKKKACiiigAooooAKKKKACiiigAooooAKKKKACiiigAooooAKKKKACiiigAooooAKKKKACiiigAooooAKKKKACiiigAooooAKKKKACiiigAooooAKKKKACiiigAooooAKKKKACiiigAooooAKKKKACiiigAooooAKKKKACiiigAooooAKKKKACiiigAooooAKKKKACiiigArn/F3i608J6cssyGe6mO23tlPLn19hXQV5rpkI8TfGTUrq9HmQaMojgjbkBgcA4+u4/XFZybbUF1/QxrTlCPu7t2Q6DRvH3iiMXWqa3/AGDDJylvbKQ6j3AIP5tmlm8PePPDiG50fxCdbRPme2u1JZx6DcT+jA16MrK65RgwzjIOa4HxT4yvrvWE8N+C8S6izfv7kAFYAOoz047nt061Moxjte5hUpU6ceecnfvd3+S2/A2vB3jK38VWkiPEbXUbbi4tWPK9tw9s/iDx6E9LXmHiC2m8MfEbw9q4ePzdQIt70xLsWRuFZse+4H6ivT60i3Ja7rQ0oTk7wnuvye3/AAQqpqpul0a8OnSRRXnkP5DzfcWTadpb2zjNW6juLeG7tpbe6iSaGZCkkbjKupGCCO4IptXVjqTs7nlXg7U9S07xFptj4k1HxDb6lqFrIWh1Bori0vJVXcWgkjJ2Y5OOmCB9aVl4k1VvgLouoyatcnUJtUjhe4M58xx9rKlSc5PyjGPSvQ9H8A+G9B1CK+03T2S4gQxwNLcyzCBT1EYdiEH+6B6VVHwt8GC7muRocYlmmE7ETSABwwbKjdheQM7cZxg8Vd1dfL8Hf8iX8LX9bWOPttHuNY8f/EEQeIr3RltpreUGykVCW+z8M5IJKDHTjPOe2Kuma9r3i++8D29xrN7pv9raXdG8eyYI0hQ4DgEFQTt644ycYrv9V+G3hTWry7u9R0rzLi9cPcSrcSo0mFC4O1h8uAPl6HGcZrTXwzo8epadfxWKR3GmQNb2ZjZlWGNgAVCg7cYA6ilGyST8v/SWvzt9wO+tv61T/wAzyFr/AMSW3gO98Qf8JXqclzoGsNYQxMU8u4iWdUzMNuXYhupPYcZyT0s2q+IJvF/xDs9J1HZPa2VodPW4lxFA7REkjd8qkn14zjNdi/gvQJNFvNJewzY3t0bu4i86T55S4ctndkfMAcAge1SS+EtDnutVuJ9PSWTWI0ivvMZmWZUG1RtJwMD0ApPWNvL9F+tyo6O/9b3/ACOD8M6lqdlqN7pE2o67a6zLpbzQ2niAxzQtMBjzY5kJG0HGV6YOcVH4P1PUtN8RadY+JdR8Q2+o39pIXh1Bori0vJFXcWgkjJ2Y5OOmCB9e20vwD4a0iSeS007e89v9ldrqeS4Pk/8APMeYzYX2HBpNI8AeGtDv47zTtPZZ4Y2ihaW5llECHqsYdiEH+7im9fu/z/4H9WJ6f15HmvhjXtc8RaJ4J0O51y/tRq326W7v4pf9IlEUjbY1kbOPfHOAKdrniPXtJ8O+JtJg1u6uH0XV7KG11F2/fGOUqTG7LjcRyD655r0h/h94Yk8O2uhtpgFhZyGW2UTyB4XLFiyybt4OSe9OTwD4Zj8PHRE0tRp7Ti5eMSvueUEMHZ925jkDqT0xTuua/S/6p/loEru9vP8AJ/8AD/0jlVGu+HvH19ottr2oatHe6FNfRrfMrtHcK+0bCqjavP3QMVn+HGsLf4AWs1jotlrME0Dtq0dzdi3+bDGV3cqx3AjHr0weBXpzaNYPr8etNBnUI7c2yzb24jLBiu3OOoHOM1z198K/BWo6u+p3egwvcyP5kmJJFjkbrlowwUnPXI571Fna39bv9H+BWl7/ANbL9fzOBvNWu3134a6h4d8OmeR9Mujb6XLfY2p5aADznBzheckc1kakZtV+GXxD8S3MMNhNqF3bwS6XExY2jwyorbzgZY5zwK9zm8P6XPq+n6nJaL9r02N47R1ZlESuAGAUHaeAOo47VRvfA3h3UBqwu9P3rrJjN+qzyKsxQgqcBgAeByME981d9fv/APSr/wBeYoe6035fgjmdHVX+OuohlDD/AIR634I/6aUvw++zQeO/HEOkbE0dby38oRYEQuDH++C44znbkDvW3rvw18J+JdSF/rWltcXIiWHeLqaP5B0GFcDvVxvBXh1tDtdHXSoY9PtZ0uIYIiUCyKchvlIJOeuc575oT/X8ZXJSsren4K39eRyEv9peLvHHii1k8TX+hW2giFLaOzkSNctHvMsuQd657HAwKi8Sv4iurnSJLfU9R1bRl00vPN4Znhinmnzjztpb5oyOgUkZ/Xrte8AeGfE1+L3WdNE1z5fltJHNJEZE/uvsYbh7HNO1TwL4c1drZ7vTvLe1h+zwvazSW7LF/wA88xspK+x4qOi/ro9f1/4ZF9X/AF2/r/h2ccPE80Nj4K8Twa7c32kyzNp+oyTJ5IcvlUkkjB2qyuuCfeui+G91f6vol5r2o3M8qareyzWcUjErDbhtsYUdsgZ981rT+ENBufCn/CNS6bF/Y+wILVSygAHcOQQc5Gc5zmtOxsrfTdPt7GxiENtbRrFFGOiqowBz7Crurv8AD03/AD/Mnov6/rf8ET0UUVIwooooAKKKKACiiigAooooAKKKKACiiigAooooAKKKKACiiigAooooAKKKKACiiigAooooAKKKKACiiigAooooAKKKKACiiigAooooAKKKKACiiigAooooAKKK4v4geKNU0i50XQ/DYgGra5cmGKa4UskCKAXfHcgEYH1o62A7SiuC8J+I9et/HV/4N8WXFvf3UNot7a38EPledETtIZASAQT29DUHxM8Yaj4e1zQNO07WLHRor8XD3N5exCRI1jVSOCRyScY7kijt5/1+gLW/keiUVw2h3PiDxB4QebR/GWlX921z8l9BYgxogHMZj3fezzkkcHpWf4O13xXdfEbVtI1XVrPUtM0m3AubmG0EIWduQgOTnABzTtrYV9LnpNFeTab8Sta1r4saXZ2Kwp4X1CS5htpCmXufIjJaQHspfAH0q98VPiBqnh1Dp/hJYpNRt7c317JIu5ba3HAyP7zMQB/9fNS3aKk+pVvecT0uiuK1K98Zaro3h1PDAt7dtQgWXUNUmRXFqDGG+WIsNxYk9iB39aT4eeI9Y1e617Stdmtr2bRbsWy6hax7EuMjJyuSAw7gev4m+Vptdv8AhiFJNJ9ztqKKKkoKKKKACiiigAooooAKKKKACivO9Y8QeJ9f+IN74W8H3trpUelWyT3d7Pb+czyPysYUnAGDyevX8df4c+LLvxZ4dnk1WCODU9Pu5LK8WHOwyJjJXPYgj9aFqr/12B6O39bXOtorx7VvH+q/8Jxrun/8Jlo/h+0sbmO3t47y0EryEoCx+8MAHueOa2/G3jTUtGGhaLpmqadb3uowNNc6xcqPIgiRRukC5wSxPyjkdu+aOiff/K/5B1sejUV5fp3jjW0+G3iTVrjU9K1Z9MiY2WpWJG2Y7ePMi/gYHHHAIP4l/gLxTqWuazax3njjRdSYweZPptrahJASmcB93O0nnA7dqdtbCvpc9NorxeP4haxqHiDVreTxxoehRwapNZ2trdWYd2RDgMTuGAc4ye4Ndh4zfxVpVpe61Z+J7DT9LtbfzWil0/zWyF5w24Zyeg96lu0eZ7FW97lO4orm/h9f63qngbTtQ8T+WNQukMxEabAEY5TjsduDXSVTTi7MlO6ugooopDCiiigApks8UChp5UjUnALsB/On1l6jGk2s6bHKiuh83KsMg/KO1AFv+0rH/n8t/wDv6v8AjT4ru2nbbBcRSNjOEcE/pTP7Osf+fO3/AO/S/wCFUri3gt9d037PDHFu83dsULn5famBrUUUUgCiiigAooooAK8ysHTw98X9Usb9jHba3HuhkyVyx5ADDoc7hx3xXptc/wCLvCNp4s01YZmMF1Cd0FwoyUPofUGs5xd1Ja2/J7mNaEpx93dO6+Rwl5oPjDwvey6J4ZmkuNN1Rz5Uzcm3J+9lv4Tjv37c11mi6Lo/gDw3cXV5dJDHGu+9v5ODIfQdwM8ADkn3641vrPj7wvGLXVNE/t6CMYjuLZiXYe5AJP4rn3NWvHjo8HhF78EaY2swm8DjAB2t5e/28zbnPfFTTUU7R30WvRNmFCFPmc7PS7s+ne3qSP4zFxCJx4J1qe02mVWKwec6A/fWEy+YR0/hzz0rp9G1qx1rTINR0m6W6sZ/uSDIKHptIPIOeMHkGue8RrfaN4907xNHptxqGnLYyWFyLNd80BeRGEnl9WUbcHbkjrjiq3g4ofE/jg6dj+zTqEflbR8v2jyl87Hvu25963jqvv8Azt+Vmdj0f9djvaKKoa7fSab4ev72AAyW9u8ibhxkKTk+1Ipasv0VhJYjSJIbxtZupNyt56XMvmC6whb5FJARhjOEAGAeO4pz+Jr+y0w3l5aW+JtPmvYEjckoUQN5bnvkEfMMdDx3oBK9rdTqaK5ifX9WtZrxZrayK2SwzSFHfLpISNo44Zdp56HjgZ4lOvX8cklxLb2/2GPUBZEK58w7pBGH9PvMMr6ZOe1HW39f1qLdXOioriofFN5bRm1hiluZ1e5lZ2t558qLiRUT92rbfukZPQAYB7WG8R6lbXepX1zEBY2+mwXSWTRMJld9/wApPrlcEYPbA65Olx2s7HW0Vi6DrN1qVxcw3drJGIlR1nNrNAr7s5UCVQSRjqM5BHTpVYarPBb6leebGXa/NvCkpdgqqAuFRQSzZDNtHJz1GKOtv6/rUR0dFcVJqmo69Nonkv8AZYzqE0Vwn76FpPKVyOMqwB252t3xnIHMlt4k1S00mA6h5dzdXV9cQRvBayyCNI3fkogLNjaAMY6jJ9TpcDsaK5yx1/UdQutPgWyS2adJpJ/tCSIQsciplVZQ3zBsjcBj3q/f394uqxafpsUBkaFp5HnYgBQQAoA7knr2x0PSgDUorh7TxZewaRp0EcEtzd/2dHdTMYJ595bICZjRsElG+Zvbg840L3xXNbXMBW3HlO0CyQ+VK0sZlKgiRguyIqGBwx59qBtWdjqKK5WXV9SvLjTriJYobGXU2twFkbzCqeYuW7EEr93txye1O0127tLG2mUNdXL21uoM877WMlz5fI5APzfexnikndpd9PwuFv6+djtqK5a68U3diXtLi3RrwXotVkghllQr5Xm7/LQF+nG317gU+DV7u6uNEupYJrVri6ms5YXR4w6iN3DhXAP/ACyBGRkBiKa1Cx01FRNcKt3HblJS0iM4YRkoMY4LdAeeAeuD6Vh6pr19ZXGotDBbva6ckcku9mDyK2SwHYEAZHXPTjrQI6GiuffXrtZHuhBD/Z6XwsSNx80sZBHv9Mbzjb6c57VQPjZ4XQXNqgWK3l+0spPyToXwgHofJk9/u+tHS/8AXcfKzr6KjtzK1rEbkKsxQGQJ0DY5x7ZqSgW4UUUUAFFFFABRRRQAUUUUAFFFFABRRRQAUUUUAFFFFABRRRQAUUUUAFFFFABRRRQAUUUUAFFFFABRRRQAUUUUAFFFFABRRRQAUUUUAFFFFABRRRQAVw/xE8OavqF9oPiHw1BHd6loVy0i2ckgjFxG4AdQx4B44J967iijqmB5no+k+LLjxbrXjnVNDitL9dO+xaZpJvEcvg7svIPlGW6fU9MZOxr0viwR6Hq1j4W0zU7iOMm9sJZlW4t3Zf8AljM3y4ByDxz268dpRR2t0/4P53A848KaH4l0DTPFeunSIYNV1iY3Fpo0E6FYmCkDc+QmSTk4Pb1OBZ0T4fXdt8KbrQJtQaz1fVkeXUL5V8xvOkOX6EZ4+Xr7131FDs015JfJArp387/M8YX4Y+NdO8Y+E2tvEq3lhpSSot0umwQiyj2gbPL3Zk3j5c8kdam8V/CrxTJbeKLvQ/FH2ltbcyS6c2nxBphn5IvPd8qFHA6DjpXsNFEveVn5/iC0enl+B5Xrun/EfTvhvo+haAh1O+eHy7+8jkhtpLeMAYiTLYzg7d4z93PU5rovhvbajpmivpV54PHhm2tQvk/8TCO6a5Y53sxQD5uBknrnjpXZUVXNdt9xJWSXYKKKKkYUUUUAFFFFABRRRQAUUUUAeb6tpHifwx8SNQ8TeF9FTXrbWLVI7m1+1pA8MsYwrAvwVI7Dnk07wbofifwd4fhJ0y3v9S1nV2u9VRbkItokn3ipP3ioA4HcnGetejUUR0Vv6te9gev9eVjzTxRa+MHm17S7PwZpGqWerIY4dQhnSAoGBH79WJZ2XOcr+HXilqHw91nR4/BWqaXaQa9e+G7c29xZvMIhOCuAyM/A2kkjPoK9YooWm39b/wCbB6/13/4Y8x8O+FfEi/8ACX65PpWm6bf64YzbaTcsJ4V2AjMpTAJbPb1yfSorLQ/FPiTxp4b1HWPC9p4at9ADl5IrqOU3BK7QiKn3U74PY/n6nRTTs0+1vwB6p+f6nk/ifSfGmqabrfhlPB2jSwalOTFq9vOkMaoSMPJGcuZAB1HfpnHOt4n8JavrcHhjwtsaXQbby31a8aRR5wiUbY9udx3EZPGBxzxXoVFJafh+GwPX8fx3EVQqhVAAAwAO1LRRQAUUUUAFFFFABWXqMiQ6zpryuqIPNyzHAHyjvWpTJYIp1CzxJIoOQHUH+dAEP9pWP/P5b/8Af1f8apXFxBca7pv2eaOXb5u7YwbHy+1Xf7Osf+fO3/79L/hT4rS2gbdBbxRtjGUQA/pTAmooopAFFFFABRRRQAUUUUAFUNU0u01TTriw1O1S7sLldssLjP8An145B5FX6KNw2OLHg6eOz+wQeN9ejsMbRAHhMqr/AHRKY/Mx265x3rodG0Wx0XTINP0m1W1soPuRjOXPXcSeSc85PJNadFO4BSMquhR1DKwwQRkEUtFIDKsvDel6fcLNbwylo1KRLLcSSpCp6hFdiqDHHygccdKZF4U0eGKeJbeRo5oGtiklxI4SJvvIgLHy1PHC46D0FbFFAFObSbK4NwZodxuUSOX52G5UJKjrxjJ6VQtPC9nDfS3lx5k0r3b3Kr50gjDE/KTHu2Fh/exngegrboo63DpYyp/DWlzqoMU0W0yHdBdSxMd7FmBZGBILEnB49Klk0PTpZWke3zvtvsrpvYI8XOFZM7TjJwSMjJx1rQooApafpFrphkNt57PJgM9xcyTsQOg3OxIAyePeq8nh+1na6E7SGK4nW4URyNE8UgUKWV1IIyB29W6g4rVooAz7TQtPslgFvCw8iV5kZ5Xc73BDMSxJJIY9c9ajfw5prwvH5cyB52uAY7mRGjkbO5kIYFM5OQuAcnPU1qUUAUrXSLKyeF7eJg8Mbxo7SM7YdgzZJJLElQcnJpNQ0ay1OSKS6WUSQghJIZ3hYA4ypKEEqcDIPHAq9RQBky+GNKlt4IBDLDHbxeRGLe5lhPl/3CUYFl9jmifwzpVxdefJBKCWRzGlxIkbMmNjGMMFJG1eSOw9K1qKAMtfDelrqAvBBJ5olM6r58nlpIc5dY920McnJA5yfU04eH9MCRoLb5YxGqjzG4CSeYvfswz/APWrSoo2C5n3Wh6feeaZonDyyrM0kczxuHC7AyspBU7eOCMjOeppkWh28FzZNCzCGz8x0jdmdmkfguzsSScFhz/erTooAKp3GlWV0t2s8O4XiBJ/nYb1AwBweOvarlFAGY3h7TX1L7c0Mnm+YJinnyeUZAMBzHu2FunOM8A9aJPDmkymcyWSH7RdJdy/MfmlTbtbr/sjjoecjk1p0UAFFFFABRRRQAUUUUAFFFFABRRRQAUUUUAFFFFABRRRQAUUUUAFFFFABRRRQAUUUUAFFFFABRRRQAUUUUAFFFFABRRRQAUUUUAFFFFABRRRQAUUUUAFFFFABRRRQAUUUUAFFFFABRRRQAUUUUAFFFFABRRRQAUUUUAFFFFABRRRQAUUUUAFFFFABRRRQAUUUUAFFFFABRRRQAUUUUAFFFFABRRRQAUUUUAFFFFABRRRQAUUUUAFFFFABRRRQAUUUUAFFFFABRRRQAUUUUAFFFFABRRRQAUUUUAFFFFABRRRQAUUUUAFFFFABRRRQAUUUUAFFFFABRRRQAUUUUAFFFFABRRRQAUUUUAFFFFABRRRQAUUUUAFFFFABRRRQAUUUUAFFFFABRRRQAUUUUAFFFFABRRRQAUUUUAFFFFABRRRQAUUUUAFFFFABRRRQAUUUUAFFFFABRRRQAUUUUAFFFFABRRRQAUUUUAFFFFABRRRQAUUUUAFFFFABRRRQAUUUUAFFFFABRRRQAUUUUAFFFFABRRRQAUUUUAf/9k=)"
      ],
      "metadata": {
        "id": "D4uhQngCoZYG"
      }
    },
    {
      "cell_type": "markdown",
      "source": [
        "When comparing the results of these two methods we foudn that grid ended up working better but not enough to justify the length it takes to run. The time it takes to fit the model is drastically different for both and should probably be considered when attempting this. Randomsearch was faster and gave back a slightly smaller accuracy while gridsearch was much slower even when given more cores to work with and came back with a slight edge in the results.\n"
      ],
      "metadata": {
        "id": "XRgPisg3obaW"
      }
    },
    {
      "cell_type": "markdown",
      "source": [
        "We are content with our given results and in the future are more likely to use randomsearcg as our chosen model due to the time difference between these two."
      ],
      "metadata": {
        "id": "-Y7Q0D2LpAfC"
      }
    }
  ]
}