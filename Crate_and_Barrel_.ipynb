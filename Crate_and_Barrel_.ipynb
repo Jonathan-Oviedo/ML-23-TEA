{
  "nbformat": 4,
  "nbformat_minor": 0,
  "metadata": {
    "colab": {
      "provenance": [],
      "authorship_tag": "ABX9TyOvYjQSFL/pXbkaPRQmu9B9",
      "include_colab_link": true
    },
    "kernelspec": {
      "name": "python3",
      "display_name": "Python 3"
    },
    "language_info": {
      "name": "python"
    }
  },
  "cells": [
    {
      "cell_type": "markdown",
      "metadata": {
        "id": "view-in-github",
        "colab_type": "text"
      },
      "source": [
        "<a href=\"https://colab.research.google.com/github/Jonathan-Oviedo/ML-23-TEA/blob/Labs/Crate_and_Barrel_.ipynb\" target=\"_parent\"><img src=\"https://colab.research.google.com/assets/colab-badge.svg\" alt=\"Open In Colab\"/></a>"
      ]
    },
    {
      "cell_type": "markdown",
      "source": [
        "# Crate and Barrel Project\n",
        "By: Jonathan Oviedo and Gerald\n"
      ],
      "metadata": {
        "id": "tR5sPegvTVKP"
      }
    },
    {
      "cell_type": "markdown",
      "source": [
        "# Attempt One using Random Search and Decision Trees\n",
        "\n",
        "below is the work used for this attempt."
      ],
      "metadata": {
        "id": "W-jL5VRSUB2E"
      }
    },
    {
      "cell_type": "markdown",
      "source": [
        "Importing the libraries"
      ],
      "metadata": {
        "id": "CY2rSPZ3YJfD"
      }
    },
    {
      "cell_type": "code",
      "source": [
        "#This imports the libraries needed. Mostly taken from previous labs like xgboost and decision tree\n",
        "import numpy as np\n",
        "import pandas as pd\n",
        "from sklearn.ensemble import RandomForestClassifier\n",
        "from sklearn.feature_selection import RFE\n",
        "from sklearn.model_selection import RandomizedSearchCV\n",
        "from sklearn.preprocessing import LabelEncoder"
      ],
      "metadata": {
        "id": "lGPYUz8ZTYyZ"
      },
      "execution_count": 3,
      "outputs": []
    },
    {
      "cell_type": "markdown",
      "source": [
        "# Preparing the data"
      ],
      "metadata": {
        "id": "EPQtcWrtZ-S_"
      }
    },
    {
      "cell_type": "markdown",
      "source": [
        "Yo yo ma"
      ],
      "metadata": {
        "id": "jwnNAoqpaGVD"
      }
    },
    {
      "cell_type": "code",
      "source": [
        "#loading the testing and training data from the kaggle CSV files\n",
        "trainData = pd.read_csv(\"train.csv\")\n",
        "testData =  pd.read_csv(\"test.csv\")\n",
        "\n",
        "#Getting the target and id from the training data\n",
        "targetTrain = trainData[[\"target\",\"id\"]]\n",
        "\n",
        "#the values in targetTrain are then converted to numeric values.\n",
        "trainData = trainData.drop([\"target\",\"id\"], axis=1)\n",
        "\n",
        "#creating classes from the target variable\n",
        "#created trainLabel to have a unique class for the numeric value\n",
        "trainLabel = targetTrain['target']\n",
        "Class = np.unique(trainLabel)"
      ],
      "metadata": {
        "colab": {
          "base_uri": "https://localhost:8080/"
        },
        "id": "JbUIAhXVaFko",
        "outputId": "faca004c-4b5e-424b-ef6f-d6918ae37dc5"
      },
      "execution_count": 16,
      "outputs": [
        {
          "output_type": "execute_result",
          "data": {
            "text/plain": [
              "array(['Class_1', 'Class_2', 'Class_3', 'Class_4', 'Class_5', 'Class_6',\n",
              "       'Class_7', 'Class_8', 'Class_9'], dtype=object)"
            ]
          },
          "metadata": {},
          "execution_count": 16
        }
      ]
    },
    {
      "cell_type": "markdown",
      "source": [
        "# Random Search Implementation"
      ],
      "metadata": {
        "id": "4R_cO0VkkGmO"
      }
    },
    {
      "cell_type": "code",
      "source": [
        "#Defining the parameters\n",
        "paramDistribution = {\n",
        "    'n_estimators': [50, 100, 200, 500],\n",
        "    'max_depth': [None, 5, 10, 20],\n",
        "    'min_samples_split': [2, 5, 10],\n",
        "    'min_samples_leaf': [1, 2, 4]\n",
        "}\n",
        "#creating an rfc\n",
        "RFC = RandomForestClassifier()\n",
        "\n",
        "#creating a clf object\n",
        "clf = RandomizedSearchCV(RFC, paramDistribution, n_iter=10, cv=5)\n",
        "\n",
        "#fitting the model to training so we can find the optimal params to use.\n",
        "clf.fit(trainData, trainLabel)\n",
        "#This took a bit of time to run. 15-20 on average, take that into account."
      ],
      "metadata": {
        "colab": {
          "base_uri": "https://localhost:8080/",
          "height": 118
        },
        "id": "St51vcwekNDj",
        "outputId": "f405c0b0-c72a-415f-bc42-457e681995ee"
      },
      "execution_count": 18,
      "outputs": [
        {
          "output_type": "execute_result",
          "data": {
            "text/plain": [
              "RandomizedSearchCV(cv=5, estimator=RandomForestClassifier(),\n",
              "                   param_distributions={'max_depth': [None, 5, 10, 20],\n",
              "                                        'min_samples_leaf': [1, 2, 4],\n",
              "                                        'min_samples_split': [2, 5, 10],\n",
              "                                        'n_estimators': [50, 100, 200, 500]})"
            ],
            "text/html": [
              "<style>#sk-container-id-1 {color: black;background-color: white;}#sk-container-id-1 pre{padding: 0;}#sk-container-id-1 div.sk-toggleable {background-color: white;}#sk-container-id-1 label.sk-toggleable__label {cursor: pointer;display: block;width: 100%;margin-bottom: 0;padding: 0.3em;box-sizing: border-box;text-align: center;}#sk-container-id-1 label.sk-toggleable__label-arrow:before {content: \"▸\";float: left;margin-right: 0.25em;color: #696969;}#sk-container-id-1 label.sk-toggleable__label-arrow:hover:before {color: black;}#sk-container-id-1 div.sk-estimator:hover label.sk-toggleable__label-arrow:before {color: black;}#sk-container-id-1 div.sk-toggleable__content {max-height: 0;max-width: 0;overflow: hidden;text-align: left;background-color: #f0f8ff;}#sk-container-id-1 div.sk-toggleable__content pre {margin: 0.2em;color: black;border-radius: 0.25em;background-color: #f0f8ff;}#sk-container-id-1 input.sk-toggleable__control:checked~div.sk-toggleable__content {max-height: 200px;max-width: 100%;overflow: auto;}#sk-container-id-1 input.sk-toggleable__control:checked~label.sk-toggleable__label-arrow:before {content: \"▾\";}#sk-container-id-1 div.sk-estimator input.sk-toggleable__control:checked~label.sk-toggleable__label {background-color: #d4ebff;}#sk-container-id-1 div.sk-label input.sk-toggleable__control:checked~label.sk-toggleable__label {background-color: #d4ebff;}#sk-container-id-1 input.sk-hidden--visually {border: 0;clip: rect(1px 1px 1px 1px);clip: rect(1px, 1px, 1px, 1px);height: 1px;margin: -1px;overflow: hidden;padding: 0;position: absolute;width: 1px;}#sk-container-id-1 div.sk-estimator {font-family: monospace;background-color: #f0f8ff;border: 1px dotted black;border-radius: 0.25em;box-sizing: border-box;margin-bottom: 0.5em;}#sk-container-id-1 div.sk-estimator:hover {background-color: #d4ebff;}#sk-container-id-1 div.sk-parallel-item::after {content: \"\";width: 100%;border-bottom: 1px solid gray;flex-grow: 1;}#sk-container-id-1 div.sk-label:hover label.sk-toggleable__label {background-color: #d4ebff;}#sk-container-id-1 div.sk-serial::before {content: \"\";position: absolute;border-left: 1px solid gray;box-sizing: border-box;top: 0;bottom: 0;left: 50%;z-index: 0;}#sk-container-id-1 div.sk-serial {display: flex;flex-direction: column;align-items: center;background-color: white;padding-right: 0.2em;padding-left: 0.2em;position: relative;}#sk-container-id-1 div.sk-item {position: relative;z-index: 1;}#sk-container-id-1 div.sk-parallel {display: flex;align-items: stretch;justify-content: center;background-color: white;position: relative;}#sk-container-id-1 div.sk-item::before, #sk-container-id-1 div.sk-parallel-item::before {content: \"\";position: absolute;border-left: 1px solid gray;box-sizing: border-box;top: 0;bottom: 0;left: 50%;z-index: -1;}#sk-container-id-1 div.sk-parallel-item {display: flex;flex-direction: column;z-index: 1;position: relative;background-color: white;}#sk-container-id-1 div.sk-parallel-item:first-child::after {align-self: flex-end;width: 50%;}#sk-container-id-1 div.sk-parallel-item:last-child::after {align-self: flex-start;width: 50%;}#sk-container-id-1 div.sk-parallel-item:only-child::after {width: 0;}#sk-container-id-1 div.sk-dashed-wrapped {border: 1px dashed gray;margin: 0 0.4em 0.5em 0.4em;box-sizing: border-box;padding-bottom: 0.4em;background-color: white;}#sk-container-id-1 div.sk-label label {font-family: monospace;font-weight: bold;display: inline-block;line-height: 1.2em;}#sk-container-id-1 div.sk-label-container {text-align: center;}#sk-container-id-1 div.sk-container {/* jupyter's `normalize.less` sets `[hidden] { display: none; }` but bootstrap.min.css set `[hidden] { display: none !important; }` so we also need the `!important` here to be able to override the default hidden behavior on the sphinx rendered scikit-learn.org. See: https://github.com/scikit-learn/scikit-learn/issues/21755 */display: inline-block !important;position: relative;}#sk-container-id-1 div.sk-text-repr-fallback {display: none;}</style><div id=\"sk-container-id-1\" class=\"sk-top-container\"><div class=\"sk-text-repr-fallback\"><pre>RandomizedSearchCV(cv=5, estimator=RandomForestClassifier(),\n",
              "                   param_distributions={&#x27;max_depth&#x27;: [None, 5, 10, 20],\n",
              "                                        &#x27;min_samples_leaf&#x27;: [1, 2, 4],\n",
              "                                        &#x27;min_samples_split&#x27;: [2, 5, 10],\n",
              "                                        &#x27;n_estimators&#x27;: [50, 100, 200, 500]})</pre><b>In a Jupyter environment, please rerun this cell to show the HTML representation or trust the notebook. <br />On GitHub, the HTML representation is unable to render, please try loading this page with nbviewer.org.</b></div><div class=\"sk-container\" hidden><div class=\"sk-item sk-dashed-wrapped\"><div class=\"sk-label-container\"><div class=\"sk-label sk-toggleable\"><input class=\"sk-toggleable__control sk-hidden--visually\" id=\"sk-estimator-id-1\" type=\"checkbox\" ><label for=\"sk-estimator-id-1\" class=\"sk-toggleable__label sk-toggleable__label-arrow\">RandomizedSearchCV</label><div class=\"sk-toggleable__content\"><pre>RandomizedSearchCV(cv=5, estimator=RandomForestClassifier(),\n",
              "                   param_distributions={&#x27;max_depth&#x27;: [None, 5, 10, 20],\n",
              "                                        &#x27;min_samples_leaf&#x27;: [1, 2, 4],\n",
              "                                        &#x27;min_samples_split&#x27;: [2, 5, 10],\n",
              "                                        &#x27;n_estimators&#x27;: [50, 100, 200, 500]})</pre></div></div></div><div class=\"sk-parallel\"><div class=\"sk-parallel-item\"><div class=\"sk-item\"><div class=\"sk-label-container\"><div class=\"sk-label sk-toggleable\"><input class=\"sk-toggleable__control sk-hidden--visually\" id=\"sk-estimator-id-2\" type=\"checkbox\" ><label for=\"sk-estimator-id-2\" class=\"sk-toggleable__label sk-toggleable__label-arrow\">estimator: RandomForestClassifier</label><div class=\"sk-toggleable__content\"><pre>RandomForestClassifier()</pre></div></div></div><div class=\"sk-serial\"><div class=\"sk-item\"><div class=\"sk-estimator sk-toggleable\"><input class=\"sk-toggleable__control sk-hidden--visually\" id=\"sk-estimator-id-3\" type=\"checkbox\" ><label for=\"sk-estimator-id-3\" class=\"sk-toggleable__label sk-toggleable__label-arrow\">RandomForestClassifier</label><div class=\"sk-toggleable__content\"><pre>RandomForestClassifier()</pre></div></div></div></div></div></div></div></div></div></div>"
            ]
          },
          "metadata": {},
          "execution_count": 18
        }
      ]
    },
    {
      "cell_type": "code",
      "source": [
        "#finding the best parammeters \n",
        "print(clf.best_params_)\n"
      ],
      "metadata": {
        "colab": {
          "base_uri": "https://localhost:8080/"
        },
        "id": "IDoDZzMjyIcj",
        "outputId": "dfd73589-79c2-4141-a08c-36d7ab44e850"
      },
      "execution_count": 19,
      "outputs": [
        {
          "output_type": "stream",
          "name": "stdout",
          "text": [
            "{'n_estimators': 200, 'min_samples_split': 2, 'min_samples_leaf': 1, 'max_depth': None}\n"
          ]
        }
      ]
    },
    {
      "cell_type": "markdown",
      "source": [
        "# Now that we have the values for the parameters\n",
        "\n",
        "we create and fit the clf using our optimal numbers."
      ],
      "metadata": {
        "id": "ZG5EY1WVy3Ld"
      }
    },
    {
      "cell_type": "code",
      "source": [
        "print(testData.columns)"
      ],
      "metadata": {
        "colab": {
          "base_uri": "https://localhost:8080/"
        },
        "id": "hoY1E36hDR-v",
        "outputId": "6da5cdaf-f4b5-4010-afb7-17f585c0e543"
      },
      "execution_count": 34,
      "outputs": [
        {
          "output_type": "stream",
          "name": "stdout",
          "text": [
            "Index(['feat_1', 'feat_2', 'feat_3', 'feat_4', 'feat_5', 'feat_6', 'feat_7',\n",
            "       'feat_8', 'feat_9', 'feat_10', 'feat_11', 'feat_12', 'feat_13',\n",
            "       'feat_14', 'feat_15', 'feat_16', 'feat_17', 'feat_18', 'feat_19',\n",
            "       'feat_20', 'feat_21', 'feat_22', 'feat_23', 'feat_24', 'feat_25',\n",
            "       'feat_26', 'feat_27', 'feat_28', 'feat_29', 'feat_30', 'feat_31',\n",
            "       'feat_32', 'feat_33', 'feat_34', 'feat_35', 'feat_36', 'feat_37',\n",
            "       'feat_38', 'feat_39', 'feat_40', 'feat_41', 'feat_42', 'feat_43',\n",
            "       'feat_44', 'feat_45', 'feat_46', 'feat_47', 'feat_48', 'feat_49',\n",
            "       'feat_50', 'feat_51', 'feat_52', 'feat_53', 'feat_54', 'feat_55',\n",
            "       'feat_56', 'feat_57', 'feat_58', 'feat_59', 'feat_60', 'feat_61',\n",
            "       'feat_62', 'feat_63', 'feat_64', 'feat_65', 'feat_66', 'feat_67',\n",
            "       'feat_68', 'feat_69', 'feat_70', 'feat_71', 'feat_72', 'feat_73',\n",
            "       'feat_74', 'feat_75', 'feat_76', 'feat_77', 'feat_78', 'feat_79',\n",
            "       'feat_80', 'feat_81', 'feat_82', 'feat_83', 'feat_84', 'feat_85',\n",
            "       'feat_86', 'feat_87', 'feat_88', 'feat_89', 'feat_90', 'feat_91',\n",
            "       'feat_92', 'feat_93'],\n",
            "      dtype='object')\n"
          ]
        }
      ]
    },
    {
      "cell_type": "code",
      "source": [
        "#setting the params we found into a variable\n",
        "bestParam = clf.best_params_\n",
        "\n",
        "#creating a new RFC using our bestParam variable\n",
        "bestRFC = RandomForestClassifier(**bestParam)\n",
        "\n",
        "#fitting the new RFC with trainData and trainLabel\n",
        "fitting = bestRFC.fit(trainData, trainLabel)\n",
        "\n",
        "#after doing this we run the prediction CHANGED TO predict_proba to fix an issue when putting it into the dataframe we made.\n",
        "prediction = fitting.predict_proba(testData)\n",
        "\n",
        "#creating a dataframe for the probabilities to see the numeric values since regular printing just gives us the classes\n",
        "predictionDF = pd.DataFrame(prediction, columns = [\"Class_1\", \"Class_2\", \"Class_3\", \"Class_4\", \"Class_5\", \"Class_6\", \"Class_7\", \"Class_8\", \"Class_9\"])\n",
        "#print the head of the new dataframe to see how the prediction for each column looks\n",
        "predictionDF.head()"
      ],
      "metadata": {
        "colab": {
          "base_uri": "https://localhost:8080/",
          "height": 206
        },
        "id": "1HWzljVTztrR",
        "outputId": "14dc4aed-18f8-486f-98a1-51666036a5a5"
      },
      "execution_count": 37,
      "outputs": [
        {
          "output_type": "execute_result",
          "data": {
            "text/plain": [
              "   Class_1  Class_2  Class_3  Class_4  Class_5  Class_6  Class_7  Class_8  \\\n",
              "0    0.015    0.180    0.245    0.465    0.005    0.040    0.025    0.020   \n",
              "1    0.040    0.015    0.015    0.005    0.005    0.485    0.035    0.390   \n",
              "2    0.000    0.005    0.000    0.000    0.000    0.990    0.000    0.000   \n",
              "3    0.005    0.545    0.275    0.080    0.000    0.010    0.010    0.005   \n",
              "4    0.095    0.000    0.005    0.000    0.000    0.025    0.010    0.305   \n",
              "\n",
              "   Class_9  \n",
              "0    0.005  \n",
              "1    0.010  \n",
              "2    0.005  \n",
              "3    0.070  \n",
              "4    0.560  "
            ],
            "text/html": [
              "\n",
              "  <div id=\"df-d8b59a2e-2a2f-4c27-be19-e4c3d3fb1512\">\n",
              "    <div class=\"colab-df-container\">\n",
              "      <div>\n",
              "<style scoped>\n",
              "    .dataframe tbody tr th:only-of-type {\n",
              "        vertical-align: middle;\n",
              "    }\n",
              "\n",
              "    .dataframe tbody tr th {\n",
              "        vertical-align: top;\n",
              "    }\n",
              "\n",
              "    .dataframe thead th {\n",
              "        text-align: right;\n",
              "    }\n",
              "</style>\n",
              "<table border=\"1\" class=\"dataframe\">\n",
              "  <thead>\n",
              "    <tr style=\"text-align: right;\">\n",
              "      <th></th>\n",
              "      <th>Class_1</th>\n",
              "      <th>Class_2</th>\n",
              "      <th>Class_3</th>\n",
              "      <th>Class_4</th>\n",
              "      <th>Class_5</th>\n",
              "      <th>Class_6</th>\n",
              "      <th>Class_7</th>\n",
              "      <th>Class_8</th>\n",
              "      <th>Class_9</th>\n",
              "    </tr>\n",
              "  </thead>\n",
              "  <tbody>\n",
              "    <tr>\n",
              "      <th>0</th>\n",
              "      <td>0.015</td>\n",
              "      <td>0.180</td>\n",
              "      <td>0.245</td>\n",
              "      <td>0.465</td>\n",
              "      <td>0.005</td>\n",
              "      <td>0.040</td>\n",
              "      <td>0.025</td>\n",
              "      <td>0.020</td>\n",
              "      <td>0.005</td>\n",
              "    </tr>\n",
              "    <tr>\n",
              "      <th>1</th>\n",
              "      <td>0.040</td>\n",
              "      <td>0.015</td>\n",
              "      <td>0.015</td>\n",
              "      <td>0.005</td>\n",
              "      <td>0.005</td>\n",
              "      <td>0.485</td>\n",
              "      <td>0.035</td>\n",
              "      <td>0.390</td>\n",
              "      <td>0.010</td>\n",
              "    </tr>\n",
              "    <tr>\n",
              "      <th>2</th>\n",
              "      <td>0.000</td>\n",
              "      <td>0.005</td>\n",
              "      <td>0.000</td>\n",
              "      <td>0.000</td>\n",
              "      <td>0.000</td>\n",
              "      <td>0.990</td>\n",
              "      <td>0.000</td>\n",
              "      <td>0.000</td>\n",
              "      <td>0.005</td>\n",
              "    </tr>\n",
              "    <tr>\n",
              "      <th>3</th>\n",
              "      <td>0.005</td>\n",
              "      <td>0.545</td>\n",
              "      <td>0.275</td>\n",
              "      <td>0.080</td>\n",
              "      <td>0.000</td>\n",
              "      <td>0.010</td>\n",
              "      <td>0.010</td>\n",
              "      <td>0.005</td>\n",
              "      <td>0.070</td>\n",
              "    </tr>\n",
              "    <tr>\n",
              "      <th>4</th>\n",
              "      <td>0.095</td>\n",
              "      <td>0.000</td>\n",
              "      <td>0.005</td>\n",
              "      <td>0.000</td>\n",
              "      <td>0.000</td>\n",
              "      <td>0.025</td>\n",
              "      <td>0.010</td>\n",
              "      <td>0.305</td>\n",
              "      <td>0.560</td>\n",
              "    </tr>\n",
              "  </tbody>\n",
              "</table>\n",
              "</div>\n",
              "      <button class=\"colab-df-convert\" onclick=\"convertToInteractive('df-d8b59a2e-2a2f-4c27-be19-e4c3d3fb1512')\"\n",
              "              title=\"Convert this dataframe to an interactive table.\"\n",
              "              style=\"display:none;\">\n",
              "        \n",
              "  <svg xmlns=\"http://www.w3.org/2000/svg\" height=\"24px\"viewBox=\"0 0 24 24\"\n",
              "       width=\"24px\">\n",
              "    <path d=\"M0 0h24v24H0V0z\" fill=\"none\"/>\n",
              "    <path d=\"M18.56 5.44l.94 2.06.94-2.06 2.06-.94-2.06-.94-.94-2.06-.94 2.06-2.06.94zm-11 1L8.5 8.5l.94-2.06 2.06-.94-2.06-.94L8.5 2.5l-.94 2.06-2.06.94zm10 10l.94 2.06.94-2.06 2.06-.94-2.06-.94-.94-2.06-.94 2.06-2.06.94z\"/><path d=\"M17.41 7.96l-1.37-1.37c-.4-.4-.92-.59-1.43-.59-.52 0-1.04.2-1.43.59L10.3 9.45l-7.72 7.72c-.78.78-.78 2.05 0 2.83L4 21.41c.39.39.9.59 1.41.59.51 0 1.02-.2 1.41-.59l7.78-7.78 2.81-2.81c.8-.78.8-2.07 0-2.86zM5.41 20L4 18.59l7.72-7.72 1.47 1.35L5.41 20z\"/>\n",
              "  </svg>\n",
              "      </button>\n",
              "      \n",
              "  <style>\n",
              "    .colab-df-container {\n",
              "      display:flex;\n",
              "      flex-wrap:wrap;\n",
              "      gap: 12px;\n",
              "    }\n",
              "\n",
              "    .colab-df-convert {\n",
              "      background-color: #E8F0FE;\n",
              "      border: none;\n",
              "      border-radius: 50%;\n",
              "      cursor: pointer;\n",
              "      display: none;\n",
              "      fill: #1967D2;\n",
              "      height: 32px;\n",
              "      padding: 0 0 0 0;\n",
              "      width: 32px;\n",
              "    }\n",
              "\n",
              "    .colab-df-convert:hover {\n",
              "      background-color: #E2EBFA;\n",
              "      box-shadow: 0px 1px 2px rgba(60, 64, 67, 0.3), 0px 1px 3px 1px rgba(60, 64, 67, 0.15);\n",
              "      fill: #174EA6;\n",
              "    }\n",
              "\n",
              "    [theme=dark] .colab-df-convert {\n",
              "      background-color: #3B4455;\n",
              "      fill: #D2E3FC;\n",
              "    }\n",
              "\n",
              "    [theme=dark] .colab-df-convert:hover {\n",
              "      background-color: #434B5C;\n",
              "      box-shadow: 0px 1px 3px 1px rgba(0, 0, 0, 0.15);\n",
              "      filter: drop-shadow(0px 1px 2px rgba(0, 0, 0, 0.3));\n",
              "      fill: #FFFFFF;\n",
              "    }\n",
              "  </style>\n",
              "\n",
              "      <script>\n",
              "        const buttonEl =\n",
              "          document.querySelector('#df-d8b59a2e-2a2f-4c27-be19-e4c3d3fb1512 button.colab-df-convert');\n",
              "        buttonEl.style.display =\n",
              "          google.colab.kernel.accessAllowed ? 'block' : 'none';\n",
              "\n",
              "        async function convertToInteractive(key) {\n",
              "          const element = document.querySelector('#df-d8b59a2e-2a2f-4c27-be19-e4c3d3fb1512');\n",
              "          const dataTable =\n",
              "            await google.colab.kernel.invokeFunction('convertToInteractive',\n",
              "                                                     [key], {});\n",
              "          if (!dataTable) return;\n",
              "\n",
              "          const docLinkHtml = 'Like what you see? Visit the ' +\n",
              "            '<a target=\"_blank\" href=https://colab.research.google.com/notebooks/data_table.ipynb>data table notebook</a>'\n",
              "            + ' to learn more about interactive tables.';\n",
              "          element.innerHTML = '';\n",
              "          dataTable['output_type'] = 'display_data';\n",
              "          await google.colab.output.renderOutput(dataTable, element);\n",
              "          const docLink = document.createElement('div');\n",
              "          docLink.innerHTML = docLinkHtml;\n",
              "          element.appendChild(docLink);\n",
              "        }\n",
              "      </script>\n",
              "    </div>\n",
              "  </div>\n",
              "  "
            ]
          },
          "metadata": {},
          "execution_count": 37
        }
      ]
    },
    {
      "cell_type": "markdown",
      "source": [
        "# Creating the submission file for kaggle"
      ],
      "metadata": {
        "id": "YuMg9L3fREmn"
      }
    },
    {
      "cell_type": "code",
      "source": [
        "predictionDF.to_csv(\"submission2.csv\", sep=\",\", index=False,header=1)"
      ],
      "metadata": {
        "id": "-NTEfqbuRIvu"
      },
      "execution_count": 40,
      "outputs": []
    }
  ]
}